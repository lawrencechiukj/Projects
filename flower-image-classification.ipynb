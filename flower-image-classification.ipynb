{
 "cells": [
  {
   "cell_type": "markdown",
   "metadata": {},
   "source": [
    "# 0. Overview\n",
    "\n",
    "The image dataset contains five different types of flower.<br>\n",
    "This notebook will adopt CNN and ResNet model to do flower image classification.<br>\n",
    "And this notebook is inspired by and modified from deeplearning.ai happyhouse project.<br>\n",
    "\n",
    "#### 1. Load Flower Image Data\n",
    "#### 2. Preprocessing\n",
    "a. Split the dataset to training and validation set<br>\n",
    "b. Onehot encoding target variable<br>\n",
    "c. Image augmentation using Keras<br>\n",
    "#### 3. Build CNN\n",
    "a. Simple baseline ConvNet model without scaling and image augmentation<br>\n",
    "b. Simple baseline ConvNet with scaling and image augmentation<br>\n",
    "c. Residual Network"
   ]
  },
  {
   "cell_type": "markdown",
   "metadata": {},
   "source": [
    "# 1. Load Flower Image Data"
   ]
  },
  {
   "cell_type": "markdown",
   "metadata": {},
   "source": [
    "- create a configure object containing root directory and all necessary subdirectories\n",
    "- images of flowers are stored in five different subfolders under data directory\n",
    "- five subfolders' name are:\n",
    "    1. daisy\n",
    "    2. dandelion\n",
    "    3. rose\n",
    "    4. sunflower\n",
    "    5. tulip"
   ]
  },
  {
   "cell_type": "code",
   "execution_count": 2,
   "metadata": {},
   "outputs": [],
   "source": [
    "class Config:\n",
    "    \n",
    "    root_dir = 'D:\\\\Job\\\\Codes\\\\'\n",
    "    data_dir = root_dir + 'Data\\\\flowers\\\\'\n",
    "    # five subfolders which contain corresponding image of flower are under data_dir\n",
    "\n",
    "config = Config"
   ]
  },
  {
   "cell_type": "code",
   "execution_count": 3,
   "metadata": {},
   "outputs": [],
   "source": [
    "import os\n",
    "import numpy as np\n",
    "from keras.preprocessing import image"
   ]
  },
  {
   "cell_type": "markdown",
   "metadata": {},
   "source": [
    "- Instead of being stored in the same folder, each type of flower image data is stored in corresponding subfolder\n",
    "- So we loop over 5 subfolders to load image data of 5 types of flower,and extract the corresponding label"
   ]
  },
  {
   "cell_type": "code",
   "execution_count": 4,
   "metadata": {},
   "outputs": [],
   "source": [
    "def read_image_as_array(img_resolution):\n",
    "    \n",
    "    \"\"\"\n",
    "    Args:\n",
    "        img_resolution (int): The target size of image.\n",
    "    \n",
    "    Returns:\n",
    "        X (numpy array): A numpy array contains image data in the shape of (example number, img_resolution, img_resolution, 3).\n",
    "        y (numpy array): A numpy 1d array contains image's label index.\n",
    "        label_dict (dict): A dictonary maps flower label index to flower label name.\n",
    "    \"\"\"\n",
    "    \n",
    "    # retain data directory from config\n",
    "    # list all flower subfolders in data directory\n",
    "    data_dir = Config.data_dir\n",
    "    flower_subfolders = os.listdir(data_dir)\n",
    "    \n",
    "    # initialize numpy array to store image data and label\n",
    "    X = np.empty((0, img_resolution, img_resolution, 3))\n",
    "    y = np.empty((0), dtype = 'int')\n",
    "    # create a dictionary to map label index to corresponding label name\n",
    "    label_dict = {}\n",
    "    \n",
    "    # loop over 5 flower subfolders to load image data\n",
    "    for ind, f in enumerate(flower_subfolders):\n",
    "        \n",
    "        flower_subfolders_dir = os.path.join(data_dir, f)\n",
    "        # file length in flower_subfolder is example number of each flower_subfolder\n",
    "        m = len(os.listdir(flower_subfolders_dir))\n",
    "        # initialize numpy array to store data in each flower_subfolder\n",
    "        X_sub = np.empty((m, img_resolution, img_resolution, 3))\n",
    "        \n",
    "        # loop over all images in each flower_subfolder\n",
    "        for i, img in enumerate(os.listdir(flower_subfolders_dir)):\n",
    "            \n",
    "            # load image data with target size img_resolution x img_resolution and convert it to array of shape (img_resolution, img_resolution, 3)\n",
    "            x = image.img_to_array(image.load_img(os.path.join(flower_subfolders_dir, img), target_size = (img_resolution, img_resolution)))\n",
    "            # insert array\n",
    "            X_sub[i, :, :, :] = x\n",
    "        \n",
    "        # store mapping for label index and corresponding label name\n",
    "        label_dict[int(ind)] = f\n",
    "        # populate label index and concatenate 5 subfolders' label index\n",
    "        y = np.concatenate((y, np.array([int(ind)] * m)))\n",
    "        # concatenate 5 subfolders' image data array\n",
    "        X = np.concatenate((X, X_sub))\n",
    "        \n",
    "        print(f, ' Finished')\n",
    "    \n",
    "    return X, y, label_dict"
   ]
  },
  {
   "cell_type": "code",
   "execution_count": 5,
   "metadata": {
    "scrolled": false
   },
   "outputs": [
    {
     "name": "stdout",
     "output_type": "stream",
     "text": [
      "daisy  Finished\n",
      "dandelion  Finished\n",
      "rose  Finished\n",
      "sunflower  Finished\n",
      "tulip  Finished\n"
     ]
    }
   ],
   "source": [
    "# target size 64 to allow image data fit in local memory\n",
    "img_resolution = 64\n",
    "X, y, label_dict = read_image_as_array(img_resolution)"
   ]
  },
  {
   "cell_type": "markdown",
   "metadata": {},
   "source": [
    "- each image is in shape of (img_resolution, img_resolution, 3)"
   ]
  },
  {
   "cell_type": "code",
   "execution_count": 6,
   "metadata": {},
   "outputs": [
    {
     "name": "stdout",
     "output_type": "stream",
     "text": [
      "(64, 64, 3)\n"
     ]
    }
   ],
   "source": [
    "print(X[0].shape)"
   ]
  },
  {
   "cell_type": "markdown",
   "metadata": {},
   "source": [
    "- there are 4323 images in total"
   ]
  },
  {
   "cell_type": "code",
   "execution_count": 7,
   "metadata": {},
   "outputs": [
    {
     "name": "stdout",
     "output_type": "stream",
     "text": [
      "Image Number: 4323\n"
     ]
    }
   ],
   "source": [
    "print('Image Number: {}'.format(X.shape[0]))"
   ]
  },
  {
   "cell_type": "markdown",
   "metadata": {},
   "source": [
    "- number of 5 flower types' image"
   ]
  },
  {
   "cell_type": "code",
   "execution_count": 8,
   "metadata": {},
   "outputs": [
    {
     "name": "stdout",
     "output_type": "stream",
     "text": [
      "daisy         769      18%\n",
      "dandelion     1052     24%\n",
      "rose          784      18%\n",
      "sunflower     734      17%\n",
      "tulip         984      23%\n"
     ]
    }
   ],
   "source": [
    "for label_index in np.unique(y, return_counts = True)[0]:\n",
    "    \n",
    "    print('{0:<9} {1:^12} {2:.0%}'.format(label_dict[label_index],\n",
    "                                          np.unique(y, return_counts = True)[1][label_index],\n",
    "                                          round(np.unique(y, return_counts = True)[1][label_index] / y.shape[0], 2)))"
   ]
  },
  {
   "cell_type": "markdown",
   "metadata": {},
   "source": [
    "- image example"
   ]
  },
  {
   "cell_type": "code",
   "execution_count": 9,
   "metadata": {},
   "outputs": [],
   "source": [
    "%matplotlib inline\n",
    "import matplotlib.pyplot as plt\n",
    "\n",
    "def plot_image(X, y, index, label_dict):\n",
    "    \n",
    "    \"\"\"\n",
    "    Args:\n",
    "        X (numpy array): A numpy array contains image data in the shape of (example number, img_resolution, img_resolution, 3).\n",
    "        y (numpy array): A numpy 1d array contains image's label index.\n",
    "        index (int): A integer index of X to be plotted.\n",
    "        label_dict (dict): A dictonary maps flower label index to flower label name.\n",
    "    \n",
    "    Returns:\n",
    "        None\n",
    "    \"\"\"\n",
    "    \n",
    "    image = X[index, :, :, :].astype('int32')\n",
    "    plt.imshow(image)\n",
    "    print('The flower is: ', label_dict[y[index]])"
   ]
  },
  {
   "cell_type": "code",
   "execution_count": 10,
   "metadata": {},
   "outputs": [
    {
     "name": "stdout",
     "output_type": "stream",
     "text": [
      "The flower is:  dandelion\n"
     ]
    },
    {
     "data": {
      "image/png": "[encoded data removed]",
      "text/plain": [
       "<Figure size 432x288 with 1 Axes>"
      ]
     },
     "metadata": {
      "needs_background": "light"
     },
     "output_type": "display_data"
    }
   ],
   "source": [
    "plot_image(X, y, 1100, label_dict)"
   ]
  },
  {
   "cell_type": "markdown",
   "metadata": {},
   "source": [
    "# 2. Preprocessing"
   ]
  },
  {
   "cell_type": "markdown",
   "metadata": {},
   "source": [
    "### a. Split the dataset to training and validation set"
   ]
  },
  {
   "cell_type": "code",
   "execution_count": 11,
   "metadata": {},
   "outputs": [],
   "source": [
    "from sklearn.model_selection import train_test_split"
   ]
  },
  {
   "cell_type": "markdown",
   "metadata": {},
   "source": [
    "- split to 70% training and 30% validation with stratified sampling"
   ]
  },
  {
   "cell_type": "code",
   "execution_count": 12,
   "metadata": {},
   "outputs": [],
   "source": [
    "X_train, X_val, y_train, y_val = train_test_split(X, y, \n",
    "                                                  test_size = 0.3, \n",
    "                                                  stratify = y,\n",
    "                                                  random_state = 1)"
   ]
  },
  {
   "cell_type": "markdown",
   "metadata": {},
   "source": [
    "- example number"
   ]
  },
  {
   "cell_type": "code",
   "execution_count": 13,
   "metadata": {},
   "outputs": [
    {
     "name": "stdout",
     "output_type": "stream",
     "text": [
      "Training Set Number: 3026\n",
      "Validation Set Number: 1297\n"
     ]
    }
   ],
   "source": [
    "print('Training Set Number: {}'.format(X_train.shape[0]))\n",
    "print('Validation Set Number: {}'.format(X_val.shape[0]))"
   ]
  },
  {
   "cell_type": "markdown",
   "metadata": {},
   "source": [
    "- make sure target variable distrubtion for training set and validation set is the same\n",
    "- there is no label imbalance problem"
   ]
  },
  {
   "cell_type": "code",
   "execution_count": 14,
   "metadata": {},
   "outputs": [
    {
     "name": "stdout",
     "output_type": "stream",
     "text": [
      "Training set target variable label weights: \n",
      "\n",
      "daisy          18%\n",
      "dandelion      24%\n",
      "rose           18%\n",
      "sunflower      17%\n",
      "tulip          23%\n",
      "\n",
      "Validation set target variable label weights: \n",
      "\n",
      "daisy          18%\n",
      "dandelion      24%\n",
      "rose           18%\n",
      "sunflower      17%\n",
      "tulip          23%\n"
     ]
    }
   ],
   "source": [
    "print('Training set target variable label weights: \\n')\n",
    "for label_index in np.unique(y_train, return_counts = True)[0]:\n",
    "    \n",
    "    print('{0:<14} {1:.0%}'.format(label_dict[label_index], \n",
    "                                   round(np.unique(y_train, return_counts = True)[1][label_index] / y_train.shape[0], 2)))\n",
    "    \n",
    "print('\\nValidation set target variable label weights: \\n')\n",
    "for label_index in np.unique(y_val, return_counts = True)[0]:\n",
    "    \n",
    "    print('{0:<14} {1:.0%}'.format(label_dict[label_index], \n",
    "                                   round(np.unique(y_val, return_counts = True)[1][label_index] / y_val.shape[0], 2)))"
   ]
  },
  {
   "cell_type": "markdown",
   "metadata": {},
   "source": [
    "- b. Onehot encoding target variable"
   ]
  },
  {
   "cell_type": "code",
   "execution_count": 15,
   "metadata": {},
   "outputs": [],
   "source": [
    "from keras.utils import to_categorical"
   ]
  },
  {
   "cell_type": "code",
   "execution_count": 16,
   "metadata": {},
   "outputs": [],
   "source": [
    "y_train_oh = to_categorical(y_train)\n",
    "y_val_oh = to_categorical(y_val)"
   ]
  },
  {
   "cell_type": "markdown",
   "metadata": {},
   "source": [
    "- target variable is onehot encoded to 5 dimension"
   ]
  },
  {
   "cell_type": "code",
   "execution_count": 17,
   "metadata": {},
   "outputs": [
    {
     "name": "stdout",
     "output_type": "stream",
     "text": [
      "(3026,)\n",
      "(3026, 5)\n"
     ]
    }
   ],
   "source": [
    "print(y_train.shape)\n",
    "print(y_train_oh.shape)"
   ]
  },
  {
   "cell_type": "code",
   "execution_count": 18,
   "metadata": {},
   "outputs": [
    {
     "name": "stdout",
     "output_type": "stream",
     "text": [
      "(1297,)\n",
      "(1297, 5)\n"
     ]
    }
   ],
   "source": [
    "print(y_val.shape)\n",
    "print(y_val_oh.shape)"
   ]
  },
  {
   "cell_type": "markdown",
   "metadata": {},
   "source": [
    "### Image augmentation using Keras"
   ]
  },
  {
   "cell_type": "markdown",
   "metadata": {},
   "source": [
    "- image augmentation could be used to create more training examples by shifting, rotating, or chaning color of images, and then help the model to reduce variance\n",
    "- use Keras ImageDataGenerator to create a generator which could be passed into Keras model and fit the augmented training images to the model directly\n",
    "- for validation data, we only scale the image data without any augmentation"
   ]
  },
  {
   "cell_type": "code",
   "execution_count": 19,
   "metadata": {},
   "outputs": [],
   "source": [
    "datagen = image.ImageDataGenerator(width_shift_range = 0.1,\n",
    "                                   height_shift_range = 0.1,\n",
    "                                   rotation_range = 10,\n",
    "                                   horizontal_flip = True,\n",
    "                                   rescale = 1. / 255)\n",
    "\n",
    "datagen_val = image.ImageDataGenerator(rescale = 1. / 255)"
   ]
  },
  {
   "cell_type": "markdown",
   "metadata": {},
   "source": [
    "# 3. Build CNN"
   ]
  },
  {
   "cell_type": "code",
   "execution_count": 20,
   "metadata": {},
   "outputs": [],
   "source": [
    "from keras.layers import Conv2D, BatchNormalization, Activation, Dense, Input, MaxPool2D, Flatten, Add\n",
    "from keras.models import Model\n",
    "from keras import optimizers, initializers\n",
    "from keras import regularizers"
   ]
  },
  {
   "cell_type": "markdown",
   "metadata": {},
   "source": [
    "### a. Simple baseline ConvNet without scaling and image augmentation"
   ]
  },
  {
   "cell_type": "markdown",
   "metadata": {},
   "source": [
    "- first start from a simple network without residual block and without any image augmentation\n",
    "- in general, the deeper the Covnet, the size of featured picture will be smaller whereas the channel number will be more."
   ]
  },
  {
   "cell_type": "code",
   "execution_count": 21,
   "metadata": {},
   "outputs": [],
   "source": [
    "def CovNet(input_shape, n_classes):\n",
    "    \n",
    "    \"\"\"\n",
    "    Args:\n",
    "        input_shape (tuple): The input shape of one single image.\n",
    "        n_classes (int): The dimension of target variable.\n",
    "    Return:\n",
    "        model (keras model): A keras CNN model.\n",
    "    \n",
    "    \"\"\"\n",
    "    \n",
    "    # use keras input layer, shape should be (resolution, resolution, 3)\n",
    "    Input_layer = Input(shape = input_shape)\n",
    "    \n",
    "    # first Conv layer with same paddind and batchnorm\n",
    "    X = Conv2D(kernel_size = 4, padding = 'same', strides = 1, filters = 4, kernel_initializer = initializers.glorot_uniform(seed = 1))(Input_layer)\n",
    "    X = BatchNormalization()(X)\n",
    "    X = Activation('relu')(X)\n",
    "    \n",
    "    # second Conv layer: decrease picture size from 64 to 25, and have 16 channels\n",
    "    X = Conv2D(kernel_size = 16, padding = 'valid', strides = 2, filters = 16, kernel_initializer = initializers.glorot_uniform(seed = 1))(X)\n",
    "    X = BatchNormalization()(X)\n",
    "    X = Activation('relu')(X)\n",
    "    \n",
    "    # add pooling layer to extract some possible features\n",
    "    # reduce size from 25 to 16\n",
    "    X = MaxPool2D(pool_size = 10, strides = 1)(X)\n",
    "    \n",
    "    # fully connected layer and output layer with softmax activation\n",
    "    X = Flatten()(X)    \n",
    "    X = Dense(n_classes)(X)\n",
    "    Output_layer = Activation('softmax')(X)\n",
    "    \n",
    "    # input and output for model\n",
    "    model = Model(inputs = Input_layer, outputs = Output_layer)\n",
    "    print(model.summary())\n",
    "    # call the adam optimizer\n",
    "    opt = optimizers.Adam(lr = adam_opt_param.learning_rate, \n",
    "                          beta_1 = adam_opt_param.beta_1, \n",
    "                          beta_2 = adam_opt_param.beta_2, \n",
    "                          epsilon = adam_opt_param.epsilon)\n",
    "    # model to compile all\n",
    "    model.compile(loss = 'categorical_crossentropy', optimizer = opt, metrics = ['categorical_accuracy'])\n",
    "    \n",
    "    return model\n",
    "    "
   ]
  },
  {
   "cell_type": "markdown",
   "metadata": {},
   "source": [
    "- hyper-parameters for Adam optimizer"
   ]
  },
  {
   "cell_type": "code",
   "execution_count": 22,
   "metadata": {},
   "outputs": [],
   "source": [
    "class adam_opt_param:\n",
    "    \n",
    "    learning_rate = 0.001\n",
    "    beta_1 = 0.9\n",
    "    beta_2 = 0.999 \n",
    "    epsilon = 10**-8"
   ]
  },
  {
   "cell_type": "markdown",
   "metadata": {},
   "source": [
    "- model summary"
   ]
  },
  {
   "cell_type": "code",
   "execution_count": 23,
   "metadata": {
    "scrolled": false
   },
   "outputs": [
    {
     "name": "stdout",
     "output_type": "stream",
     "text": [
      "_________________________________________________________________\n",
      "Layer (type)                 Output Shape              Param #   \n",
      "=================================================================\n",
      "input_1 (InputLayer)         (None, 64, 64, 3)         0         \n",
      "_________________________________________________________________\n",
      "conv2d_1 (Conv2D)            (None, 64, 64, 4)         196       \n",
      "_________________________________________________________________\n",
      "batch_normalization_1 (Batch (None, 64, 64, 4)         16        \n",
      "_________________________________________________________________\n",
      "activation_1 (Activation)    (None, 64, 64, 4)         0         \n",
      "_________________________________________________________________\n",
      "conv2d_2 (Conv2D)            (None, 25, 25, 16)        16400     \n",
      "_________________________________________________________________\n",
      "batch_normalization_2 (Batch (None, 25, 25, 16)        64        \n",
      "_________________________________________________________________\n",
      "activation_2 (Activation)    (None, 25, 25, 16)        0         \n",
      "_________________________________________________________________\n",
      "max_pooling2d_1 (MaxPooling2 (None, 16, 16, 16)        0         \n",
      "_________________________________________________________________\n",
      "flatten_1 (Flatten)          (None, 4096)              0         \n",
      "_________________________________________________________________\n",
      "dense_1 (Dense)              (None, 5)                 20485     \n",
      "_________________________________________________________________\n",
      "activation_3 (Activation)    (None, 5)                 0         \n",
      "=================================================================\n",
      "Total params: 37,161\n",
      "Trainable params: 37,121\n",
      "Non-trainable params: 40\n",
      "_________________________________________________________________\n",
      "None\n"
     ]
    }
   ],
   "source": [
    "input_shape = X_train[0].shape\n",
    "n_classes = y_train_oh.shape[1]\n",
    "\n",
    "model_baseline = CovNet(input_shape, n_classes)"
   ]
  },
  {
   "cell_type": "markdown",
   "metadata": {},
   "source": [
    "- fit the model with data without augmentation"
   ]
  },
  {
   "cell_type": "code",
   "execution_count": 24,
   "metadata": {
    "scrolled": true
   },
   "outputs": [
    {
     "name": "stdout",
     "output_type": "stream",
     "text": [
      "Train on 3026 samples, validate on 1297 samples\n",
      "Epoch 1/30\n",
      " - 5s - loss: 2.0584 - categorical_accuracy: 0.3361 - val_loss: 1.3567 - val_categorical_accuracy: 0.4426\n",
      "Epoch 2/30\n",
      " - 3s - loss: 1.2953 - categorical_accuracy: 0.4699 - val_loss: 1.4070 - val_categorical_accuracy: 0.4364\n",
      "Epoch 3/30\n",
      " - 3s - loss: 1.1795 - categorical_accuracy: 0.5416 - val_loss: 1.1707 - val_categorical_accuracy: 0.5359\n",
      "Epoch 4/30\n",
      " - 3s - loss: 1.0867 - categorical_accuracy: 0.5747 - val_loss: 1.1586 - val_categorical_accuracy: 0.5698\n",
      "Epoch 5/30\n",
      " - 4s - loss: 1.1065 - categorical_accuracy: 0.5876 - val_loss: 1.1981 - val_categorical_accuracy: 0.5482\n",
      "Epoch 6/30\n",
      " - 3s - loss: 0.9906 - categorical_accuracy: 0.6295 - val_loss: 1.1878 - val_categorical_accuracy: 0.5829\n",
      "Epoch 7/30\n",
      " - 3s - loss: 0.9286 - categorical_accuracy: 0.6517 - val_loss: 1.4898 - val_categorical_accuracy: 0.4765\n",
      "Epoch 8/30\n",
      " - 3s - loss: 0.8965 - categorical_accuracy: 0.6662 - val_loss: 0.9868 - val_categorical_accuracy: 0.6307\n",
      "Epoch 9/30\n",
      " - 3s - loss: 0.7984 - categorical_accuracy: 0.7003 - val_loss: 0.9587 - val_categorical_accuracy: 0.6484\n",
      "Epoch 10/30\n",
      " - 3s - loss: 0.8000 - categorical_accuracy: 0.7029 - val_loss: 1.2787 - val_categorical_accuracy: 0.5590\n",
      "Epoch 11/30\n",
      " - 3s - loss: 0.8096 - categorical_accuracy: 0.7056 - val_loss: 1.4577 - val_categorical_accuracy: 0.5436\n",
      "Epoch 12/30\n",
      " - 3s - loss: 0.6596 - categorical_accuracy: 0.7479 - val_loss: 0.9723 - val_categorical_accuracy: 0.6423\n",
      "Epoch 13/30\n",
      " - 3s - loss: 0.5693 - categorical_accuracy: 0.7987 - val_loss: 1.3634 - val_categorical_accuracy: 0.5705\n",
      "Epoch 14/30\n",
      " - 4s - loss: 0.5759 - categorical_accuracy: 0.7895 - val_loss: 1.6565 - val_categorical_accuracy: 0.5513\n",
      "Epoch 15/30\n",
      " - 3s - loss: 0.5050 - categorical_accuracy: 0.8215 - val_loss: 1.2675 - val_categorical_accuracy: 0.5975\n",
      "Epoch 16/30\n",
      " - 3s - loss: 0.5032 - categorical_accuracy: 0.8120 - val_loss: 1.4075 - val_categorical_accuracy: 0.5960\n",
      "Epoch 17/30\n",
      " - 3s - loss: 0.3434 - categorical_accuracy: 0.8784 - val_loss: 1.3851 - val_categorical_accuracy: 0.6014\n",
      "Epoch 18/30\n",
      " - 3s - loss: 0.3381 - categorical_accuracy: 0.8800 - val_loss: 1.2636 - val_categorical_accuracy: 0.6338\n",
      "Epoch 19/30\n",
      " - 3s - loss: 0.2804 - categorical_accuracy: 0.9009 - val_loss: 2.5341 - val_categorical_accuracy: 0.4911\n",
      "Epoch 20/30\n",
      " - 3s - loss: 0.3455 - categorical_accuracy: 0.8731 - val_loss: 1.5936 - val_categorical_accuracy: 0.5983\n",
      "Epoch 21/30\n",
      " - 3s - loss: 0.2970 - categorical_accuracy: 0.8926 - val_loss: 2.1508 - val_categorical_accuracy: 0.5220\n",
      "Epoch 22/30\n",
      " - 3s - loss: 0.3195 - categorical_accuracy: 0.8946 - val_loss: 1.7454 - val_categorical_accuracy: 0.5775\n",
      "Epoch 23/30\n",
      " - 3s - loss: 0.3091 - categorical_accuracy: 0.8926 - val_loss: 1.5867 - val_categorical_accuracy: 0.6160\n",
      "Epoch 24/30\n",
      " - 3s - loss: 0.1572 - categorical_accuracy: 0.9488 - val_loss: 1.7926 - val_categorical_accuracy: 0.5914\n",
      "Epoch 25/30\n",
      " - 3s - loss: 0.1121 - categorical_accuracy: 0.9653 - val_loss: 2.4458 - val_categorical_accuracy: 0.4934\n",
      "Epoch 26/30\n",
      " - 3s - loss: 0.1350 - categorical_accuracy: 0.9544 - val_loss: 1.5499 - val_categorical_accuracy: 0.6222\n",
      "Epoch 27/30\n",
      " - 3s - loss: 0.2071 - categorical_accuracy: 0.9326 - val_loss: 2.1403 - val_categorical_accuracy: 0.5667\n",
      "Epoch 28/30\n",
      " - 3s - loss: 0.0802 - categorical_accuracy: 0.9752 - val_loss: 1.5987 - val_categorical_accuracy: 0.6353\n",
      "Epoch 29/30\n",
      " - 3s - loss: 0.0684 - categorical_accuracy: 0.9805 - val_loss: 1.7417 - val_categorical_accuracy: 0.6060\n",
      "Epoch 30/30\n",
      " - 3s - loss: 0.1071 - categorical_accuracy: 0.9666 - val_loss: 2.2168 - val_categorical_accuracy: 0.5891\n"
     ]
    }
   ],
   "source": [
    "epochs = 30\n",
    "batch_size = 32\n",
    "\n",
    "history_baseline = model_baseline.fit(x = X_train, y = y_train_oh,\n",
    "                                      epochs = epochs,\n",
    "                                      batch_size = batch_size,\n",
    "                                      validation_data = (X_val, y_val_oh),\n",
    "                                      verbose = 2)"
   ]
  },
  {
   "cell_type": "markdown",
   "metadata": {},
   "source": [
    "- plot and observe training and validation error to reduce bias or variance"
   ]
  },
  {
   "cell_type": "code",
   "execution_count": 25,
   "metadata": {},
   "outputs": [],
   "source": [
    "def plot_metric_loss(history, metrics):\n",
    "    \n",
    "    \"\"\"\n",
    "    Args:\n",
    "        history (keras history): The output history of a keras model\n",
    "        metrics (str): The metrics used in the fitted keras model\n",
    "    \n",
    "    Returns:\n",
    "        None\n",
    "    \"\"\"\n",
    "    \n",
    "    fig, (ax1, ax2) = plt.subplots(1, 2, figsize = (8, 6))\n",
    "    \n",
    "    ax1.plot(history.history[metrics])\n",
    "    ax1.plot(history.history['val_' + metrics])\n",
    "    ax1.set_title('Model Accuracy')\n",
    "    ax1.set_xlabel('Epoch')\n",
    "    ax1.set_ylabel('Accuracy')\n",
    "    ax1.legend(['Train', 'Val'], loc = 'upper left')\n",
    "    \n",
    "    ax2.plot(history.history['loss'])\n",
    "    ax2.plot(history.history['val_loss'])\n",
    "    ax2.set_title('Model Loss')\n",
    "    ax2.set_xlabel('Epoch')\n",
    "    ax2.set_ylabel('Loss')\n",
    "    ax2.legend(['Train', 'Val'], loc = 'upper left')\n",
    "    \n",
    "    plt.show()"
   ]
  },
  {
   "cell_type": "markdown",
   "metadata": {},
   "source": [
    "- We could observe that the model is overfitting after 10 epochs since the validation error keeps rising while training error keeps reducing to almost 0.\n",
    "- The solution for overfitting are\n",
    "    1. Searching for better network structure or hyper-parameters\n",
    "    2. Collecting more data\n",
    "    3. Adding more regularization"
   ]
  },
  {
   "cell_type": "code",
   "execution_count": 26,
   "metadata": {},
   "outputs": [
    {
     "data": {
      "image/png": "[encoded data removed]",
      "text/plain": [
       "<Figure size 576x432 with 2 Axes>"
      ]
     },
     "metadata": {
      "needs_background": "light"
     },
     "output_type": "display_data"
    }
   ],
   "source": [
    "plot_metric_loss(history_baseline, 'categorical_accuracy')"
   ]
  },
  {
   "cell_type": "markdown",
   "metadata": {},
   "source": [
    "### b. Simple baseline ConvNet with scaling and image augmentation"
   ]
  },
  {
   "cell_type": "markdown",
   "metadata": {},
   "source": [
    "- Since the baseline has high variance problem, we use image augmentation to generate more variant images\n",
    "- The way to implement this is to pass keras imagedatagenerator directly to model"
   ]
  },
  {
   "cell_type": "code",
   "execution_count": 27,
   "metadata": {},
   "outputs": [
    {
     "name": "stdout",
     "output_type": "stream",
     "text": [
      "_________________________________________________________________\n",
      "Layer (type)                 Output Shape              Param #   \n",
      "=================================================================\n",
      "input_2 (InputLayer)         (None, 64, 64, 3)         0         \n",
      "_________________________________________________________________\n",
      "conv2d_3 (Conv2D)            (None, 64, 64, 4)         196       \n",
      "_________________________________________________________________\n",
      "batch_normalization_3 (Batch (None, 64, 64, 4)         16        \n",
      "_________________________________________________________________\n",
      "activation_4 (Activation)    (None, 64, 64, 4)         0         \n",
      "_________________________________________________________________\n",
      "conv2d_4 (Conv2D)            (None, 25, 25, 16)        16400     \n",
      "_________________________________________________________________\n",
      "batch_normalization_4 (Batch (None, 25, 25, 16)        64        \n",
      "_________________________________________________________________\n",
      "activation_5 (Activation)    (None, 25, 25, 16)        0         \n",
      "_________________________________________________________________\n",
      "max_pooling2d_2 (MaxPooling2 (None, 16, 16, 16)        0         \n",
      "_________________________________________________________________\n",
      "flatten_2 (Flatten)          (None, 4096)              0         \n",
      "_________________________________________________________________\n",
      "dense_2 (Dense)              (None, 5)                 20485     \n",
      "_________________________________________________________________\n",
      "activation_6 (Activation)    (None, 5)                 0         \n",
      "=================================================================\n",
      "Total params: 37,161\n",
      "Trainable params: 37,121\n",
      "Non-trainable params: 40\n",
      "_________________________________________________________________\n",
      "None\n"
     ]
    }
   ],
   "source": [
    "model_aug = CovNet(input_shape, n_classes)"
   ]
  },
  {
   "cell_type": "markdown",
   "metadata": {},
   "source": [
    "- fit the model with image augmentation using keras imagedatagenerator"
   ]
  },
  {
   "cell_type": "code",
   "execution_count": 28,
   "metadata": {
    "scrolled": true
   },
   "outputs": [
    {
     "name": "stdout",
     "output_type": "stream",
     "text": [
      "Epoch 1/30\n",
      " - 4s - loss: 1.6505 - categorical_accuracy: 0.3700 - val_loss: 1.4258 - val_categorical_accuracy: 0.4742\n",
      "Epoch 2/30\n",
      " - 3s - loss: 1.3285 - categorical_accuracy: 0.4463 - val_loss: 1.3711 - val_categorical_accuracy: 0.4609\n",
      "Epoch 3/30\n",
      " - 3s - loss: 1.2146 - categorical_accuracy: 0.5181 - val_loss: 1.3176 - val_categorical_accuracy: 0.4783\n",
      "Epoch 4/30\n",
      " - 3s - loss: 1.2276 - categorical_accuracy: 0.5368 - val_loss: 1.3734 - val_categorical_accuracy: 0.5012\n",
      "Epoch 5/30\n",
      " - 3s - loss: 1.1213 - categorical_accuracy: 0.5646 - val_loss: 1.0073 - val_categorical_accuracy: 0.6126\n",
      "Epoch 6/30\n",
      " - 3s - loss: 1.1195 - categorical_accuracy: 0.5602 - val_loss: 1.0522 - val_categorical_accuracy: 0.5960\n",
      "Epoch 7/30\n",
      " - 3s - loss: 1.0420 - categorical_accuracy: 0.5989 - val_loss: 1.0551 - val_categorical_accuracy: 0.6055\n",
      "Epoch 8/30\n",
      " - 3s - loss: 0.9866 - categorical_accuracy: 0.6236 - val_loss: 0.9317 - val_categorical_accuracy: 0.6522\n",
      "Epoch 9/30\n",
      " - 3s - loss: 0.9936 - categorical_accuracy: 0.6174 - val_loss: 1.1420 - val_categorical_accuracy: 0.5905\n",
      "Epoch 10/30\n",
      " - 3s - loss: 1.0149 - categorical_accuracy: 0.6082 - val_loss: 1.0929 - val_categorical_accuracy: 0.6024\n",
      "Epoch 11/30\n",
      " - 3s - loss: 0.9621 - categorical_accuracy: 0.6405 - val_loss: 0.9011 - val_categorical_accuracy: 0.6561\n",
      "Epoch 12/30\n",
      " - 3s - loss: 0.9950 - categorical_accuracy: 0.6186 - val_loss: 1.1507 - val_categorical_accuracy: 0.5605\n",
      "Epoch 13/30\n",
      " - 3s - loss: 0.9375 - categorical_accuracy: 0.6376 - val_loss: 0.8461 - val_categorical_accuracy: 0.6719\n",
      "Epoch 14/30\n",
      " - 3s - loss: 0.9565 - categorical_accuracy: 0.6383 - val_loss: 1.0293 - val_categorical_accuracy: 0.6126\n",
      "Epoch 15/30\n",
      " - 3s - loss: 0.8630 - categorical_accuracy: 0.6703 - val_loss: 1.1936 - val_categorical_accuracy: 0.5628\n",
      "Epoch 16/30\n",
      " - 3s - loss: 0.9143 - categorical_accuracy: 0.6510 - val_loss: 1.2582 - val_categorical_accuracy: 0.5636\n",
      "Epoch 17/30\n",
      " - 3s - loss: 0.9140 - categorical_accuracy: 0.6613 - val_loss: 1.2236 - val_categorical_accuracy: 0.5644\n",
      "Epoch 18/30\n",
      " - 3s - loss: 0.9100 - categorical_accuracy: 0.6466 - val_loss: 0.9257 - val_categorical_accuracy: 0.6498\n",
      "Epoch 19/30\n",
      " - 3s - loss: 0.8823 - categorical_accuracy: 0.6579 - val_loss: 1.1559 - val_categorical_accuracy: 0.5834\n",
      "Epoch 20/30\n",
      " - 3s - loss: 0.8657 - categorical_accuracy: 0.6725 - val_loss: 1.2503 - val_categorical_accuracy: 0.5462\n",
      "Epoch 21/30\n",
      " - 3s - loss: 0.9148 - categorical_accuracy: 0.6621 - val_loss: 1.2295 - val_categorical_accuracy: 0.5889\n",
      "Epoch 22/30\n",
      " - 3s - loss: 0.8617 - categorical_accuracy: 0.6766 - val_loss: 1.0548 - val_categorical_accuracy: 0.5913\n",
      "Epoch 23/30\n",
      " - 3s - loss: 0.8356 - categorical_accuracy: 0.6836 - val_loss: 0.9182 - val_categorical_accuracy: 0.6443\n",
      "Epoch 24/30\n",
      " - 3s - loss: 0.9201 - categorical_accuracy: 0.6501 - val_loss: 0.9072 - val_categorical_accuracy: 0.6577\n",
      "Epoch 25/30\n",
      " - 3s - loss: 0.8473 - categorical_accuracy: 0.6783 - val_loss: 1.0266 - val_categorical_accuracy: 0.6261\n",
      "Epoch 26/30\n",
      " - 3s - loss: 0.8830 - categorical_accuracy: 0.6699 - val_loss: 0.8839 - val_categorical_accuracy: 0.6893\n",
      "Epoch 27/30\n",
      " - 3s - loss: 0.8103 - categorical_accuracy: 0.6916 - val_loss: 1.2567 - val_categorical_accuracy: 0.5810\n",
      "Epoch 28/30\n",
      " - 3s - loss: 0.8279 - categorical_accuracy: 0.6926 - val_loss: 0.8323 - val_categorical_accuracy: 0.7028\n",
      "Epoch 29/30\n",
      " - 3s - loss: 0.7998 - categorical_accuracy: 0.6984 - val_loss: 0.8814 - val_categorical_accuracy: 0.6743\n",
      "Epoch 30/30\n",
      " - 3s - loss: 0.8359 - categorical_accuracy: 0.6949 - val_loss: 0.8145 - val_categorical_accuracy: 0.6964\n"
     ]
    }
   ],
   "source": [
    "epochs = 30\n",
    "batch_size = 32\n",
    "\n",
    "history_aug = model_aug.fit_generator(generator = datagen.flow(x = X_train, y = y_train_oh, batch_size = batch_size),\n",
    "                                      steps_per_epoch = X_train.shape[0] // batch_size,\n",
    "                                      epochs = epochs,\n",
    "                                      validation_data = datagen_val.flow(x = X_val, y = y_val_oh, batch_size = batch_size),\n",
    "                                      validation_steps = X_val.shape[0] // batch_size,\n",
    "                                      verbose = 2)"
   ]
  },
  {
   "cell_type": "code",
   "execution_count": 29,
   "metadata": {},
   "outputs": [
    {
     "data": {
      "image/png": "[encoded data removed]",
      "text/plain": [
       "<Figure size 576x432 with 2 Axes>"
      ]
     },
     "metadata": {
      "needs_background": "light"
     },
     "output_type": "display_data"
    }
   ],
   "source": [
    "plot_metric_loss(history_aug, 'categorical_accuracy')"
   ]
  },
  {
   "cell_type": "markdown",
   "metadata": {},
   "source": [
    "- you could now see that after image augmentation, the high variance problem is well handled\n",
    "- but image augmentation also cause high bias problem as our training accuracy is only 69%\n",
    "- The solution for underfitting are\n",
    "    1. Building a deeper network\n",
    "    2. Training longer\n",
    "    3. Searching for better network structure or hyper-parameters"
   ]
  },
  {
   "cell_type": "markdown",
   "metadata": {},
   "source": [
    "### c. Residual Network"
   ]
  },
  {
   "cell_type": "markdown",
   "metadata": {},
   "source": [
    "- here we will try to build a deeper network to solve high bias problem\n",
    "- but deeper network usually causes gradient exploding / vanishing problem\n",
    "- as a result, we will adopt residual blocks in our model to build ResNet to solve gradient exploding / vanishing problem"
   ]
  },
  {
   "cell_type": "markdown",
   "metadata": {},
   "source": [
    "- identity block: The retained shortcut tensor is in the same size of final component tensor of the main path"
   ]
  },
  {
   "cell_type": "code",
   "execution_count": 30,
   "metadata": {},
   "outputs": [],
   "source": [
    "def identity_block(X, f, filters):\n",
    "    \n",
    "    \"\"\"\n",
    "    Args:\n",
    "        X (keras model tensor): A keras tensor contains previous network.\n",
    "        f (int): A int to decide the kernel size of the same padding conv2d layer.\n",
    "        filters (list): A list contain filter number of all three conv2d layers.\n",
    "    \n",
    "    Returns:\n",
    "        X (keras model tensor): A keras tensor with identity block.\n",
    "    \"\"\"\n",
    "    \n",
    "    # retrieve filter number\n",
    "    F1, F2, F3 = filters\n",
    "    \n",
    "    # retain X\n",
    "    X_shortcut = X\n",
    "    \n",
    "    # First component of main path\n",
    "    X = Conv2D(kernel_size = 1, padding = 'valid', strides = 1, filters = F1, kernel_initializer = initializers.uniform(seed = 1))(X)\n",
    "    X = BatchNormalization()(X)\n",
    "    X = Activation('relu')(X)\n",
    "    \n",
    "    # Second component of main path\n",
    "    X = Conv2D(kernel_size = f, padding = 'same', strides = 1, filters = F2, kernel_initializer = initializers.uniform(seed = 1))(X)\n",
    "    X = BatchNormalization()(X)\n",
    "    X = Activation('relu')(X)\n",
    "    \n",
    "    # Third component of main path\n",
    "    X = Conv2D(kernel_size = 1, padding = 'valid', strides = 1, filters = F3, kernel_initializer = initializers.uniform(seed = 1))(X)\n",
    "    X = BatchNormalization()(X)\n",
    "\n",
    "    # Final step: Add shortcut value to main path, and pass it through a RELU activation\n",
    "    X = Add()([X, X_shortcut])\n",
    "    X = Activation('relu')(X)\n",
    "    \n",
    "    return X"
   ]
  },
  {
   "cell_type": "markdown",
   "metadata": {},
   "source": [
    "- convolutional block: The retained shortcut tensor needs one more Conv2D to be transformed to the same size of final component tensor of the main path"
   ]
  },
  {
   "cell_type": "code",
   "execution_count": 31,
   "metadata": {},
   "outputs": [],
   "source": [
    "def convolutional_block(X, f, filters, s = 2):\n",
    "    \n",
    "    \"\"\"\n",
    "    Args:\n",
    "        X (keras model tensor): A keras tensor contains previous network.\n",
    "        f (int): A int to decide the kernel size of the same padding conv2d layer.\n",
    "        filters (list): A list contain filter number of all three conv2d layers.\n",
    "        s (int): A int to decide the stride step of the first component of main path.\n",
    "    \n",
    "    Returns:\n",
    "        X (keras model tensor): A keras tensor with convolutional block.\n",
    "    \"\"\"\n",
    "    \n",
    "    # retrieve filter number\n",
    "    F1, F2, F3 = filters\n",
    "    \n",
    "    # retain X\n",
    "    X_shortcut = X\n",
    "    \n",
    "    # First component of main path\n",
    "    X = Conv2D(kernel_size = 1, padding = 'valid', strides = s, filters = F1, kernel_initializer = initializers.glorot_uniform(seed = 1))(X)\n",
    "    X = BatchNormalization()(X)\n",
    "    X = Activation('relu')(X)\n",
    "\n",
    "     # Second component of main path \n",
    "    X = Conv2D(kernel_size = f, padding = 'same', strides = 1, filters = F2, kernel_initializer = initializers.glorot_uniform(seed = 1))(X)\n",
    "    X = BatchNormalization()(X)\n",
    "    X = Activation('relu')(X)\n",
    "    \n",
    "     # Third component of main path\n",
    "    X = Conv2D(kernel_size = 1, padding = 'valid', strides = 1, filters = F3, kernel_initializer = initializers.glorot_uniform(seed = 1))(X)\n",
    "    X = BatchNormalization()(X)\n",
    "    \n",
    "    # Shortcut path\n",
    "    X_shortcut = Conv2D(kernel_size = 1, padding = 'valid', strides = s, filters = F3, kernel_initializer = initializers.glorot_uniform(seed = 1))(X_shortcut)\n",
    "    X_shortcut = BatchNormalization()(X_shortcut)\n",
    "\n",
    "    # Final step: Add shortcut value to main path, and pass it through a RELU activation\n",
    "    X = Add()([X, X_shortcut])\n",
    "    X = Activation('relu')(X)\n",
    "\n",
    "    return X"
   ]
  },
  {
   "cell_type": "markdown",
   "metadata": {},
   "source": [
    "- main structure of the Residual Network"
   ]
  },
  {
   "cell_type": "code",
   "execution_count": 32,
   "metadata": {},
   "outputs": [],
   "source": [
    "def ResNet(input_shape, n_classes):\n",
    "    \n",
    "    # use keras input layer, shape should be (resolution, resolution, 3)\n",
    "    Input_layer = Input(shape = input_shape)\n",
    "    \n",
    "    # first Conv layer with same paddind and batchnorm\n",
    "    X = Conv2D(kernel_size = 3, padding = 'same', strides = 1, filters = 8, kernel_initializer = initializers.glorot_uniform(seed = 1))(Input_layer)\n",
    "    X = BatchNormalization()(X)\n",
    "    X = Activation('relu')(X)\n",
    "    \n",
    "    # add pooling layer to extract some possible features\n",
    "    # reduce size from 64 to 59\n",
    "    X = MaxPool2D(pool_size = 6, strides = 1)(X)\n",
    "    \n",
    "    # apply identity block and convolutional block built above\n",
    "    # reduce size from 59 to 30\n",
    "    X = convolutional_block(X, 3, [8, 8, 16], s = 2)\n",
    "    X = identity_block(X, 3, [8, 8, 16])\n",
    "    X = identity_block(X, 3, [8, 8, 16])\n",
    "    # reduce size from 30 to 15\n",
    "    X = convolutional_block(X, 3, [32, 64, 128], s = 2)\n",
    "    \n",
    "    # fully connected layer and output layer with softmax activation\n",
    "    X = Flatten()(X)\n",
    "    X = Dense(n_classes)(X)\n",
    "    Output_layer = Activation('softmax')(X)\n",
    "    \n",
    "    # input and output for model\n",
    "    model = Model(inputs = Input_layer, outputs = Output_layer)\n",
    "    print(model.summary())\n",
    "    # call the adam optimizer\n",
    "    opt = optimizers.Adam(lr = adam_opt_param.learning_rate, \n",
    "                          beta_1 = adam_opt_param.beta_1, \n",
    "                          beta_2 = adam_opt_param.beta_2, \n",
    "                          epsilon = adam_opt_param.epsilon)\n",
    "    # model to compile all\n",
    "    model.compile(loss = 'categorical_crossentropy', optimizer = opt, metrics = ['categorical_accuracy'])\n",
    "\n",
    "    return model"
   ]
  },
  {
   "cell_type": "code",
   "execution_count": 33,
   "metadata": {},
   "outputs": [],
   "source": [
    "class adam_opt_param:\n",
    "    \n",
    "    learning_rate = 0.001\n",
    "    beta_1 = 0.9\n",
    "    beta_2 = 0.999 \n",
    "    epsilon = 10**-8"
   ]
  },
  {
   "cell_type": "markdown",
   "metadata": {},
   "source": [
    "- fit the model with image augmentation using keras imagedatagenerator\n",
    "- use more variant generator to prevent overfitting and reduce variance"
   ]
  },
  {
   "cell_type": "code",
   "execution_count": 35,
   "metadata": {},
   "outputs": [],
   "source": [
    "datagen2 = image.ImageDataGenerator(width_shift_range = 0.3,\n",
    "                                   height_shift_range = 0.3,\n",
    "                                   rotation_range = 30,\n",
    "                                   horizontal_flip = True,\n",
    "                                   shear_range = 0.3,\n",
    "                                   zoom_range = 0.3,\n",
    "                                   rescale = 1. / 255)"
   ]
  },
  {
   "cell_type": "code",
   "execution_count": 36,
   "metadata": {},
   "outputs": [
    {
     "name": "stdout",
     "output_type": "stream",
     "text": [
      "__________________________________________________________________________________________________\n",
      "Layer (type)                    Output Shape         Param #     Connected to                     \n",
      "==================================================================================================\n",
      "input_4 (InputLayer)            (None, 64, 64, 3)    0                                            \n",
      "__________________________________________________________________________________________________\n",
      "conv2d_20 (Conv2D)              (None, 64, 64, 8)    224         input_4[0][0]                    \n",
      "__________________________________________________________________________________________________\n",
      "batch_normalization_20 (BatchNo (None, 64, 64, 8)    32          conv2d_20[0][0]                  \n",
      "__________________________________________________________________________________________________\n",
      "activation_21 (Activation)      (None, 64, 64, 8)    0           batch_normalization_20[0][0]     \n",
      "__________________________________________________________________________________________________\n",
      "max_pooling2d_4 (MaxPooling2D)  (None, 59, 59, 8)    0           activation_21[0][0]              \n",
      "__________________________________________________________________________________________________\n",
      "conv2d_21 (Conv2D)              (None, 30, 30, 8)    72          max_pooling2d_4[0][0]            \n",
      "__________________________________________________________________________________________________\n",
      "batch_normalization_21 (BatchNo (None, 30, 30, 8)    32          conv2d_21[0][0]                  \n",
      "__________________________________________________________________________________________________\n",
      "activation_22 (Activation)      (None, 30, 30, 8)    0           batch_normalization_21[0][0]     \n",
      "__________________________________________________________________________________________________\n",
      "conv2d_22 (Conv2D)              (None, 30, 30, 8)    584         activation_22[0][0]              \n",
      "__________________________________________________________________________________________________\n",
      "batch_normalization_22 (BatchNo (None, 30, 30, 8)    32          conv2d_22[0][0]                  \n",
      "__________________________________________________________________________________________________\n",
      "activation_23 (Activation)      (None, 30, 30, 8)    0           batch_normalization_22[0][0]     \n",
      "__________________________________________________________________________________________________\n",
      "conv2d_23 (Conv2D)              (None, 30, 30, 16)   144         activation_23[0][0]              \n",
      "__________________________________________________________________________________________________\n",
      "conv2d_24 (Conv2D)              (None, 30, 30, 16)   144         max_pooling2d_4[0][0]            \n",
      "__________________________________________________________________________________________________\n",
      "batch_normalization_23 (BatchNo (None, 30, 30, 16)   64          conv2d_23[0][0]                  \n",
      "__________________________________________________________________________________________________\n",
      "batch_normalization_24 (BatchNo (None, 30, 30, 16)   64          conv2d_24[0][0]                  \n",
      "__________________________________________________________________________________________________\n",
      "add_5 (Add)                     (None, 30, 30, 16)   0           batch_normalization_23[0][0]     \n",
      "                                                                 batch_normalization_24[0][0]     \n",
      "__________________________________________________________________________________________________\n",
      "activation_24 (Activation)      (None, 30, 30, 16)   0           add_5[0][0]                      \n",
      "__________________________________________________________________________________________________\n",
      "conv2d_25 (Conv2D)              (None, 30, 30, 8)    136         activation_24[0][0]              \n",
      "__________________________________________________________________________________________________\n",
      "batch_normalization_25 (BatchNo (None, 30, 30, 8)    32          conv2d_25[0][0]                  \n",
      "__________________________________________________________________________________________________\n",
      "activation_25 (Activation)      (None, 30, 30, 8)    0           batch_normalization_25[0][0]     \n",
      "__________________________________________________________________________________________________\n",
      "conv2d_26 (Conv2D)              (None, 30, 30, 8)    584         activation_25[0][0]              \n",
      "__________________________________________________________________________________________________\n",
      "batch_normalization_26 (BatchNo (None, 30, 30, 8)    32          conv2d_26[0][0]                  \n",
      "__________________________________________________________________________________________________\n",
      "activation_26 (Activation)      (None, 30, 30, 8)    0           batch_normalization_26[0][0]     \n",
      "__________________________________________________________________________________________________\n",
      "conv2d_27 (Conv2D)              (None, 30, 30, 16)   144         activation_26[0][0]              \n",
      "__________________________________________________________________________________________________\n",
      "batch_normalization_27 (BatchNo (None, 30, 30, 16)   64          conv2d_27[0][0]                  \n",
      "__________________________________________________________________________________________________\n",
      "add_6 (Add)                     (None, 30, 30, 16)   0           batch_normalization_27[0][0]     \n",
      "                                                                 activation_24[0][0]              \n",
      "__________________________________________________________________________________________________\n",
      "activation_27 (Activation)      (None, 30, 30, 16)   0           add_6[0][0]                      \n",
      "__________________________________________________________________________________________________\n",
      "conv2d_28 (Conv2D)              (None, 30, 30, 8)    136         activation_27[0][0]              \n",
      "__________________________________________________________________________________________________\n",
      "batch_normalization_28 (BatchNo (None, 30, 30, 8)    32          conv2d_28[0][0]                  \n",
      "__________________________________________________________________________________________________\n",
      "activation_28 (Activation)      (None, 30, 30, 8)    0           batch_normalization_28[0][0]     \n",
      "__________________________________________________________________________________________________\n",
      "conv2d_29 (Conv2D)              (None, 30, 30, 8)    584         activation_28[0][0]              \n",
      "__________________________________________________________________________________________________\n",
      "batch_normalization_29 (BatchNo (None, 30, 30, 8)    32          conv2d_29[0][0]                  \n",
      "__________________________________________________________________________________________________\n",
      "activation_29 (Activation)      (None, 30, 30, 8)    0           batch_normalization_29[0][0]     \n",
      "__________________________________________________________________________________________________\n",
      "conv2d_30 (Conv2D)              (None, 30, 30, 16)   144         activation_29[0][0]              \n",
      "__________________________________________________________________________________________________\n",
      "batch_normalization_30 (BatchNo (None, 30, 30, 16)   64          conv2d_30[0][0]                  \n",
      "__________________________________________________________________________________________________\n",
      "add_7 (Add)                     (None, 30, 30, 16)   0           batch_normalization_30[0][0]     \n",
      "                                                                 activation_27[0][0]              \n",
      "__________________________________________________________________________________________________\n",
      "activation_30 (Activation)      (None, 30, 30, 16)   0           add_7[0][0]                      \n",
      "__________________________________________________________________________________________________\n",
      "conv2d_31 (Conv2D)              (None, 15, 15, 32)   544         activation_30[0][0]              \n",
      "__________________________________________________________________________________________________\n",
      "batch_normalization_31 (BatchNo (None, 15, 15, 32)   128         conv2d_31[0][0]                  \n",
      "__________________________________________________________________________________________________\n",
      "activation_31 (Activation)      (None, 15, 15, 32)   0           batch_normalization_31[0][0]     \n",
      "__________________________________________________________________________________________________\n",
      "conv2d_32 (Conv2D)              (None, 15, 15, 64)   18496       activation_31[0][0]              \n",
      "__________________________________________________________________________________________________\n",
      "batch_normalization_32 (BatchNo (None, 15, 15, 64)   256         conv2d_32[0][0]                  \n",
      "__________________________________________________________________________________________________\n",
      "activation_32 (Activation)      (None, 15, 15, 64)   0           batch_normalization_32[0][0]     \n",
      "__________________________________________________________________________________________________\n",
      "conv2d_33 (Conv2D)              (None, 15, 15, 128)  8320        activation_32[0][0]              \n",
      "__________________________________________________________________________________________________\n",
      "conv2d_34 (Conv2D)              (None, 15, 15, 128)  2176        activation_30[0][0]              \n",
      "__________________________________________________________________________________________________\n",
      "batch_normalization_33 (BatchNo (None, 15, 15, 128)  512         conv2d_33[0][0]                  \n",
      "__________________________________________________________________________________________________\n",
      "batch_normalization_34 (BatchNo (None, 15, 15, 128)  512         conv2d_34[0][0]                  \n",
      "__________________________________________________________________________________________________\n",
      "add_8 (Add)                     (None, 15, 15, 128)  0           batch_normalization_33[0][0]     \n",
      "                                                                 batch_normalization_34[0][0]     \n",
      "__________________________________________________________________________________________________\n",
      "activation_33 (Activation)      (None, 15, 15, 128)  0           add_8[0][0]                      \n",
      "__________________________________________________________________________________________________\n",
      "flatten_4 (Flatten)             (None, 28800)        0           activation_33[0][0]              \n",
      "__________________________________________________________________________________________________\n",
      "dense_4 (Dense)                 (None, 5)            144005      flatten_4[0][0]                  \n",
      "__________________________________________________________________________________________________\n",
      "activation_34 (Activation)      (None, 5)            0           dense_4[0][0]                    \n",
      "==================================================================================================\n",
      "Total params: 178,325\n",
      "Trainable params: 177,381\n",
      "Non-trainable params: 944\n",
      "__________________________________________________________________________________________________\n",
      "None\n"
     ]
    }
   ],
   "source": [
    "model_resnet2 = ResNet(input_shape, n_classes)"
   ]
  },
  {
   "cell_type": "markdown",
   "metadata": {},
   "source": [
    "- train longer to reduce bias"
   ]
  },
  {
   "cell_type": "code",
   "execution_count": 37,
   "metadata": {},
   "outputs": [
    {
     "name": "stdout",
     "output_type": "stream",
     "text": [
      "Epoch 1/150\n",
      " - 11s - loss: 2.9265 - categorical_accuracy: 0.3807 - val_loss: 2.9362 - val_categorical_accuracy: 0.4242\n",
      "Epoch 2/150\n",
      " - 7s - loss: 1.3952 - categorical_accuracy: 0.5102 - val_loss: 3.0581 - val_categorical_accuracy: 0.3881\n",
      "Epoch 3/150\n",
      " - 7s - loss: 1.2323 - categorical_accuracy: 0.5342 - val_loss: 1.5582 - val_categorical_accuracy: 0.4838\n",
      "Epoch 4/150\n",
      " - 7s - loss: 1.1553 - categorical_accuracy: 0.5417 - val_loss: 1.6059 - val_categorical_accuracy: 0.4957\n",
      "Epoch 5/150\n",
      " - 7s - loss: 1.0840 - categorical_accuracy: 0.5756 - val_loss: 1.3855 - val_categorical_accuracy: 0.5399\n",
      "Epoch 6/150\n",
      " - 7s - loss: 1.0360 - categorical_accuracy: 0.5901 - val_loss: 1.2001 - val_categorical_accuracy: 0.5889\n",
      "Epoch 7/150\n",
      " - 7s - loss: 1.0285 - categorical_accuracy: 0.5996 - val_loss: 1.2163 - val_categorical_accuracy: 0.5739\n",
      "Epoch 8/150\n",
      " - 7s - loss: 1.0059 - categorical_accuracy: 0.6076 - val_loss: 1.1702 - val_categorical_accuracy: 0.5850\n",
      "Epoch 9/150\n",
      " - 7s - loss: 0.9893 - categorical_accuracy: 0.6194 - val_loss: 1.1116 - val_categorical_accuracy: 0.6055\n",
      "Epoch 10/150\n",
      " - 7s - loss: 0.9723 - categorical_accuracy: 0.6185 - val_loss: 1.0817 - val_categorical_accuracy: 0.6332\n",
      "Epoch 11/150\n",
      " - 7s - loss: 0.9652 - categorical_accuracy: 0.6245 - val_loss: 1.0751 - val_categorical_accuracy: 0.6403\n",
      "Epoch 12/150\n",
      " - 7s - loss: 0.9406 - categorical_accuracy: 0.6188 - val_loss: 1.0070 - val_categorical_accuracy: 0.6632\n",
      "Epoch 13/150\n",
      " - 7s - loss: 0.9140 - categorical_accuracy: 0.6415 - val_loss: 1.0324 - val_categorical_accuracy: 0.6387\n",
      "Epoch 14/150\n",
      " - 7s - loss: 0.9037 - categorical_accuracy: 0.6508 - val_loss: 0.8883 - val_categorical_accuracy: 0.6696\n",
      "Epoch 15/150\n",
      " - 7s - loss: 0.8990 - categorical_accuracy: 0.6565 - val_loss: 1.0519 - val_categorical_accuracy: 0.6656\n",
      "Epoch 16/150\n",
      " - 7s - loss: 0.8796 - categorical_accuracy: 0.6599 - val_loss: 1.0746 - val_categorical_accuracy: 0.6727\n",
      "Epoch 17/150\n",
      " - 7s - loss: 0.9029 - categorical_accuracy: 0.6498 - val_loss: 1.0205 - val_categorical_accuracy: 0.6387\n",
      "Epoch 18/150\n",
      " - 7s - loss: 0.8813 - categorical_accuracy: 0.6592 - val_loss: 1.5276 - val_categorical_accuracy: 0.5589\n",
      "Epoch 19/150\n",
      " - 7s - loss: 0.8569 - categorical_accuracy: 0.6765 - val_loss: 0.9591 - val_categorical_accuracy: 0.6561\n",
      "Epoch 20/150\n",
      " - 7s - loss: 0.8569 - categorical_accuracy: 0.6686 - val_loss: 1.1238 - val_categorical_accuracy: 0.6451\n",
      "Epoch 21/150\n",
      " - 7s - loss: 0.8437 - categorical_accuracy: 0.6745 - val_loss: 1.0242 - val_categorical_accuracy: 0.6443\n",
      "Epoch 22/150\n",
      " - 7s - loss: 0.8393 - categorical_accuracy: 0.6836 - val_loss: 0.9652 - val_categorical_accuracy: 0.6767\n",
      "Epoch 23/150\n",
      " - 7s - loss: 0.8436 - categorical_accuracy: 0.6839 - val_loss: 0.8356 - val_categorical_accuracy: 0.7162\n",
      "Epoch 24/150\n",
      " - 7s - loss: 0.8219 - categorical_accuracy: 0.6868 - val_loss: 1.0807 - val_categorical_accuracy: 0.6688\n",
      "Epoch 25/150\n",
      " - 7s - loss: 0.8103 - categorical_accuracy: 0.6823 - val_loss: 1.1642 - val_categorical_accuracy: 0.6561\n",
      "Epoch 26/150\n",
      " - 7s - loss: 0.8082 - categorical_accuracy: 0.6920 - val_loss: 1.0667 - val_categorical_accuracy: 0.6245\n",
      "Epoch 27/150\n",
      " - 7s - loss: 0.8155 - categorical_accuracy: 0.6916 - val_loss: 1.0143 - val_categorical_accuracy: 0.6719\n",
      "Epoch 28/150\n",
      " - 7s - loss: 0.8116 - categorical_accuracy: 0.7007 - val_loss: 0.8358 - val_categorical_accuracy: 0.7059\n",
      "Epoch 29/150\n",
      " - 7s - loss: 0.7908 - categorical_accuracy: 0.7097 - val_loss: 1.1739 - val_categorical_accuracy: 0.6419\n",
      "Epoch 30/150\n",
      " - 7s - loss: 0.7876 - categorical_accuracy: 0.7049 - val_loss: 0.9033 - val_categorical_accuracy: 0.7091\n",
      "Epoch 31/150\n",
      " - 7s - loss: 0.7799 - categorical_accuracy: 0.7060 - val_loss: 0.8598 - val_categorical_accuracy: 0.7154\n",
      "Epoch 32/150\n",
      " - 7s - loss: 0.7738 - categorical_accuracy: 0.7109 - val_loss: 1.0373 - val_categorical_accuracy: 0.6877\n",
      "Epoch 33/150\n",
      " - 7s - loss: 0.7899 - categorical_accuracy: 0.6964 - val_loss: 0.8947 - val_categorical_accuracy: 0.7067\n",
      "Epoch 34/150\n",
      " - 7s - loss: 0.7422 - categorical_accuracy: 0.7137 - val_loss: 0.9916 - val_categorical_accuracy: 0.6704\n",
      "Epoch 35/150\n",
      " - 7s - loss: 0.8041 - categorical_accuracy: 0.7014 - val_loss: 1.1633 - val_categorical_accuracy: 0.6680\n",
      "Epoch 36/150\n",
      " - 7s - loss: 0.7528 - categorical_accuracy: 0.7244 - val_loss: 0.8740 - val_categorical_accuracy: 0.6996\n",
      "Epoch 37/150\n",
      " - 7s - loss: 0.7340 - categorical_accuracy: 0.7254 - val_loss: 0.9226 - val_categorical_accuracy: 0.7043\n",
      "Epoch 38/150\n",
      " - 7s - loss: 0.7690 - categorical_accuracy: 0.7190 - val_loss: 0.8855 - val_categorical_accuracy: 0.7083\n",
      "Epoch 39/150\n",
      " - 7s - loss: 0.7332 - categorical_accuracy: 0.7164 - val_loss: 1.0097 - val_categorical_accuracy: 0.7043\n",
      "Epoch 40/150\n",
      " - 7s - loss: 0.7368 - categorical_accuracy: 0.7254 - val_loss: 1.0807 - val_categorical_accuracy: 0.6759\n",
      "Epoch 41/150\n",
      " - 7s - loss: 0.7425 - categorical_accuracy: 0.7166 - val_loss: 0.8260 - val_categorical_accuracy: 0.7352\n",
      "Epoch 42/150\n",
      " - 7s - loss: 0.7368 - categorical_accuracy: 0.7176 - val_loss: 0.9025 - val_categorical_accuracy: 0.6922\n",
      "Epoch 43/150\n",
      " - 7s - loss: 0.7389 - categorical_accuracy: 0.7224 - val_loss: 1.1118 - val_categorical_accuracy: 0.6735\n",
      "Epoch 44/150\n",
      " - 7s - loss: 0.7426 - categorical_accuracy: 0.7151 - val_loss: 1.1321 - val_categorical_accuracy: 0.6632\n",
      "Epoch 45/150\n",
      " - 7s - loss: 0.7070 - categorical_accuracy: 0.7324 - val_loss: 1.0601 - val_categorical_accuracy: 0.6798\n",
      "Epoch 46/150\n",
      " - 7s - loss: 0.7497 - categorical_accuracy: 0.7303 - val_loss: 0.9176 - val_categorical_accuracy: 0.7091\n",
      "Epoch 47/150\n",
      " - 7s - loss: 0.7332 - categorical_accuracy: 0.7212 - val_loss: 1.2972 - val_categorical_accuracy: 0.6593\n",
      "Epoch 48/150\n",
      " - 7s - loss: 0.7192 - categorical_accuracy: 0.7321 - val_loss: 1.1773 - val_categorical_accuracy: 0.6743\n",
      "Epoch 49/150\n",
      " - 7s - loss: 0.7109 - categorical_accuracy: 0.7318 - val_loss: 0.9266 - val_categorical_accuracy: 0.7012\n",
      "Epoch 50/150\n",
      " - 7s - loss: 0.6994 - categorical_accuracy: 0.7390 - val_loss: 1.0240 - val_categorical_accuracy: 0.6909\n",
      "Epoch 51/150\n",
      " - 7s - loss: 0.7118 - categorical_accuracy: 0.7284 - val_loss: 0.8816 - val_categorical_accuracy: 0.6972\n",
      "Epoch 52/150\n",
      " - 7s - loss: 0.6848 - categorical_accuracy: 0.7373 - val_loss: 0.9176 - val_categorical_accuracy: 0.7099\n",
      "Epoch 53/150\n",
      " - 7s - loss: 0.7003 - categorical_accuracy: 0.7403 - val_loss: 0.9119 - val_categorical_accuracy: 0.7352\n",
      "Epoch 54/150\n",
      " - 7s - loss: 0.6907 - categorical_accuracy: 0.7428 - val_loss: 1.2989 - val_categorical_accuracy: 0.6553\n",
      "Epoch 55/150\n",
      " - 7s - loss: 0.6908 - categorical_accuracy: 0.7405 - val_loss: 0.8271 - val_categorical_accuracy: 0.7194\n",
      "Epoch 56/150\n",
      " - 7s - loss: 0.6823 - categorical_accuracy: 0.7437 - val_loss: 0.9034 - val_categorical_accuracy: 0.7004\n",
      "Epoch 57/150\n",
      " - 7s - loss: 0.6844 - categorical_accuracy: 0.7507 - val_loss: 0.8447 - val_categorical_accuracy: 0.7304\n",
      "Epoch 58/150\n",
      " - 7s - loss: 0.6802 - categorical_accuracy: 0.7457 - val_loss: 0.8367 - val_categorical_accuracy: 0.7344\n",
      "Epoch 59/150\n",
      " - 7s - loss: 0.6913 - categorical_accuracy: 0.7404 - val_loss: 1.0000 - val_categorical_accuracy: 0.7043\n",
      "Epoch 60/150\n",
      " - 7s - loss: 0.6650 - categorical_accuracy: 0.7559 - val_loss: 0.9480 - val_categorical_accuracy: 0.7051\n",
      "Epoch 61/150\n",
      " - 7s - loss: 0.6684 - categorical_accuracy: 0.7442 - val_loss: 0.9791 - val_categorical_accuracy: 0.7020\n",
      "Epoch 62/150\n",
      " - 7s - loss: 0.6982 - categorical_accuracy: 0.7392 - val_loss: 1.0400 - val_categorical_accuracy: 0.6466\n",
      "Epoch 63/150\n",
      " - 7s - loss: 0.6591 - categorical_accuracy: 0.7565 - val_loss: 0.9180 - val_categorical_accuracy: 0.7162\n",
      "Epoch 64/150\n",
      " - 7s - loss: 0.7012 - categorical_accuracy: 0.7451 - val_loss: 0.9623 - val_categorical_accuracy: 0.6988\n",
      "Epoch 65/150\n",
      " - 7s - loss: 0.6690 - categorical_accuracy: 0.7446 - val_loss: 0.8969 - val_categorical_accuracy: 0.7225\n",
      "Epoch 66/150\n",
      " - 7s - loss: 0.6653 - categorical_accuracy: 0.7462 - val_loss: 0.9087 - val_categorical_accuracy: 0.7273\n",
      "Epoch 67/150\n",
      " - 7s - loss: 0.6707 - categorical_accuracy: 0.7470 - val_loss: 0.8058 - val_categorical_accuracy: 0.7296\n",
      "Epoch 68/150\n",
      " - 7s - loss: 0.6705 - categorical_accuracy: 0.7514 - val_loss: 0.8288 - val_categorical_accuracy: 0.7296\n",
      "Epoch 69/150\n",
      " - 7s - loss: 0.6744 - categorical_accuracy: 0.7424 - val_loss: 0.9710 - val_categorical_accuracy: 0.6901\n"
     ]
    },
    {
     "name": "stdout",
     "output_type": "stream",
     "text": [
      "Epoch 70/150\n",
      " - 7s - loss: 0.6401 - categorical_accuracy: 0.7600 - val_loss: 1.0038 - val_categorical_accuracy: 0.6957\n",
      "Epoch 71/150\n",
      " - 7s - loss: 0.6524 - categorical_accuracy: 0.7582 - val_loss: 0.8466 - val_categorical_accuracy: 0.7273\n",
      "Epoch 72/150\n",
      " - 7s - loss: 0.6722 - categorical_accuracy: 0.7520 - val_loss: 0.8867 - val_categorical_accuracy: 0.7083\n",
      "Epoch 73/150\n",
      " - 7s - loss: 0.6131 - categorical_accuracy: 0.7713 - val_loss: 1.0225 - val_categorical_accuracy: 0.7036\n",
      "Epoch 74/150\n",
      " - 7s - loss: 0.6575 - categorical_accuracy: 0.7544 - val_loss: 0.9616 - val_categorical_accuracy: 0.7107\n",
      "Epoch 75/150\n",
      " - 7s - loss: 0.6691 - categorical_accuracy: 0.7501 - val_loss: 1.0323 - val_categorical_accuracy: 0.6980\n",
      "Epoch 76/150\n",
      " - 7s - loss: 0.6419 - categorical_accuracy: 0.7646 - val_loss: 1.0996 - val_categorical_accuracy: 0.6617\n",
      "Epoch 77/150\n",
      " - 7s - loss: 0.6600 - categorical_accuracy: 0.7589 - val_loss: 0.8998 - val_categorical_accuracy: 0.7186\n",
      "Epoch 78/150\n",
      " - 7s - loss: 0.6167 - categorical_accuracy: 0.7625 - val_loss: 0.9085 - val_categorical_accuracy: 0.7494\n",
      "Epoch 79/150\n",
      " - 7s - loss: 0.6566 - categorical_accuracy: 0.7494 - val_loss: 0.7876 - val_categorical_accuracy: 0.7510\n",
      "Epoch 80/150\n",
      " - 7s - loss: 0.6313 - categorical_accuracy: 0.7583 - val_loss: 1.1722 - val_categorical_accuracy: 0.6617\n",
      "Epoch 81/150\n",
      " - 7s - loss: 0.6097 - categorical_accuracy: 0.7726 - val_loss: 0.9495 - val_categorical_accuracy: 0.7312\n",
      "Epoch 82/150\n",
      " - 7s - loss: 0.6287 - categorical_accuracy: 0.7609 - val_loss: 0.9327 - val_categorical_accuracy: 0.7099\n",
      "Epoch 83/150\n",
      " - 7s - loss: 0.6131 - categorical_accuracy: 0.7669 - val_loss: 0.9190 - val_categorical_accuracy: 0.7305\n",
      "Epoch 84/150\n",
      " - 7s - loss: 0.6185 - categorical_accuracy: 0.7724 - val_loss: 1.3355 - val_categorical_accuracy: 0.6632\n",
      "Epoch 85/150\n",
      " - 7s - loss: 0.6384 - categorical_accuracy: 0.7679 - val_loss: 0.8518 - val_categorical_accuracy: 0.7273\n",
      "Epoch 86/150\n",
      " - 7s - loss: 0.6368 - categorical_accuracy: 0.7597 - val_loss: 0.9929 - val_categorical_accuracy: 0.7217\n",
      "Epoch 87/150\n",
      " - 7s - loss: 0.6329 - categorical_accuracy: 0.7707 - val_loss: 0.7782 - val_categorical_accuracy: 0.7462\n",
      "Epoch 88/150\n",
      " - 7s - loss: 0.6323 - categorical_accuracy: 0.7657 - val_loss: 0.8603 - val_categorical_accuracy: 0.7075\n",
      "Epoch 89/150\n",
      " - 7s - loss: 0.6123 - categorical_accuracy: 0.7659 - val_loss: 0.8341 - val_categorical_accuracy: 0.7423\n",
      "Epoch 90/150\n",
      " - 7s - loss: 0.6159 - categorical_accuracy: 0.7702 - val_loss: 0.8763 - val_categorical_accuracy: 0.7375\n",
      "Epoch 91/150\n",
      " - 7s - loss: 0.6232 - categorical_accuracy: 0.7729 - val_loss: 0.8624 - val_categorical_accuracy: 0.7296\n",
      "Epoch 92/150\n",
      " - 7s - loss: 0.5971 - categorical_accuracy: 0.7770 - val_loss: 1.0090 - val_categorical_accuracy: 0.6972\n",
      "Epoch 93/150\n",
      " - 7s - loss: 0.6125 - categorical_accuracy: 0.7668 - val_loss: 0.8402 - val_categorical_accuracy: 0.7344\n",
      "Epoch 94/150\n",
      " - 7s - loss: 0.6145 - categorical_accuracy: 0.7748 - val_loss: 0.8761 - val_categorical_accuracy: 0.7265\n",
      "Epoch 95/150\n",
      " - 7s - loss: 0.6284 - categorical_accuracy: 0.7698 - val_loss: 0.8101 - val_categorical_accuracy: 0.7573\n",
      "Epoch 96/150\n",
      " - 7s - loss: 0.5946 - categorical_accuracy: 0.7826 - val_loss: 0.9158 - val_categorical_accuracy: 0.7328\n",
      "Epoch 97/150\n",
      " - 7s - loss: 0.6059 - categorical_accuracy: 0.7718 - val_loss: 0.7488 - val_categorical_accuracy: 0.7455\n",
      "Epoch 98/150\n",
      " - 7s - loss: 0.6067 - categorical_accuracy: 0.7745 - val_loss: 0.9057 - val_categorical_accuracy: 0.7312\n",
      "Epoch 99/150\n",
      " - 7s - loss: 0.5877 - categorical_accuracy: 0.7890 - val_loss: 1.3294 - val_categorical_accuracy: 0.6767\n",
      "Epoch 100/150\n",
      " - 7s - loss: 0.6006 - categorical_accuracy: 0.7766 - val_loss: 0.7868 - val_categorical_accuracy: 0.7486\n",
      "Epoch 101/150\n",
      " - 7s - loss: 0.5877 - categorical_accuracy: 0.7770 - val_loss: 0.8597 - val_categorical_accuracy: 0.7415\n",
      "Epoch 102/150\n",
      " - 7s - loss: 0.6048 - categorical_accuracy: 0.7700 - val_loss: 1.1173 - val_categorical_accuracy: 0.6949\n",
      "Epoch 103/150\n",
      " - 7s - loss: 0.5950 - categorical_accuracy: 0.7877 - val_loss: 0.8645 - val_categorical_accuracy: 0.7296\n",
      "Epoch 104/150\n",
      " - 7s - loss: 0.5911 - categorical_accuracy: 0.7810 - val_loss: 0.8971 - val_categorical_accuracy: 0.7202\n",
      "Epoch 105/150\n",
      " - 7s - loss: 0.5834 - categorical_accuracy: 0.7783 - val_loss: 1.1233 - val_categorical_accuracy: 0.6957\n",
      "Epoch 106/150\n",
      " - 7s - loss: 0.5771 - categorical_accuracy: 0.7733 - val_loss: 0.8680 - val_categorical_accuracy: 0.7320\n",
      "Epoch 107/150\n",
      " - 7s - loss: 0.5904 - categorical_accuracy: 0.7798 - val_loss: 0.7842 - val_categorical_accuracy: 0.7415\n",
      "Epoch 108/150\n",
      " - 7s - loss: 0.5604 - categorical_accuracy: 0.7952 - val_loss: 0.9165 - val_categorical_accuracy: 0.7028\n",
      "Epoch 109/150\n",
      " - 7s - loss: 0.5871 - categorical_accuracy: 0.7813 - val_loss: 0.7258 - val_categorical_accuracy: 0.7692\n",
      "Epoch 110/150\n",
      " - 7s - loss: 0.5726 - categorical_accuracy: 0.7835 - val_loss: 0.8446 - val_categorical_accuracy: 0.7328\n",
      "Epoch 111/150\n",
      " - 7s - loss: 0.5781 - categorical_accuracy: 0.7825 - val_loss: 0.8867 - val_categorical_accuracy: 0.7186\n",
      "Epoch 112/150\n",
      " - 7s - loss: 0.5602 - categorical_accuracy: 0.7973 - val_loss: 0.9073 - val_categorical_accuracy: 0.7265\n",
      "Epoch 113/150\n",
      " - 7s - loss: 0.5454 - categorical_accuracy: 0.7981 - val_loss: 0.9363 - val_categorical_accuracy: 0.7320\n",
      "Epoch 114/150\n",
      " - 7s - loss: 0.5506 - categorical_accuracy: 0.7987 - val_loss: 0.8176 - val_categorical_accuracy: 0.7375\n",
      "Epoch 115/150\n",
      " - 7s - loss: 0.5460 - categorical_accuracy: 0.7919 - val_loss: 0.8991 - val_categorical_accuracy: 0.7455\n",
      "Epoch 116/150\n",
      " - 7s - loss: 0.5813 - categorical_accuracy: 0.7791 - val_loss: 0.8108 - val_categorical_accuracy: 0.7549\n",
      "Epoch 117/150\n",
      " - 7s - loss: 0.5618 - categorical_accuracy: 0.7938 - val_loss: 0.9724 - val_categorical_accuracy: 0.7178\n",
      "Epoch 118/150\n",
      " - 7s - loss: 0.5610 - categorical_accuracy: 0.7919 - val_loss: 1.0934 - val_categorical_accuracy: 0.6885\n",
      "Epoch 119/150\n",
      " - 7s - loss: 0.5583 - categorical_accuracy: 0.7909 - val_loss: 0.8918 - val_categorical_accuracy: 0.7407\n",
      "Epoch 120/150\n",
      " - 7s - loss: 0.5642 - categorical_accuracy: 0.7838 - val_loss: 0.8300 - val_categorical_accuracy: 0.7478\n",
      "Epoch 121/150\n",
      " - 7s - loss: 0.5574 - categorical_accuracy: 0.7934 - val_loss: 0.8236 - val_categorical_accuracy: 0.7415\n",
      "Epoch 122/150\n",
      " - 7s - loss: 0.5535 - categorical_accuracy: 0.7923 - val_loss: 0.9996 - val_categorical_accuracy: 0.7178\n",
      "Epoch 123/150\n",
      " - 7s - loss: 0.5707 - categorical_accuracy: 0.7899 - val_loss: 0.9319 - val_categorical_accuracy: 0.7186\n",
      "Epoch 124/150\n",
      " - 7s - loss: 0.5459 - categorical_accuracy: 0.8030 - val_loss: 0.9640 - val_categorical_accuracy: 0.7242\n",
      "Epoch 125/150\n",
      " - 7s - loss: 0.5632 - categorical_accuracy: 0.7857 - val_loss: 0.8900 - val_categorical_accuracy: 0.7344\n",
      "Epoch 126/150\n",
      " - 7s - loss: 0.5473 - categorical_accuracy: 0.7941 - val_loss: 0.8547 - val_categorical_accuracy: 0.7312\n",
      "Epoch 127/150\n",
      " - 7s - loss: 0.5362 - categorical_accuracy: 0.8013 - val_loss: 0.8893 - val_categorical_accuracy: 0.7415\n",
      "Epoch 128/150\n",
      " - 7s - loss: 0.5653 - categorical_accuracy: 0.7883 - val_loss: 0.9306 - val_categorical_accuracy: 0.7225\n",
      "Epoch 129/150\n",
      " - 7s - loss: 0.5720 - categorical_accuracy: 0.7910 - val_loss: 0.8923 - val_categorical_accuracy: 0.7368\n",
      "Epoch 130/150\n",
      " - 7s - loss: 0.5201 - categorical_accuracy: 0.8121 - val_loss: 0.7308 - val_categorical_accuracy: 0.7470\n",
      "Epoch 131/150\n",
      " - 7s - loss: 0.5757 - categorical_accuracy: 0.7874 - val_loss: 0.9044 - val_categorical_accuracy: 0.7447\n",
      "Epoch 132/150\n",
      " - 7s - loss: 0.5414 - categorical_accuracy: 0.7938 - val_loss: 0.9282 - val_categorical_accuracy: 0.7375\n",
      "Epoch 133/150\n",
      " - 7s - loss: 0.5285 - categorical_accuracy: 0.7982 - val_loss: 0.9271 - val_categorical_accuracy: 0.7542\n",
      "Epoch 134/150\n",
      " - 7s - loss: 0.5548 - categorical_accuracy: 0.7938 - val_loss: 0.8252 - val_categorical_accuracy: 0.7415\n",
      "Epoch 135/150\n",
      " - 7s - loss: 0.5459 - categorical_accuracy: 0.7943 - val_loss: 0.8865 - val_categorical_accuracy: 0.7360\n",
      "Epoch 136/150\n",
      " - 7s - loss: 0.5388 - categorical_accuracy: 0.7999 - val_loss: 0.9558 - val_categorical_accuracy: 0.7115\n",
      "Epoch 137/150\n",
      " - 7s - loss: 0.5384 - categorical_accuracy: 0.8058 - val_loss: 0.9172 - val_categorical_accuracy: 0.7360\n",
      "Epoch 138/150\n",
      " - 7s - loss: 0.5243 - categorical_accuracy: 0.8021 - val_loss: 1.0065 - val_categorical_accuracy: 0.7178\n"
     ]
    },
    {
     "name": "stdout",
     "output_type": "stream",
     "text": [
      "Epoch 139/150\n",
      " - 7s - loss: 0.5508 - categorical_accuracy: 0.7931 - val_loss: 0.7926 - val_categorical_accuracy: 0.7510\n",
      "Epoch 140/150\n",
      " - 7s - loss: 0.4924 - categorical_accuracy: 0.8143 - val_loss: 0.9724 - val_categorical_accuracy: 0.7352\n",
      "Epoch 141/150\n",
      " - 7s - loss: 0.5359 - categorical_accuracy: 0.8010 - val_loss: 0.8444 - val_categorical_accuracy: 0.7518\n",
      "Epoch 142/150\n",
      " - 7s - loss: 0.5135 - categorical_accuracy: 0.8079 - val_loss: 0.7799 - val_categorical_accuracy: 0.7715\n",
      "Epoch 143/150\n",
      " - 7s - loss: 0.5139 - categorical_accuracy: 0.8138 - val_loss: 0.8454 - val_categorical_accuracy: 0.7486\n",
      "Epoch 144/150\n",
      " - 7s - loss: 0.5227 - categorical_accuracy: 0.8115 - val_loss: 1.3080 - val_categorical_accuracy: 0.6711\n",
      "Epoch 145/150\n",
      " - 7s - loss: 0.5338 - categorical_accuracy: 0.8086 - val_loss: 0.7632 - val_categorical_accuracy: 0.7771\n",
      "Epoch 146/150\n",
      " - 7s - loss: 0.5251 - categorical_accuracy: 0.8049 - val_loss: 0.7610 - val_categorical_accuracy: 0.7739\n",
      "Epoch 147/150\n",
      " - 7s - loss: 0.5252 - categorical_accuracy: 0.8049 - val_loss: 0.7784 - val_categorical_accuracy: 0.7542\n",
      "Epoch 148/150\n",
      " - 7s - loss: 0.5154 - categorical_accuracy: 0.8115 - val_loss: 0.8659 - val_categorical_accuracy: 0.7565\n",
      "Epoch 149/150\n",
      " - 7s - loss: 0.5240 - categorical_accuracy: 0.8050 - val_loss: 0.8960 - val_categorical_accuracy: 0.7439\n",
      "Epoch 150/150\n",
      " - 7s - loss: 0.5325 - categorical_accuracy: 0.7994 - val_loss: 0.9762 - val_categorical_accuracy: 0.7281\n"
     ]
    }
   ],
   "source": [
    "epochs = 150\n",
    "batch_size = 32\n",
    "\n",
    "history_resnet2 = model_resnet2.fit_generator(generator = datagen2.flow(x = X_train, y = y_train_oh, batch_size = batch_size),\n",
    "                                             steps_per_epoch = X_train.shape[0] // batch_size,\n",
    "                                             epochs = epochs,\n",
    "                                             validation_data = datagen_val.flow(x = X_val, y = y_val_oh, batch_size = batch_size),\n",
    "                                             validation_steps = X_val.shape[0] // batch_size,\n",
    "                                             verbose = 2)"
   ]
  },
  {
   "cell_type": "code",
   "execution_count": 38,
   "metadata": {
    "scrolled": true
   },
   "outputs": [
    {
     "data": {
      "image/png": "[encoded data removed]",
      "text/plain": [
       "<Figure size 576x432 with 2 Axes>"
      ]
     },
     "metadata": {
      "needs_background": "light"
     },
     "output_type": "display_data"
    }
   ],
   "source": [
    "plot_metric_loss(history_resnet2, 'categorical_accuracy')"
   ]
  },
  {
   "cell_type": "markdown",
   "metadata": {},
   "source": [
    "- In the end we achieve around 80% training accuracy and around 75% validation accuracy\n",
    "- We could see that the model still suffers from high bias even with 150 epochs\n",
    "- Next step could be either\n",
    "    1. Build a better network architecture\n",
    "    2. Do error analysis to see what kinds of image tends to be misclassified, and then do the necessary to solve them\n",
    "    3. Tune better hyper-parameters which may be computational expensive"
   ]
  }
 ],
 "metadata": {
  "kernelspec": {
   "display_name": "Python 3",
   "language": "python",
   "name": "python3"
  },
  "language_info": {
   "codemirror_mode": {
    "name": "ipython",
    "version": 3
   },
   "file_extension": ".py",
   "mimetype": "text/x-python",
   "name": "python",
   "nbconvert_exporter": "python",
   "pygments_lexer": "ipython3",
   "version": "3.6.7"
  }
 },
 "nbformat": 4,
 "nbformat_minor": 2
}
