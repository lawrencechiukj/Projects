{
 "cells": [
  {
   "cell_type": "markdown",
   "metadata": {},
   "source": [
    "# 0. Overview\n",
    "\n",
    "In the dataset, each record contains a IMDB movie review and corresponding sentiment (0 for negative, 1 for positive).<br>\n",
    "This notebook will use Keras LSTM model to classify the sentiment of reviews.<br>\n",
    "\n",
    "#### 1. Load Data\n",
    "a. Load IMDB review data<br>\n",
    "b. Load pre-trained GloVe word embedding matrix\n",
    "#### 2. Preprocessing\n",
    "a. Basic preprocessing<br>\n",
    "b. Decide maximum length of reviews<br>\n",
    "c. Split the dataset to training and validation set<br>\n",
    "d. Encode words to indices\n",
    "#### 3. Build RNN with Pre-trained Embedding Layer\n",
    "a. Build pre-trained GloVe embedding layer<br>\n",
    "b. Build LSTM model<br>\n",
    "c. Fit the model with training and validation dataset<br>\n",
    "d. Search for better network architecture or better hyper-parameters\n",
    "#### 4. Plot ROC"
   ]
  },
  {
   "cell_type": "markdown",
   "metadata": {},
   "source": [
    "# 1. Load Data"
   ]
  },
  {
   "cell_type": "markdown",
   "metadata": {},
   "source": [
    "### a. Load IMDB review data"
   ]
  },
  {
   "cell_type": "markdown",
   "metadata": {},
   "source": [
    "- create a configure object containing root directory and all necessary subdirectries "
   ]
  },
  {
   "cell_type": "code",
   "execution_count": 1,
   "metadata": {},
   "outputs": [],
   "source": [
    "class Config:\n",
    "    \n",
    "    root_dir = 'D:\\\\Job\\\\Codes\\\\'\n",
    "    data_dir = root_dir + 'Data\\\\sentiment labelled sentences\\\\imdb_labelled.txt'\n",
    "    glove_dir = root_dir + 'Data\\\\sentiment labelled sentences\\\\glove.6B\\\\glove.6B.50d.txt'\n",
    "\n",
    "config = Config"
   ]
  },
  {
   "cell_type": "markdown",
   "metadata": {},
   "source": [
    "- read each line of the targeted text file"
   ]
  },
  {
   "cell_type": "code",
   "execution_count": 2,
   "metadata": {},
   "outputs": [],
   "source": [
    "with open(config.data_dir, 'r', encoding = 'utf-8') as f:\n",
    "    \n",
    "    text = f.readlines()"
   ]
  },
  {
   "cell_type": "markdown",
   "metadata": {},
   "source": [
    "- there are 1000 reviews in total"
   ]
  },
  {
   "cell_type": "code",
   "execution_count": 3,
   "metadata": {},
   "outputs": [
    {
     "name": "stdout",
     "output_type": "stream",
     "text": [
      "Review Number: 1000 records\n"
     ]
    }
   ],
   "source": [
    "print('Review Number: {} records'.format(len(text)))"
   ]
  },
  {
   "cell_type": "markdown",
   "metadata": {},
   "source": [
    "- each line contains the movie review and the target variable sentiment (0 for negative, 1 for positive)"
   ]
  },
  {
   "cell_type": "code",
   "execution_count": 4,
   "metadata": {
    "scrolled": true
   },
   "outputs": [
    {
     "name": "stdout",
     "output_type": "stream",
     "text": [
      "A very, very, very slow-moving, aimless movie about a distressed, drifting young man.  \t0\n",
      "\n",
      "Not sure who was more lost - the flat characters or the audience, nearly half of whom walked out.  \t0\n",
      "\n",
      "Attempting artiness with black & white and clever camera angles, the movie disappointed - became even more ridiculous - as the acting was poor and the plot and lines almost non-existent.  \t0\n",
      "\n"
     ]
    }
   ],
   "source": [
    "print(text[0])\n",
    "print(text[1])\n",
    "print(text[2])"
   ]
  },
  {
   "cell_type": "markdown",
   "metadata": {},
   "source": [
    "### b. Load pre-trained GloVe word embedding matrix"
   ]
  },
  {
   "cell_type": "code",
   "execution_count": 5,
   "metadata": {},
   "outputs": [],
   "source": [
    "import numpy as np"
   ]
  },
  {
   "cell_type": "code",
   "execution_count": 6,
   "metadata": {},
   "outputs": [],
   "source": [
    "def read_glove_vecs(glove_dir):\n",
    "    \n",
    "    \"\"\"\n",
    "    Args:\n",
    "        \n",
    "        glove_dir (str): The directory of pre-trained GloVe word embedding matrix.\n",
    "    \n",
    "    Returns:\n",
    "        \n",
    "        word_to_index (dict): A dictionary map word to index.\n",
    "        index_to_word (dict): A dictionary map index to word.\n",
    "        word_to_vec_map (dict): A dictionary map word to its GloVe vector.\n",
    "    \"\"\"\n",
    "    \n",
    "    with open(glove_dir, 'r', encoding = 'utf-8') as f:\n",
    "        \n",
    "        # initialize words set and word_to_vec_map dictionary\n",
    "        words = set()\n",
    "        word_to_vec_map = {}\n",
    "        \n",
    "        # append each word and its vector to set and dictionary above\n",
    "        for line in f:\n",
    "            line = line.strip().split()\n",
    "            curr_word = line[0]\n",
    "            words.add(curr_word)\n",
    "            word_to_vec_map[curr_word] = np.array(line[1:], dtype = np.float64)\n",
    "            \n",
    "        # initialize index word dictionary\n",
    "        i = 1\n",
    "        word_to_index = {}\n",
    "        index_to_word = {}\n",
    "        \n",
    "        # append each word and its index to dictionary above\n",
    "        for w in sorted(words):\n",
    "            word_to_index[w] = i\n",
    "            index_to_word[i] = w\n",
    "            i = i + 1\n",
    "    \n",
    "    return word_to_index, index_to_word, word_to_vec_map"
   ]
  },
  {
   "cell_type": "code",
   "execution_count": 7,
   "metadata": {},
   "outputs": [],
   "source": [
    "word_to_index, index_to_word, word_to_vec_map = read_glove_vecs(config.glove_dir)"
   ]
  },
  {
   "cell_type": "markdown",
   "metadata": {},
   "source": [
    "- word number of the GloVe"
   ]
  },
  {
   "cell_type": "code",
   "execution_count": 8,
   "metadata": {},
   "outputs": [
    {
     "name": "stdout",
     "output_type": "stream",
     "text": [
      "Word Number: 400000\n"
     ]
    }
   ],
   "source": [
    "print('Word Number: {}'.format(len(word_to_index)))"
   ]
  },
  {
   "cell_type": "markdown",
   "metadata": {},
   "source": [
    "- vector dimension of the GloVe"
   ]
  },
  {
   "cell_type": "code",
   "execution_count": 9,
   "metadata": {},
   "outputs": [
    {
     "name": "stdout",
     "output_type": "stream",
     "text": [
      "Dimension Number: 50\n"
     ]
    }
   ],
   "source": [
    "print('Dimension Number: {}'.format(len(word_to_vec_map['apple'])))"
   ]
  },
  {
   "cell_type": "markdown",
   "metadata": {},
   "source": [
    "- example"
   ]
  },
  {
   "cell_type": "code",
   "execution_count": 10,
   "metadata": {},
   "outputs": [
    {
     "name": "stdout",
     "output_type": "stream",
     "text": [
      "57797\n",
      "apple\n"
     ]
    }
   ],
   "source": [
    "print(word_to_index['apple'])\n",
    "print(index_to_word[57797])"
   ]
  },
  {
   "cell_type": "code",
   "execution_count": 11,
   "metadata": {},
   "outputs": [
    {
     "name": "stdout",
     "output_type": "stream",
     "text": [
      "[ 0.52042  -0.8314    0.49961   1.2893    0.1151    0.057521 -1.3753\n",
      " -0.97313   0.18346   0.47672  -0.15112   0.35532   0.25912  -0.77857\n",
      "  0.52181   0.47695  -1.4251    0.858     0.59821  -1.0903    0.33574\n",
      " -0.60891   0.41742   0.21569  -0.07417  -0.5822   -0.4502    0.17253\n",
      "  0.16448  -0.38413   2.3283   -0.66682  -0.58181   0.74389   0.095015\n",
      " -0.47865  -0.84591   0.38704   0.23693  -1.5523    0.64802  -0.16521\n",
      " -1.4719   -0.16224   0.79857   0.97391   0.40027  -0.21912  -0.30938\n",
      "  0.26581 ]\n"
     ]
    }
   ],
   "source": [
    "print(word_to_vec_map['apple'])"
   ]
  },
  {
   "cell_type": "markdown",
   "metadata": {},
   "source": [
    "# 2. Preprocessing"
   ]
  },
  {
   "cell_type": "code",
   "execution_count": 12,
   "metadata": {},
   "outputs": [],
   "source": [
    "import pandas as pd\n",
    "import string\n",
    "import re"
   ]
  },
  {
   "cell_type": "markdown",
   "metadata": {},
   "source": [
    "### a. Basic preprocessing"
   ]
  },
  {
   "cell_type": "markdown",
   "metadata": {},
   "source": [
    "- use pandas dataframe to store data\n",
    "- apply necessary text cleaning process to review"
   ]
  },
  {
   "cell_type": "code",
   "execution_count": 13,
   "metadata": {},
   "outputs": [],
   "source": [
    "def basic_preprocess(text):\n",
    "    \n",
    "    \"\"\"\n",
    "    Note:\n",
    "        Punctuation of review would be retained and later used in RNN model.\n",
    "\n",
    "    Args:\n",
    "        text (str): A string contains review and sentiment.\n",
    "\n",
    "    Returns:\n",
    "        df (pandas dataframe): The cleaned up pandas dataframe.\n",
    "    \"\"\"\n",
    "    \n",
    "    df = pd.DataFrame({'review':text})\n",
    "    \n",
    "    # extract target variable (sentiment) from text, and rename the column names\n",
    "    df = df.review.str.split('\\t', expand = True) \n",
    "    df.rename(columns = {0:'review', 1:'sentiment'}, inplace = True)\n",
    "    \n",
    "    # remove \\n in sentiment\n",
    "    df['sentiment'] = df.sentiment.str.replace('\\n', '')\n",
    "    # set as int dtype\n",
    "    df['sentiment'] = df.sentiment.astype('int32')\n",
    "    \n",
    "    # add space between punctuation and word, viewing punctuation as word\n",
    "    # in bag-of-words models, punctuaction would be removed; however, in RNN punctuaction could provide information\n",
    "    regex = re.compile('([{}])'.format(re.escape(string.punctuation)))\n",
    "    df['review'] = df.review.apply(lambda x: regex.sub(r' \\1 ', x))\n",
    "    \n",
    "    # remove unnecessary space and convert all words to lower case\n",
    "    df['review'] = df.review.str.strip()\n",
    "    df['review'] = df.review.str.lower()\n",
    "    \n",
    "    # take length of review\n",
    "    df['sent_len'] = df.review.apply(lambda x: len(x.split()))\n",
    "    \n",
    "    return df\n",
    "\n",
    "data = basic_preprocess(text)"
   ]
  },
  {
   "cell_type": "markdown",
   "metadata": {},
   "source": [
    "### b. Decide maximum length of reviews"
   ]
  },
  {
   "cell_type": "markdown",
   "metadata": {},
   "source": [
    "- observe the distribution of the text length to decide the maximum length of each review"
   ]
  },
  {
   "cell_type": "code",
   "execution_count": 14,
   "metadata": {},
   "outputs": [],
   "source": [
    "import matplotlib.pyplot as plt\n",
    "%matplotlib inline"
   ]
  },
  {
   "cell_type": "code",
   "execution_count": 15,
   "metadata": {},
   "outputs": [
    {
     "data": {
      "text/plain": [
       "count    1000.000000\n",
       "mean       17.367000\n",
       "std        11.361047\n",
       "min         2.000000\n",
       "25%         9.000000\n",
       "50%        15.000000\n",
       "75%        22.250000\n",
       "max        87.000000\n",
       "Name: sent_len, dtype: float64"
      ]
     },
     "execution_count": 15,
     "metadata": {},
     "output_type": "execute_result"
    }
   ],
   "source": [
    "data['sent_len'].describe()"
   ]
  },
  {
   "cell_type": "code",
   "execution_count": 16,
   "metadata": {},
   "outputs": [
    {
     "data": {
      "text/plain": [
       "(array([312., 321., 210.,  82.,  45.,  19.,   6.,   2.,   1.,   2.]),\n",
       " array([ 2. , 10.5, 19. , 27.5, 36. , 44.5, 53. , 61.5, 70. , 78.5, 87. ]),\n",
       " <a list of 10 Patch objects>)"
      ]
     },
     "execution_count": 16,
     "metadata": {},
     "output_type": "execute_result"
    },
    {
     "data": {
      "image/png": "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\n",
      "text/plain": [
       "<Figure size 432x288 with 1 Axes>"
      ]
     },
     "metadata": {
      "needs_background": "light"
     },
     "output_type": "display_data"
    }
   ],
   "source": [
    "plt.hist(data['sent_len'])"
   ]
  },
  {
   "cell_type": "markdown",
   "metadata": {},
   "source": [
    "- from the distribution above, we could observe that only small protion of reveiws have more than 40 words\n",
    "- hence, we clip the maximum length of review to 40 words"
   ]
  },
  {
   "cell_type": "code",
   "execution_count": 17,
   "metadata": {},
   "outputs": [
    {
     "name": "stdout",
     "output_type": "stream",
     "text": [
      "count    1000.000000\n",
      "mean       16.717000\n",
      "std         9.552809\n",
      "min         2.000000\n",
      "25%         9.000000\n",
      "50%        15.000000\n",
      "75%        22.250000\n",
      "max        40.000000\n",
      "Name: sent_len, dtype: float64\n"
     ]
    }
   ],
   "source": [
    "def clip_sent_length(df, max_len):\n",
    "    \n",
    "    \"\"\"\n",
    "    Args:\n",
    "        df (pandas dataframe): The cleaned up pandas dataframe.\n",
    "        max_len (int): The maximum length used to clip review length.\n",
    "\n",
    "    Returns:\n",
    "        df (pandas dataframe): The pandas dataframe contains clipped reviews.\n",
    "    \"\"\"\n",
    "    \n",
    "    df['review'] = df.review.apply(lambda x: ' '.join(x.split(' ')[:max_len]))\n",
    "    df['sent_len'] = df.review.apply(lambda x: len(x.split()))\n",
    "    print(df['sent_len'].describe())\n",
    "    \n",
    "    return df\n",
    "\n",
    "maxLen = 40\n",
    "data = clip_sent_length(data, maxLen)"
   ]
  },
  {
   "cell_type": "markdown",
   "metadata": {},
   "source": [
    "### c. Split the dataset to training and validation set"
   ]
  },
  {
   "cell_type": "code",
   "execution_count": 18,
   "metadata": {},
   "outputs": [],
   "source": [
    "from sklearn.model_selection import train_test_split"
   ]
  },
  {
   "cell_type": "markdown",
   "metadata": {},
   "source": [
    "- split to 70% training and 30% validation with stratified sampling"
   ]
  },
  {
   "cell_type": "code",
   "execution_count": 19,
   "metadata": {},
   "outputs": [],
   "source": [
    "X, y = data.review, data.sentiment\n",
    "X_train, X_val, y_train, y_val = train_test_split(X, y, \n",
    "                                                  test_size = 0.3, \n",
    "                                                  stratify = y, \n",
    "                                                  random_state = 1)"
   ]
  },
  {
   "cell_type": "markdown",
   "metadata": {},
   "source": [
    "- reset all index, enabling to encode word to index later"
   ]
  },
  {
   "cell_type": "code",
   "execution_count": 20,
   "metadata": {},
   "outputs": [],
   "source": [
    "X_train.reset_index(drop = True, inplace = True)\n",
    "X_val.reset_index(drop = True, inplace = True)\n",
    "y_train.reset_index(drop = True, inplace = True)\n",
    "y_val.reset_index(drop = True, inplace = True)"
   ]
  },
  {
   "cell_type": "markdown",
   "metadata": {},
   "source": [
    "- example number"
   ]
  },
  {
   "cell_type": "code",
   "execution_count": 21,
   "metadata": {},
   "outputs": [
    {
     "name": "stdout",
     "output_type": "stream",
     "text": [
      "Training Set Number: 700\n",
      "Validation Set Number: 300\n"
     ]
    }
   ],
   "source": [
    "print('Training Set Number: {}'.format(X_train.shape[0]))\n",
    "print('Validation Set Number: {}'.format(X_val.shape[0]))"
   ]
  },
  {
   "cell_type": "markdown",
   "metadata": {},
   "source": [
    "- make sure target variable distrubtion for training set and validation set is the same\n",
    "- there is no label imbalance problem"
   ]
  },
  {
   "cell_type": "code",
   "execution_count": 22,
   "metadata": {},
   "outputs": [
    {
     "name": "stdout",
     "output_type": "stream",
     "text": [
      "1    0.5\n",
      "0    0.5\n",
      "Name: sentiment, dtype: float64\n"
     ]
    }
   ],
   "source": [
    "print(y_train.value_counts(normalize = True))"
   ]
  },
  {
   "cell_type": "code",
   "execution_count": 23,
   "metadata": {},
   "outputs": [
    {
     "name": "stdout",
     "output_type": "stream",
     "text": [
      "1    0.5\n",
      "0    0.5\n",
      "Name: sentiment, dtype: float64\n"
     ]
    }
   ],
   "source": [
    "print(y_val.value_counts(normalize = True))"
   ]
  },
  {
   "cell_type": "markdown",
   "metadata": {},
   "source": [
    "- example "
   ]
  },
  {
   "cell_type": "code",
   "execution_count": 24,
   "metadata": {},
   "outputs": [
    {
     "name": "stdout",
     "output_type": "stream",
     "text": [
      "it was just too horrible .\n",
      "0\n"
     ]
    }
   ],
   "source": [
    "index = 4\n",
    "print(X_train[index])\n",
    "print(y_train[index])"
   ]
  },
  {
   "cell_type": "markdown",
   "metadata": {},
   "source": [
    "### d. Encode words to indices"
   ]
  },
  {
   "cell_type": "markdown",
   "metadata": {},
   "source": [
    "- indices are required in Keras to build model"
   ]
  },
  {
   "cell_type": "code",
   "execution_count": 25,
   "metadata": {},
   "outputs": [],
   "source": [
    "def sentences_to_indices(X, word_to_index, max_len):\n",
    "        \n",
    "    \"\"\"\n",
    "    Args:\n",
    "        X (pandas series): The cleaned up pandas series contains review text.\n",
    "        word_to_index (dict): The dictionary map word to index.\n",
    "        max_len (int): The maximum length used to clip review length.\n",
    "\n",
    "    Returns:\n",
    "        X_indices (numpy matrix): The pandas dataframe contains clipped reviews.\n",
    "    \"\"\"\n",
    "    \n",
    "    # example number\n",
    "    m = X.shape[0]\n",
    "    \n",
    "    # initialize the indices  matrix as a numpy array of zeros of shape(m, max_len)\n",
    "    X_indices = np.zeros((m, max_len))\n",
    "    \n",
    "    # loop over each example\n",
    "    for i in range(m):\n",
    "        \n",
    "        sentence_words = X[i].lower().split()\n",
    "        j = 0\n",
    "        \n",
    "        # loop over each word\n",
    "        for w in sentence_words:\n",
    "            \n",
    "            # if word is not in dictionary, then view it as unknown word\n",
    "            if w not in word_to_index.keys():\n",
    "        \n",
    "                X_indices[i , j] = word_to_index['unk']\n",
    "            \n",
    "            else:\n",
    "            \n",
    "                X_indices[i , j] = word_to_index[w]\n",
    "            \n",
    "            j = j + 1\n",
    "            \n",
    "    return X_indices\n",
    "\n",
    "X_train_indices = sentences_to_indices(X_train, word_to_index, maxLen)\n",
    "X_val_indices = sentences_to_indices(X_val, word_to_index, maxLen)"
   ]
  },
  {
   "cell_type": "markdown",
   "metadata": {},
   "source": [
    "- example"
   ]
  },
  {
   "cell_type": "code",
   "execution_count": 26,
   "metadata": {},
   "outputs": [
    {
     "name": "stdout",
     "output_type": "stream",
     "text": [
      "it was just too horrible .\n",
      "[193716. 383514. 200035. 361940. 181872.    867.      0.      0.      0.\n",
      "      0.      0.      0.      0.      0.      0.      0.      0.      0.\n",
      "      0.      0.      0.      0.      0.      0.      0.      0.      0.\n",
      "      0.      0.      0.      0.      0.      0.      0.      0.      0.\n",
      "      0.      0.      0.      0.]\n"
     ]
    }
   ],
   "source": [
    "print(X_train[index])\n",
    "print(X_train_indices[index])"
   ]
  },
  {
   "cell_type": "markdown",
   "metadata": {},
   "source": [
    "# 3. Build RNN with Pre-trained Embedding Layer"
   ]
  },
  {
   "cell_type": "code",
   "execution_count": 27,
   "metadata": {},
   "outputs": [
    {
     "name": "stderr",
     "output_type": "stream",
     "text": [
      "Using TensorFlow backend.\n"
     ]
    }
   ],
   "source": [
    "from keras.layers import Input, Activation, Dense, Dropout, BatchNormalization, LSTM, Embedding, Bidirectional\n",
    "from keras.models import Model\n",
    "from keras import optimizers\n",
    "from keras import initializers"
   ]
  },
  {
   "cell_type": "markdown",
   "metadata": {},
   "source": [
    "### a. Build pre-trained GloVe embedding layer"
   ]
  },
  {
   "cell_type": "markdown",
   "metadata": {},
   "source": [
    "- to build pre-trained embedding layer, the pre-trained GloVe word embedding matrix must be built first\n",
    "- then utilizing Keras Embedding layer, we could insert weights of pre-trained GloVe word embedding matrix to Keras Embedding layer"
   ]
  },
  {
   "cell_type": "code",
   "execution_count": 28,
   "metadata": {},
   "outputs": [],
   "source": [
    "def pretrained_embedding_layer(word_to_vec_map, word_to_index):\n",
    "    \n",
    "    \"\"\"\n",
    "    Args:\n",
    "        word_to_vec_map (dict): The dictionary maps word to corresponding GloVe vector.\n",
    "        word_to_index (dict): The dictionary maps word to corresponding index.\n",
    "    \n",
    "    Returns:\n",
    "        word_to_index (keras layer): A Keras embedding layer with pre-trained GloVe weights.\n",
    "    \"\"\"\n",
    "    \n",
    "    # adding 1 to fit Keras embedding (requirement by Keras)\n",
    "    word_num = len(word_to_index) + 1\n",
    "    emb_dim = word_to_vec_map['apple'].shape[0]\n",
    "    \n",
    "    # initialize the embedding matrix as a numpy array of zeros of shape (word_num, dimensions of word vectors = emb_dim)\n",
    "    emb_matrix = np.zeros((word_num, emb_dim))\n",
    "    \n",
    "    # insert word vector to corresponding index\n",
    "    for word, index in word_to_index.items():\n",
    "        emb_matrix[index, :] = word_to_vec_map[word]\n",
    "        \n",
    "    # use Keras Embedding layer, and set the trainable = False to ensure embedding matrix won't be trained \n",
    "    embedding_layer = Embedding(input_dim = word_num, output_dim = emb_dim, trainable = False)\n",
    "    \n",
    "    # build the embedding layer, it is required before setting the weights of the embedding layer\n",
    "    embedding_layer.build((None,))\n",
    "    \n",
    "    embedding_layer.set_weights([emb_matrix])\n",
    "    \n",
    "    return embedding_layer"
   ]
  },
  {
   "cell_type": "markdown",
   "metadata": {},
   "source": [
    "### b. Build LSTM model"
   ]
  },
  {
   "cell_type": "code",
   "execution_count": 29,
   "metadata": {},
   "outputs": [],
   "source": [
    "def LSTM_Model(input_shape, word_to_vec_map, word_to_index):\n",
    "    \n",
    "    \"\"\"\n",
    "    Args:\n",
    "        input_shape (int): The maximum length of each review text.\n",
    "        word_to_vec_map (dict): The dictionary maps word to corresponding GloVe vector.\n",
    "        word_to_index (dict): The dictionary maps word to corresponding index.\n",
    "    \n",
    "    Returns:\n",
    "        model (keras model): A Keras LSTM Model.\n",
    "    \"\"\"\n",
    "    \n",
    "    # define sentence_indices as the input of the graph, it should be of shape input_shape and dtype 'int32' (as it contains indices)\n",
    "    setence_indices = Input(shape = (input_shape,), dtype = 'int32')\n",
    "    \n",
    "    # create the embedding layer pretrained with GloVe Vectors\n",
    "    embedding_layer = pretrained_embedding_layer(word_to_vec_map, word_to_index)\n",
    "    \n",
    "    # propagate sentence_indices through your embedding layer, you get back the embeddings\n",
    "    embeddings = embedding_layer(setence_indices)\n",
    "    \n",
    "    \n",
    "    # propagate the embeddings through an LSTM layer with 64-dimensional hidden state\n",
    "    # the returned output should be a batch of sequences\n",
    "    X = Bidirectional(LSTM(64, return_sequences = True, kernel_initializer = initializers.glorot_uniform(seed = 1)))(embeddings)\n",
    "    \n",
    "    # propagate X through an LSTM layer with 16-dimensional hidden state\n",
    "    X = Bidirectional(LSTM(16, return_sequences = False, kernel_initializer = initializers.glorot_uniform(seed = 1)))(X)\n",
    "    \n",
    "    # fully connect to one node, and pass to sigmoid activation layer due to binary target variable\n",
    "    X = Dense(1, kernel_initializer = initializers.glorot_uniform(seed = 1))(X)\n",
    "    X = Activation('sigmoid')(X)\n",
    "    \n",
    "    model = Model(inputs = setence_indices, outputs = X)\n",
    "    print(model.summary())\n",
    "    \n",
    "    opt = optimizers.Adam(lr = adam_opt_param.learning_rate, \n",
    "                          beta_1 = adam_opt_param.beta_1, \n",
    "                          beta_2 = adam_opt_param.beta_2, \n",
    "                          epsilon = adam_opt_param.epsilon,\n",
    "                          clipvalue = adam_opt_param.clipvalue)\n",
    "    \n",
    "    model.compile(loss = 'binary_crossentropy', \n",
    "                  optimizer = opt,\n",
    "                  metrics = ['binary_accuracy'])\n",
    "    \n",
    "    return model"
   ]
  },
  {
   "cell_type": "markdown",
   "metadata": {},
   "source": [
    "- hyper-parameters for Adam optimizer"
   ]
  },
  {
   "cell_type": "code",
   "execution_count": 30,
   "metadata": {},
   "outputs": [],
   "source": [
    "class adam_opt_param:\n",
    "    \n",
    "    learning_rate = 0.01\n",
    "    beta_1 = 0.9\n",
    "    beta_2 = 0.999 \n",
    "    epsilon = 10**-8\n",
    "    clipvalue = 0.5"
   ]
  },
  {
   "cell_type": "markdown",
   "metadata": {},
   "source": [
    "- model summary\n",
    "- 20,000,050 parameters from embedding layers are pre-trained and non-trainable"
   ]
  },
  {
   "cell_type": "code",
   "execution_count": 31,
   "metadata": {},
   "outputs": [
    {
     "name": "stdout",
     "output_type": "stream",
     "text": [
      "_________________________________________________________________\n",
      "Layer (type)                 Output Shape              Param #   \n",
      "=================================================================\n",
      "input_1 (InputLayer)         (None, 40)                0         \n",
      "_________________________________________________________________\n",
      "embedding_1 (Embedding)      (None, 40, 50)            20000050  \n",
      "_________________________________________________________________\n",
      "bidirectional_1 (Bidirection (None, 40, 128)           58880     \n",
      "_________________________________________________________________\n",
      "bidirectional_2 (Bidirection (None, 32)                18560     \n",
      "_________________________________________________________________\n",
      "dense_1 (Dense)              (None, 1)                 33        \n",
      "_________________________________________________________________\n",
      "activation_1 (Activation)    (None, 1)                 0         \n",
      "=================================================================\n",
      "Total params: 20,077,523\n",
      "Trainable params: 77,473\n",
      "Non-trainable params: 20,000,050\n",
      "_________________________________________________________________\n",
      "None\n"
     ]
    }
   ],
   "source": [
    "model = LSTM_Model(input_shape = maxLen, word_to_vec_map = word_to_vec_map, word_to_index = word_to_index)"
   ]
  },
  {
   "cell_type": "markdown",
   "metadata": {},
   "source": [
    "### c. Fit the model with training and validation dataset"
   ]
  },
  {
   "cell_type": "code",
   "execution_count": 32,
   "metadata": {},
   "outputs": [],
   "source": [
    "import tensorflow as tf"
   ]
  },
  {
   "cell_type": "code",
   "execution_count": 33,
   "metadata": {
    "scrolled": true
   },
   "outputs": [
    {
     "name": "stdout",
     "output_type": "stream",
     "text": [
      "Train on 700 samples, validate on 300 samples\n",
      "Epoch 1/50\n",
      " - 4s - loss: 0.6632 - binary_accuracy: 0.6157 - val_loss: 0.6266 - val_binary_accuracy: 0.6500\n",
      "Epoch 2/50\n",
      " - 1s - loss: 0.5902 - binary_accuracy: 0.6714 - val_loss: 0.4710 - val_binary_accuracy: 0.8000\n",
      "Epoch 3/50\n",
      " - 1s - loss: 0.4495 - binary_accuracy: 0.8000 - val_loss: 0.4222 - val_binary_accuracy: 0.8033\n",
      "Epoch 4/50\n",
      " - 1s - loss: 0.4003 - binary_accuracy: 0.8229 - val_loss: 0.4302 - val_binary_accuracy: 0.8067\n",
      "Epoch 5/50\n",
      " - 1s - loss: 0.3246 - binary_accuracy: 0.8600 - val_loss: 0.4408 - val_binary_accuracy: 0.7967\n",
      "Epoch 6/50\n",
      " - 1s - loss: 0.2714 - binary_accuracy: 0.8943 - val_loss: 0.4852 - val_binary_accuracy: 0.7900\n",
      "Epoch 7/50\n",
      " - 1s - loss: 0.2092 - binary_accuracy: 0.9129 - val_loss: 0.5105 - val_binary_accuracy: 0.8033\n",
      "Epoch 8/50\n",
      " - 1s - loss: 0.1352 - binary_accuracy: 0.9571 - val_loss: 0.6669 - val_binary_accuracy: 0.7600\n",
      "Epoch 9/50\n",
      " - 1s - loss: 0.1611 - binary_accuracy: 0.9357 - val_loss: 0.5265 - val_binary_accuracy: 0.7900\n",
      "Epoch 10/50\n",
      " - 1s - loss: 0.1179 - binary_accuracy: 0.9614 - val_loss: 0.6114 - val_binary_accuracy: 0.7800\n",
      "Epoch 11/50\n",
      " - 1s - loss: 0.0714 - binary_accuracy: 0.9786 - val_loss: 0.7890 - val_binary_accuracy: 0.7800\n",
      "Epoch 12/50\n",
      " - 1s - loss: 0.0762 - binary_accuracy: 0.9657 - val_loss: 0.6876 - val_binary_accuracy: 0.8100\n",
      "Epoch 13/50\n",
      " - 1s - loss: 0.0658 - binary_accuracy: 0.9757 - val_loss: 0.7605 - val_binary_accuracy: 0.7833\n",
      "Epoch 14/50\n",
      " - 1s - loss: 0.0559 - binary_accuracy: 0.9814 - val_loss: 0.7583 - val_binary_accuracy: 0.7867\n",
      "Epoch 15/50\n",
      " - 1s - loss: 0.0168 - binary_accuracy: 0.9957 - val_loss: 0.9640 - val_binary_accuracy: 0.7800\n",
      "Epoch 16/50\n",
      " - 1s - loss: 0.0205 - binary_accuracy: 0.9929 - val_loss: 0.9340 - val_binary_accuracy: 0.8067\n",
      "Epoch 17/50\n",
      " - 1s - loss: 0.0118 - binary_accuracy: 0.9957 - val_loss: 1.1852 - val_binary_accuracy: 0.7733\n",
      "Epoch 18/50\n",
      " - 1s - loss: 0.0479 - binary_accuracy: 0.9829 - val_loss: 0.9089 - val_binary_accuracy: 0.7767\n",
      "Epoch 19/50\n",
      " - 1s - loss: 0.0430 - binary_accuracy: 0.9829 - val_loss: 0.8328 - val_binary_accuracy: 0.7833\n",
      "Epoch 20/50\n",
      " - 1s - loss: 0.0300 - binary_accuracy: 0.9900 - val_loss: 1.0985 - val_binary_accuracy: 0.7733\n",
      "Epoch 21/50\n",
      " - 1s - loss: 0.0519 - binary_accuracy: 0.9814 - val_loss: 1.0241 - val_binary_accuracy: 0.7900\n",
      "Epoch 22/50\n",
      " - 1s - loss: 0.0724 - binary_accuracy: 0.9657 - val_loss: 0.6915 - val_binary_accuracy: 0.8067\n",
      "Epoch 23/50\n",
      " - 1s - loss: 0.0308 - binary_accuracy: 0.9929 - val_loss: 0.8420 - val_binary_accuracy: 0.7867\n",
      "Epoch 24/50\n",
      " - 1s - loss: 0.0254 - binary_accuracy: 0.9886 - val_loss: 0.8768 - val_binary_accuracy: 0.7933\n",
      "Epoch 25/50\n",
      " - 1s - loss: 0.0088 - binary_accuracy: 0.9971 - val_loss: 0.9594 - val_binary_accuracy: 0.8033\n",
      "Epoch 26/50\n",
      " - 1s - loss: 0.0052 - binary_accuracy: 0.9971 - val_loss: 1.0401 - val_binary_accuracy: 0.7933\n",
      "Epoch 27/50\n",
      " - 1s - loss: 0.0028 - binary_accuracy: 0.9986 - val_loss: 1.1116 - val_binary_accuracy: 0.7833\n",
      "Epoch 28/50\n",
      " - 1s - loss: 0.0028 - binary_accuracy: 0.9986 - val_loss: 1.1533 - val_binary_accuracy: 0.7767\n",
      "Epoch 29/50\n",
      " - 1s - loss: 0.0022 - binary_accuracy: 0.9986 - val_loss: 1.1815 - val_binary_accuracy: 0.7733\n",
      "Epoch 30/50\n",
      " - 1s - loss: 0.0019 - binary_accuracy: 0.9986 - val_loss: 1.1989 - val_binary_accuracy: 0.7700\n",
      "Epoch 31/50\n",
      " - 1s - loss: 0.0017 - binary_accuracy: 0.9986 - val_loss: 1.2130 - val_binary_accuracy: 0.7800\n",
      "Epoch 32/50\n",
      " - 1s - loss: 0.0015 - binary_accuracy: 0.9986 - val_loss: 1.2277 - val_binary_accuracy: 0.7833\n",
      "Epoch 33/50\n",
      " - 1s - loss: 0.0014 - binary_accuracy: 1.0000 - val_loss: 1.2428 - val_binary_accuracy: 0.7833\n",
      "Epoch 34/50\n",
      " - 1s - loss: 0.0013 - binary_accuracy: 1.0000 - val_loss: 1.2558 - val_binary_accuracy: 0.7833\n",
      "Epoch 35/50\n",
      " - 1s - loss: 0.0012 - binary_accuracy: 1.0000 - val_loss: 1.2690 - val_binary_accuracy: 0.7833\n",
      "Epoch 36/50\n",
      " - 1s - loss: 0.0011 - binary_accuracy: 1.0000 - val_loss: 1.2817 - val_binary_accuracy: 0.7900\n",
      "Epoch 37/50\n",
      " - 1s - loss: 9.8560e-04 - binary_accuracy: 1.0000 - val_loss: 1.2954 - val_binary_accuracy: 0.7900\n",
      "Epoch 38/50\n",
      " - 1s - loss: 9.3410e-04 - binary_accuracy: 1.0000 - val_loss: 1.3079 - val_binary_accuracy: 0.7900\n",
      "Epoch 39/50\n",
      " - 1s - loss: 8.7231e-04 - binary_accuracy: 1.0000 - val_loss: 1.3219 - val_binary_accuracy: 0.7867\n",
      "Epoch 40/50\n",
      " - 1s - loss: 8.1869e-04 - binary_accuracy: 1.0000 - val_loss: 1.3354 - val_binary_accuracy: 0.7867\n",
      "Epoch 41/50\n",
      " - 1s - loss: 7.7373e-04 - binary_accuracy: 1.0000 - val_loss: 1.3497 - val_binary_accuracy: 0.7867\n",
      "Epoch 42/50\n",
      " - 1s - loss: 7.3510e-04 - binary_accuracy: 1.0000 - val_loss: 1.3621 - val_binary_accuracy: 0.7833\n",
      "Epoch 43/50\n",
      " - 1s - loss: 6.8788e-04 - binary_accuracy: 1.0000 - val_loss: 1.3739 - val_binary_accuracy: 0.7833\n",
      "Epoch 44/50\n",
      " - 1s - loss: 6.5357e-04 - binary_accuracy: 1.0000 - val_loss: 1.3864 - val_binary_accuracy: 0.7833\n",
      "Epoch 45/50\n",
      " - 1s - loss: 6.2283e-04 - binary_accuracy: 1.0000 - val_loss: 1.3961 - val_binary_accuracy: 0.7833\n",
      "Epoch 46/50\n",
      " - 1s - loss: 5.8959e-04 - binary_accuracy: 1.0000 - val_loss: 1.4068 - val_binary_accuracy: 0.7833\n",
      "Epoch 47/50\n",
      " - 1s - loss: 5.6745e-04 - binary_accuracy: 1.0000 - val_loss: 1.4173 - val_binary_accuracy: 0.7833\n",
      "Epoch 48/50\n",
      " - 1s - loss: 5.4789e-04 - binary_accuracy: 1.0000 - val_loss: 1.4239 - val_binary_accuracy: 0.7833\n",
      "Epoch 49/50\n",
      " - 1s - loss: 5.1800e-04 - binary_accuracy: 1.0000 - val_loss: 1.4333 - val_binary_accuracy: 0.7800\n",
      "Epoch 50/50\n",
      " - 1s - loss: 4.9495e-04 - binary_accuracy: 1.0000 - val_loss: 1.4433 - val_binary_accuracy: 0.7767\n"
     ]
    }
   ],
   "source": [
    "tf.set_random_seed(1)\n",
    "\n",
    "history = model.fit(x = X_train_indices, y = y_train,\n",
    "                    epochs = 50,\n",
    "                    batch_size = 32, \n",
    "                    verbose = 2,\n",
    "                    shuffle = True,\n",
    "                    validation_data = (X_val_indices, y_val))"
   ]
  },
  {
   "cell_type": "markdown",
   "metadata": {},
   "source": [
    "- plot and observe training and validation error to tune hyper-parameters to reduce bias or variance"
   ]
  },
  {
   "cell_type": "code",
   "execution_count": 34,
   "metadata": {},
   "outputs": [],
   "source": [
    "def plot_metric_loss(history, metrics):\n",
    "    \n",
    "    \"\"\"\n",
    "    Args:\n",
    "        history (keras history): The output history of a keras model\n",
    "        metrics (str): The metrics used in the fitted keras model\n",
    "    \n",
    "    Returns:\n",
    "        None\n",
    "    \"\"\"\n",
    "    \n",
    "    fig, (ax1, ax2) = plt.subplots(1, 2, figsize = (8, 6))\n",
    "    \n",
    "    ax1.plot(history.history[metrics])\n",
    "    ax1.plot(history.history['val_' + metrics])\n",
    "    ax1.set_title('Model Accuracy')\n",
    "    ax1.set_xlabel('Epoch')\n",
    "    ax1.set_ylabel('Accuracy')\n",
    "    ax1.legend(['Train', 'Val'], loc = 'upper left')\n",
    "    \n",
    "    ax2.plot(history.history['loss'])\n",
    "    ax2.plot(history.history['val_loss'])\n",
    "    ax2.set_title('Model Loss')\n",
    "    ax2.set_xlabel('Epoch')\n",
    "    ax2.set_ylabel('Loss')\n",
    "    ax2.legend(['Train', 'Val'], loc = 'upper left')\n",
    "    \n",
    "    plt.show()"
   ]
  },
  {
   "cell_type": "code",
   "execution_count": 35,
   "metadata": {},
   "outputs": [
    {
     "data": {
      "image/png": "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\n",
      "text/plain": [
       "<Figure size 576x432 with 2 Axes>"
      ]
     },
     "metadata": {
      "needs_background": "light"
     },
     "output_type": "display_data"
    }
   ],
   "source": [
    "plot_metric_loss(history, 'binary_accuracy')"
   ]
  },
  {
   "cell_type": "markdown",
   "metadata": {},
   "source": [
    "- We could observe that the LSTM is overfitting after 10 epochs since the validation error keeps rising while training error keeps reducing to almost 0.\n",
    "- The solution for overfitting are \n",
    "    1. Searching for better network structure or hyper-parameters  \n",
    "    2. Collecting more data  \n",
    "    3. Adding more regularization "
   ]
  },
  {
   "cell_type": "markdown",
   "metadata": {},
   "source": [
    "### d. Search for better network architecture or better hyper-parameters"
   ]
  },
  {
   "cell_type": "markdown",
   "metadata": {},
   "source": [
    "- Though the best solution is probably to collect more data since there are only 1000 examples here, we'll try to add more regularization to see if we could reduce the variance\n",
    "- Add dropout layers with a probability of 0.5 to model"
   ]
  },
  {
   "cell_type": "code",
   "execution_count": 36,
   "metadata": {},
   "outputs": [],
   "source": [
    "def LSTM_Model_Dropout(input_shape, word_to_vec_map, word_to_index):\n",
    "    \n",
    "    \"\"\"\n",
    "    Args:\n",
    "        input_shape (int): The maximum length of each review text.\n",
    "        word_to_vec_map (dict): The dictionary maps word to corresponding GloVe vector.\n",
    "        word_to_index (dict): The dictionary maps word to corresponding index.\n",
    "    \n",
    "    Returns:\n",
    "        model (keras model): A Keras LSTM Model.\n",
    "    \"\"\"\n",
    "    \n",
    "    # define sentence_indices as the input of the graph, it should be of shape input_shape and dtype 'int32' (as it contains indices)\n",
    "    setence_indices = Input(shape = (input_shape,), dtype = 'int32')\n",
    "    \n",
    "    # create the embedding layer pretrained with GloVe Vectors\n",
    "    embedding_layer = pretrained_embedding_layer(word_to_vec_map, word_to_index)\n",
    "    \n",
    "    # propagate sentence_indices through your embedding layer, you get back the embeddings\n",
    "    embeddings = embedding_layer(setence_indices)\n",
    "    \n",
    "    \n",
    "    # propagate the embeddings through an LSTM layer with 64-dimensional hidden state\n",
    "    # the returned output should be a batch of sequences\n",
    "    X = Bidirectional(LSTM(64, return_sequences = True, kernel_initializer = initializers.glorot_uniform(seed = 1)))(embeddings)\n",
    "    # Add dropout with a probability of 0.5\n",
    "    X = Dropout(0.5, seed = 1)(X)\n",
    "    \n",
    "    # propagate X through an LSTM layer with 16-dimensional hidden state\n",
    "    X = Bidirectional(LSTM(16, return_sequences = False, kernel_initializer = initializers.glorot_uniform(seed = 1)))(X)\n",
    "    X = Dropout(0.5, seed = 1)(X)\n",
    "    \n",
    "    # fully connect to one node, and pass to sigmoid activation layer due to binary target variable\n",
    "    X = Dense(1, kernel_initializer = initializers.glorot_uniform(seed = 1))(X)\n",
    "    X = Activation('sigmoid')(X)\n",
    "    \n",
    "    model = Model(inputs = setence_indices, outputs = X)\n",
    "    print(model.summary())\n",
    "    \n",
    "    opt = optimizers.Adam(lr = adam_opt_param.learning_rate, \n",
    "                          beta_1 = adam_opt_param.beta_1, \n",
    "                          beta_2 = adam_opt_param.beta_2, \n",
    "                          epsilon = adam_opt_param.epsilon,\n",
    "                          clipvalue = adam_opt_param.clipvalue)\n",
    "    \n",
    "    model.compile(loss = 'binary_crossentropy', \n",
    "                  optimizer = opt,\n",
    "                  metrics = ['binary_accuracy'])\n",
    "    \n",
    "    return model"
   ]
  },
  {
   "cell_type": "code",
   "execution_count": 37,
   "metadata": {},
   "outputs": [
    {
     "name": "stdout",
     "output_type": "stream",
     "text": [
      "_________________________________________________________________\n",
      "Layer (type)                 Output Shape              Param #   \n",
      "=================================================================\n",
      "input_2 (InputLayer)         (None, 40)                0         \n",
      "_________________________________________________________________\n",
      "embedding_2 (Embedding)      (None, 40, 50)            20000050  \n",
      "_________________________________________________________________\n",
      "bidirectional_3 (Bidirection (None, 40, 128)           58880     \n",
      "_________________________________________________________________\n",
      "dropout_1 (Dropout)          (None, 40, 128)           0         \n",
      "_________________________________________________________________\n",
      "bidirectional_4 (Bidirection (None, 32)                18560     \n",
      "_________________________________________________________________\n",
      "dropout_2 (Dropout)          (None, 32)                0         \n",
      "_________________________________________________________________\n",
      "dense_2 (Dense)              (None, 1)                 33        \n",
      "_________________________________________________________________\n",
      "activation_2 (Activation)    (None, 1)                 0         \n",
      "=================================================================\n",
      "Total params: 20,077,523\n",
      "Trainable params: 77,473\n",
      "Non-trainable params: 20,000,050\n",
      "_________________________________________________________________\n",
      "None\n"
     ]
    }
   ],
   "source": [
    "model_dropout = LSTM_Model_Dropout(input_shape = maxLen, word_to_vec_map = word_to_vec_map, word_to_index = word_to_index)"
   ]
  },
  {
   "cell_type": "code",
   "execution_count": 38,
   "metadata": {
    "scrolled": true
   },
   "outputs": [
    {
     "name": "stdout",
     "output_type": "stream",
     "text": [
      "Train on 700 samples, validate on 300 samples\n",
      "Epoch 1/50\n",
      " - 5s - loss: 0.6653 - binary_accuracy: 0.6143 - val_loss: 0.5785 - val_binary_accuracy: 0.7200\n",
      "Epoch 2/50\n",
      " - 1s - loss: 0.5813 - binary_accuracy: 0.7043 - val_loss: 0.5380 - val_binary_accuracy: 0.7433\n",
      "Epoch 3/50\n",
      " - 1s - loss: 0.5154 - binary_accuracy: 0.7557 - val_loss: 0.4447 - val_binary_accuracy: 0.8133\n",
      "Epoch 4/50\n",
      " - 1s - loss: 0.4374 - binary_accuracy: 0.8271 - val_loss: 0.4439 - val_binary_accuracy: 0.8000\n",
      "Epoch 5/50\n",
      " - 1s - loss: 0.3801 - binary_accuracy: 0.8414 - val_loss: 0.4341 - val_binary_accuracy: 0.8000\n",
      "Epoch 6/50\n",
      " - 1s - loss: 0.3195 - binary_accuracy: 0.8786 - val_loss: 0.4332 - val_binary_accuracy: 0.7967\n",
      "Epoch 7/50\n",
      " - 1s - loss: 0.3020 - binary_accuracy: 0.8786 - val_loss: 0.5326 - val_binary_accuracy: 0.7867\n",
      "Epoch 8/50\n",
      " - 1s - loss: 0.2618 - binary_accuracy: 0.9086 - val_loss: 0.5522 - val_binary_accuracy: 0.8000\n",
      "Epoch 9/50\n",
      " - 1s - loss: 0.2308 - binary_accuracy: 0.9200 - val_loss: 0.6448 - val_binary_accuracy: 0.7933\n",
      "Epoch 10/50\n",
      " - 1s - loss: 0.1842 - binary_accuracy: 0.9343 - val_loss: 0.5976 - val_binary_accuracy: 0.7700\n",
      "Epoch 11/50\n",
      " - 1s - loss: 0.1636 - binary_accuracy: 0.9457 - val_loss: 0.6032 - val_binary_accuracy: 0.8100\n",
      "Epoch 12/50\n",
      " - 1s - loss: 0.1051 - binary_accuracy: 0.9643 - val_loss: 0.7177 - val_binary_accuracy: 0.8067\n",
      "Epoch 13/50\n",
      " - 1s - loss: 0.1279 - binary_accuracy: 0.9629 - val_loss: 0.7038 - val_binary_accuracy: 0.7833\n",
      "Epoch 14/50\n",
      " - 1s - loss: 0.2086 - binary_accuracy: 0.9314 - val_loss: 0.6477 - val_binary_accuracy: 0.7767\n",
      "Epoch 15/50\n",
      " - 1s - loss: 0.1488 - binary_accuracy: 0.9457 - val_loss: 0.6923 - val_binary_accuracy: 0.7800\n",
      "Epoch 16/50\n",
      " - 1s - loss: 0.0846 - binary_accuracy: 0.9700 - val_loss: 0.8495 - val_binary_accuracy: 0.7833\n",
      "Epoch 17/50\n",
      " - 1s - loss: 0.0673 - binary_accuracy: 0.9786 - val_loss: 0.8675 - val_binary_accuracy: 0.7833\n",
      "Epoch 18/50\n",
      " - 1s - loss: 0.0513 - binary_accuracy: 0.9886 - val_loss: 0.9688 - val_binary_accuracy: 0.7567\n",
      "Epoch 19/50\n",
      " - 1s - loss: 0.0324 - binary_accuracy: 0.9900 - val_loss: 1.1605 - val_binary_accuracy: 0.7400\n",
      "Epoch 20/50\n",
      " - 1s - loss: 0.0548 - binary_accuracy: 0.9771 - val_loss: 0.9417 - val_binary_accuracy: 0.7833\n",
      "Epoch 21/50\n",
      " - 1s - loss: 0.0560 - binary_accuracy: 0.9786 - val_loss: 0.9157 - val_binary_accuracy: 0.7933\n",
      "Epoch 22/50\n",
      " - 1s - loss: 0.0322 - binary_accuracy: 0.9900 - val_loss: 1.0295 - val_binary_accuracy: 0.7900\n",
      "Epoch 23/50\n",
      " - 1s - loss: 0.0386 - binary_accuracy: 0.9914 - val_loss: 1.0993 - val_binary_accuracy: 0.7833\n",
      "Epoch 24/50\n",
      " - 1s - loss: 0.0577 - binary_accuracy: 0.9814 - val_loss: 0.8745 - val_binary_accuracy: 0.8133\n",
      "Epoch 25/50\n",
      " - 1s - loss: 0.0406 - binary_accuracy: 0.9857 - val_loss: 0.9904 - val_binary_accuracy: 0.8067\n",
      "Epoch 26/50\n",
      " - 1s - loss: 0.0230 - binary_accuracy: 0.9914 - val_loss: 1.2081 - val_binary_accuracy: 0.8033\n",
      "Epoch 27/50\n",
      " - 1s - loss: 0.0104 - binary_accuracy: 0.9957 - val_loss: 1.1766 - val_binary_accuracy: 0.8133\n",
      "Epoch 28/50\n",
      " - 1s - loss: 0.0199 - binary_accuracy: 0.9914 - val_loss: 1.2758 - val_binary_accuracy: 0.8100\n",
      "Epoch 29/50\n",
      " - 1s - loss: 0.0144 - binary_accuracy: 0.9971 - val_loss: 1.1491 - val_binary_accuracy: 0.8167\n",
      "Epoch 30/50\n",
      " - 1s - loss: 0.0057 - binary_accuracy: 1.0000 - val_loss: 1.2648 - val_binary_accuracy: 0.8100\n",
      "Epoch 31/50\n",
      " - 1s - loss: 0.0202 - binary_accuracy: 0.9943 - val_loss: 1.1811 - val_binary_accuracy: 0.8300\n",
      "Epoch 32/50\n",
      " - 1s - loss: 0.0189 - binary_accuracy: 0.9929 - val_loss: 1.3209 - val_binary_accuracy: 0.7933\n",
      "Epoch 33/50\n",
      " - 1s - loss: 0.0235 - binary_accuracy: 0.9914 - val_loss: 1.3725 - val_binary_accuracy: 0.8033\n",
      "Epoch 34/50\n",
      " - 1s - loss: 0.1524 - binary_accuracy: 0.9529 - val_loss: 0.8398 - val_binary_accuracy: 0.7933\n",
      "Epoch 35/50\n",
      " - 1s - loss: 0.0702 - binary_accuracy: 0.9743 - val_loss: 0.9181 - val_binary_accuracy: 0.7867\n",
      "Epoch 36/50\n",
      " - 1s - loss: 0.0453 - binary_accuracy: 0.9800 - val_loss: 1.0809 - val_binary_accuracy: 0.7800\n",
      "Epoch 37/50\n",
      " - 1s - loss: 0.0464 - binary_accuracy: 0.9829 - val_loss: 0.9505 - val_binary_accuracy: 0.7633\n",
      "Epoch 38/50\n",
      " - 1s - loss: 0.0327 - binary_accuracy: 0.9914 - val_loss: 1.2910 - val_binary_accuracy: 0.7633\n",
      "Epoch 39/50\n",
      " - 1s - loss: 0.0125 - binary_accuracy: 0.9957 - val_loss: 1.3112 - val_binary_accuracy: 0.7933\n",
      "Epoch 40/50\n",
      " - 1s - loss: 0.0063 - binary_accuracy: 0.9986 - val_loss: 1.4605 - val_binary_accuracy: 0.7767\n",
      "Epoch 41/50\n",
      " - 1s - loss: 0.0071 - binary_accuracy: 0.9986 - val_loss: 1.4693 - val_binary_accuracy: 0.7800\n",
      "Epoch 42/50\n",
      " - 1s - loss: 0.0051 - binary_accuracy: 0.9986 - val_loss: 1.5230 - val_binary_accuracy: 0.7900\n",
      "Epoch 43/50\n",
      " - 1s - loss: 0.0041 - binary_accuracy: 0.9986 - val_loss: 1.5541 - val_binary_accuracy: 0.7733\n",
      "Epoch 44/50\n",
      " - 1s - loss: 0.0029 - binary_accuracy: 0.9986 - val_loss: 1.5752 - val_binary_accuracy: 0.7867\n",
      "Epoch 45/50\n",
      " - 1s - loss: 0.0059 - binary_accuracy: 0.9971 - val_loss: 1.3840 - val_binary_accuracy: 0.8033\n",
      "Epoch 46/50\n",
      " - 1s - loss: 0.0553 - binary_accuracy: 0.9814 - val_loss: 1.0738 - val_binary_accuracy: 0.8067\n",
      "Epoch 47/50\n",
      " - 1s - loss: 0.0350 - binary_accuracy: 0.9886 - val_loss: 0.9398 - val_binary_accuracy: 0.8067\n",
      "Epoch 48/50\n",
      " - 1s - loss: 0.0230 - binary_accuracy: 0.9900 - val_loss: 1.1027 - val_binary_accuracy: 0.8133\n",
      "Epoch 49/50\n",
      " - 1s - loss: 0.0143 - binary_accuracy: 0.9914 - val_loss: 1.3991 - val_binary_accuracy: 0.8000\n",
      "Epoch 50/50\n",
      " - 1s - loss: 0.0131 - binary_accuracy: 0.9971 - val_loss: 1.3940 - val_binary_accuracy: 0.7700\n"
     ]
    }
   ],
   "source": [
    "tf.set_random_seed(1)\n",
    "\n",
    "history_dropout = model_dropout.fit(x = X_train_indices, y = y_train,\n",
    "                                    epochs = 50,\n",
    "                                    batch_size = 32, \n",
    "                                    verbose = 2,\n",
    "                                    shuffle = True,\n",
    "                                    validation_data = (X_val_indices, y_val))"
   ]
  },
  {
   "cell_type": "code",
   "execution_count": 39,
   "metadata": {},
   "outputs": [
    {
     "data": {
      "image/png": "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
