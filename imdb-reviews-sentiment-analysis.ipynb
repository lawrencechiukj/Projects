{
 "cells": [
  {
   "cell_type": "markdown",
   "metadata": {},
   "source": [
    "# 0. Overview\n",
    "\n",
    "In the dataset, each record contains a IMDB movie review and corresponding sentiment (0 for negative, 1 for positive).<br>\n",
    "This notebook will use Keras LSTM model to classify the sentiment of reviews.<br>\n",
    "\n",
    "#### 1. Load Data\n",
    "a. Load IMDB review data<br>\n",
    "b. Load pre-trained GloVe word embedding matrix\n",
    "#### 2. Preprocessing\n",
    "a. Basic preprocessing<br>\n",
    "b. Decide maximum length of reviews<br>\n",
    "c. Split the dataset to training and validation set<br>\n",
    "d. Encode words to indices\n",
    "#### 3. Build RNN with Pre-trained Embedding Layer\n",
    "a. Build pre-trained GloVe embedding layer<br>\n",
    "b. Build LSTM model<br>\n",
    "c. Fit the model with training and validation dataset<br>\n",
    "d. Search for better network architecture or better hyper-parameters\n",
    "#### 4. Plot ROC"
   ]
  },
  {
   "cell_type": "markdown",
   "metadata": {},
   "source": [
    "# 1. Load Data"
   ]
  },
  {
   "cell_type": "markdown",
   "metadata": {},
   "source": [
    "### a. Load IMDB review data"
   ]
  },
  {
   "cell_type": "markdown",
   "metadata": {},
   "source": [
    "- create a configure object containing root directory and all necessary subdirectries "
   ]
  },
  {
   "cell_type": "code",
   "execution_count": 1,
   "metadata": {},
   "outputs": [],
   "source": [
    "class Config:\n",
    "    \n",
    "    root_dir = 'D:\\\\Job\\\\Codes\\\\'\n",
    "    data_dir = root_dir + 'Data\\\\sentiment labelled sentences\\\\imdb_labelled.txt'\n",
    "    glove_dir = root_dir + 'Data\\\\sentiment labelled sentences\\\\glove.6B\\\\glove.6B.50d.txt'\n",
    "\n",
    "config = Config"
   ]
  },
  {
   "cell_type": "markdown",
   "metadata": {},
   "source": [
    "- read each line of the targeted text file"
   ]
  },
  {
   "cell_type": "code",
   "execution_count": 2,
   "metadata": {},
   "outputs": [],
   "source": [
    "with open(config.data_dir, 'r', encoding = 'utf-8') as f:\n",
    "    \n",
    "    text = f.readlines()"
   ]
  },
  {
   "cell_type": "markdown",
   "metadata": {},
   "source": [
    "- there are 1000 reviews in total"
   ]
  },
  {
   "cell_type": "code",
   "execution_count": 3,
   "metadata": {},
   "outputs": [
    {
     "name": "stdout",
     "output_type": "stream",
     "text": [
      "Review Number: 1000 records\n"
     ]
    }
   ],
   "source": [
    "print('Review Number: {} records'.format(len(text)))"
   ]
  },
  {
   "cell_type": "markdown",
   "metadata": {},
   "source": [
    "- each line contains the movie review and the target variable sentiment (0 for negative, 1 for positive)"
   ]
  },
  {
   "cell_type": "code",
   "execution_count": 4,
   "metadata": {
    "scrolled": true
   },
   "outputs": [
    {
     "name": "stdout",
     "output_type": "stream",
     "text": [
      "A very, very, very slow-moving, aimless movie about a distressed, drifting young man.  \t0\n",
      "\n",
      "Not sure who was more lost - the flat characters or the audience, nearly half of whom walked out.  \t0\n",
      "\n",
      "Attempting artiness with black & white and clever camera angles, the movie disappointed - became even more ridiculous - as the acting was poor and the plot and lines almost non-existent.  \t0\n",
      "\n"
     ]
    }
   ],
   "source": [
    "print(text[0])\n",
    "print(text[1])\n",
    "print(text[2])"
   ]
  },
  {
   "cell_type": "markdown",
   "metadata": {},
   "source": [
    "### b. Load pre-trained GloVe word embedding matrix"
   ]
  },
  {
   "cell_type": "code",
   "execution_count": 5,
   "metadata": {},
   "outputs": [],
   "source": [
    "import numpy as np"
   ]
  },
  {
   "cell_type": "code",
   "execution_count": 6,
   "metadata": {},
   "outputs": [],
   "source": [
    "def read_glove_vecs(glove_dir):\n",
    "    \n",
    "    \"\"\"\n",
    "    Args:\n",
    "        \n",
    "        glove_dir (str): The directory of pre-trained GloVe word embedding matrix.\n",
    "    \n",
    "    Returns:\n",
    "        \n",
    "        word_to_index (dict): A dictionary map word to index.\n",
    "        index_to_word (dict): A dictionary map index to word.\n",
    "        word_to_vec_map (dict): A dictionary map word to its GloVe vector.\n",
    "    \"\"\"\n",
    "    \n",
    "    with open(glove_dir, 'r', encoding = 'utf-8') as f:\n",
    "        \n",
    "        # initialize words set and word_to_vec_map dictionary\n",
    "        words = set()\n",
    "        word_to_vec_map = {}\n",
    "        \n",
    "        # append each word and its vector to set and dictionary above\n",
    "        for line in f:\n",
    "            line = line.strip().split()\n",
    "            curr_word = line[0]\n",
    "            words.add(curr_word)\n",
    "            word_to_vec_map[curr_word] = np.array(line[1:], dtype = np.float64)\n",
    "            \n",
    "        # initialize index word dictionary\n",
    "        i = 1\n",
    "        word_to_index = {}\n",
    "        index_to_word = {}\n",
    "        \n",
    "        # append each word and its index to dictionary above\n",
    "        for w in sorted(words):\n",
    "            word_to_index[w] = i\n",
    "            index_to_word[i] = w\n",
    "            i = i + 1\n",
    "    \n",
    "    return word_to_index, index_to_word, word_to_vec_map"
   ]
  },
  {
   "cell_type": "code",
   "execution_count": 7,
   "metadata": {},
   "outputs": [],
   "source": [
    "word_to_index, index_to_word, word_to_vec_map = read_glove_vecs(config.glove_dir)"
   ]
  },
  {
   "cell_type": "markdown",
   "metadata": {},
   "source": [
    "- word number of the GloVe"
   ]
  },
  {
   "cell_type": "code",
   "execution_count": 8,
   "metadata": {},
   "outputs": [
    {
     "name": "stdout",
     "output_type": "stream",
     "text": [
      "Word Number: 400000\n"
     ]
    }
   ],
   "source": [
    "print('Word Number: {}'.format(len(word_to_index)))"
   ]
  },
  {
   "cell_type": "markdown",
   "metadata": {},
   "source": [
    "- vector dimension of the GloVe"
   ]
  },
  {
   "cell_type": "code",
   "execution_count": 9,
   "metadata": {},
   "outputs": [
    {
     "name": "stdout",
     "output_type": "stream",
     "text": [
      "Dimension Number: 50\n"
     ]
    }
   ],
   "source": [
    "print('Dimension Number: {}'.format(len(word_to_vec_map['apple'])))"
   ]
  },
  {
   "cell_type": "markdown",
   "metadata": {},
   "source": [
    "- example"
   ]
  },
  {
   "cell_type": "code",
   "execution_count": 10,
   "metadata": {},
   "outputs": [
    {
     "name": "stdout",
     "output_type": "stream",
     "text": [
      "57797\n",
      "apple\n"
     ]
    }
   ],
   "source": [
    "print(word_to_index['apple'])\n",
    "print(index_to_word[57797])"
   ]
  },
  {
   "cell_type": "code",
   "execution_count": 11,
   "metadata": {},
   "outputs": [
    {
     "name": "stdout",
     "output_type": "stream",
     "text": [
      "[ 0.52042  -0.8314    0.49961   1.2893    0.1151    0.057521 -1.3753\n",
      " -0.97313   0.18346   0.47672  -0.15112   0.35532   0.25912  -0.77857\n",
      "  0.52181   0.47695  -1.4251    0.858     0.59821  -1.0903    0.33574\n",
      " -0.60891   0.41742   0.21569  -0.07417  -0.5822   -0.4502    0.17253\n",
      "  0.16448  -0.38413   2.3283   -0.66682  -0.58181   0.74389   0.095015\n",
      " -0.47865  -0.84591   0.38704   0.23693  -1.5523    0.64802  -0.16521\n",
      " -1.4719   -0.16224   0.79857   0.97391   0.40027  -0.21912  -0.30938\n",
      "  0.26581 ]\n"
     ]
    }
   ],
   "source": [
    "print(word_to_vec_map['apple'])"
   ]
  },
  {
   "cell_type": "markdown",
   "metadata": {},
   "source": [
    "# 2. Preprocessing"
   ]
  },
  {
   "cell_type": "code",
   "execution_count": 12,
   "metadata": {},
   "outputs": [],
   "source": [
    "import pandas as pd\n",
    "import string\n",
    "import re"
   ]
  },
  {
   "cell_type": "markdown",
   "metadata": {},
   "source": [
    "### a. Basic preprocessing"
   ]
  },
  {
   "cell_type": "markdown",
   "metadata": {},
   "source": [
    "- use pandas dataframe to store data\n",
    "- apply necessary text cleaning process to review"
   ]
  },
  {
   "cell_type": "code",
   "execution_count": 13,
   "metadata": {},
   "outputs": [],
   "source": [
    "def basic_preprocess(text):\n",
    "    \n",
    "    \"\"\"\n",
    "    Note:\n",
    "        Punctuation of review would be retained and later used in RNN model.\n",
    "\n",
    "    Args:\n",
    "        text (str): A string contains review and sentiment.\n",
    "\n",
    "    Returns:\n",
    "        df (pandas dataframe): The cleaned up pandas dataframe.\n",
    "    \"\"\"\n",
    "    \n",
    "    df = pd.DataFrame({'review':text})\n",
    "    \n",
    "    # extract target variable (sentiment) from text, and rename the column names\n",
    "    df = df.review.str.split('\\t', expand = True) \n",
    "    df.rename(columns = {0:'review', 1:'sentiment'}, inplace = True)\n",
    "    \n",
    "    # remove \\n in sentiment\n",
    "    df['sentiment'] = df.sentiment.str.replace('\\n', '')\n",
    "    # set as int dtype\n",
    "    df['sentiment'] = df.sentiment.astype('int32')\n",
    "    \n",
    "    # add space between punctuation and word, viewing punctuation as word\n",
    "    # in bag-of-words models, punctuaction would be removed; however, in RNN punctuaction could provide information\n",
    "    regex = re.compile('([{}])'.format(re.escape(string.punctuation)))\n",
    "    df['review'] = df.review.apply(lambda x: regex.sub(r' \\1 ', x))\n",
    "    \n",
    "    # remove unnecessary space and convert all words to lower case\n",
    "    df['review'] = df.review.str.strip()\n",
    "    df['review'] = df.review.str.lower()\n",
    "    \n",
    "    # take length of review\n",
    "    df['sent_len'] = df.review.apply(lambda x: len(x.split()))\n",
    "    \n",
    "    return df\n",
    "\n",
    "data = basic_preprocess(text)"
   ]
  },
  {
   "cell_type": "markdown",
   "metadata": {},
   "source": [
    "### b. Decide maximum length of reviews"
   ]
  },
  {
   "cell_type": "markdown",
   "metadata": {},
   "source": [
    "- observe the distribution of the text length to decide the maximum length of each review"
   ]
  },
  {
   "cell_type": "code",
   "execution_count": 14,
   "metadata": {},
   "outputs": [],
   "source": [
    "import matplotlib.pyplot as plt\n",
    "%matplotlib inline"
   ]
  },
  {
   "cell_type": "code",
   "execution_count": 15,
   "metadata": {},
   "outputs": [
    {
     "data": {
      "text/plain": [
       "count    1000.000000\n",
       "mean       17.367000\n",
       "std        11.361047\n",
       "min         2.000000\n",
       "25%         9.000000\n",
       "50%        15.000000\n",
       "75%        22.250000\n",
       "max        87.000000\n",
       "Name: sent_len, dtype: float64"
      ]
     },
     "execution_count": 15,
     "metadata": {},
     "output_type": "execute_result"
    }
   ],
   "source": [
    "data['sent_len'].describe()"
   ]
  },
  {
   "cell_type": "code",
   "execution_count": 16,
   "metadata": {},
   "outputs": [
    {
     "data": {
      "text/plain": [
       "(array([312., 321., 210.,  82.,  45.,  19.,   6.,   2.,   1.,   2.]),\n",
       " array([ 2. , 10.5, 19. , 27.5, 36. , 44.5, 53. , 61.5, 70. , 78.5, 87. ]),\n",
       " <a list of 10 Patch objects>)"
      ]
     },
     "execution_count": 16,
     "metadata": {},
     "output_type": "execute_result"
    },
    {
     "data": {
      "image/png": "[encoded data removed]",
      "text/plain": [
       "<Figure size 432x288 with 1 Axes>"
      ]
     },
     "metadata": {
      "needs_background": "light"
     },
     "output_type": "display_data"
    }
   ],
   "source": [
    "plt.hist(data['sent_len'])"
   ]
  },
  {
   "cell_type": "markdown",
   "metadata": {},
   "source": [
    "- from the distribution above, we could observe that only small protion of reveiws have more than 40 words\n",
    "- hence, we clip the maximum length of review to 40 words"
   ]
  },
  {
   "cell_type": "code",
   "execution_count": 17,
   "metadata": {},
   "outputs": [
    {
     "name": "stdout",
     "output_type": "stream",
     "text": [
      "count    1000.000000\n",
      "mean       16.717000\n",
      "std         9.552809\n",
      "min         2.000000\n",
      "25%         9.000000\n",
      "50%        15.000000\n",
      "75%        22.250000\n",
      "max        40.000000\n",
      "Name: sent_len, dtype: float64\n"
     ]
    }
   ],
   "source": [
    "def clip_sent_length(df, max_len):\n",
    "    \n",
    "    \"\"\"\n",
    "    Args:\n",
    "        df (pandas dataframe): The cleaned up pandas dataframe.\n",
    "        max_len (int): The maximum length used to clip review length.\n",
    "\n",
    "    Returns:\n",
    "        df (pandas dataframe): The pandas dataframe contains clipped reviews.\n",
    "    \"\"\"\n",
    "    \n",
    "    df['review'] = df.review.apply(lambda x: ' '.join(x.split(' ')[:max_len]))\n",
    "    df['sent_len'] = df.review.apply(lambda x: len(x.split()))\n",
    "    print(df['sent_len'].describe())\n",
    "    \n",
    "    return df\n",
    "\n",
    "maxLen = 40\n",
    "data = clip_sent_length(data, maxLen)"
   ]
  },
  {
   "cell_type": "markdown",
   "metadata": {},
   "source": [
    "### c. Split the dataset to training and validation set"
   ]
  },
  {
   "cell_type": "code",
   "execution_count": 18,
   "metadata": {},
   "outputs": [],
   "source": [
    "from sklearn.model_selection import train_test_split"
   ]
  },
  {
   "cell_type": "markdown",
   "metadata": {},
   "source": [
    "- split to 70% training and 30% validation with stratified sampling"
   ]
  },
  {
   "cell_type": "code",
   "execution_count": 19,
   "metadata": {},
   "outputs": [],
   "source": [
    "X, y = data.review, data.sentiment\n",
    "X_train, X_val, y_train, y_val = train_test_split(X, y, \n",
    "                                                  test_size = 0.3, \n",
    "                                                  stratify = y, \n",
    "                                                  random_state = 1)"
   ]
  },
  {
   "cell_type": "markdown",
   "metadata": {},
   "source": [
    "- reset all index, enabling to encode word to index later"
   ]
  },
  {
   "cell_type": "code",
   "execution_count": 20,
   "metadata": {},
   "outputs": [],
   "source": [
    "X_train.reset_index(drop = True, inplace = True)\n",
    "X_val.reset_index(drop = True, inplace = True)\n",
    "y_train.reset_index(drop = True, inplace = True)\n",
    "y_val.reset_index(drop = True, inplace = True)"
   ]
  },
  {
   "cell_type": "markdown",
   "metadata": {},
   "source": [
    "- example number"
   ]
  },
  {
   "cell_type": "code",
   "execution_count": 21,
   "metadata": {},
   "outputs": [
    {
     "name": "stdout",
     "output_type": "stream",
     "text": [
      "Training Set Number: 700\n",
      "Validation Set Number: 300\n"
     ]
    }
   ],
   "source": [
    "print('Training Set Number: {}'.format(X_train.shape[0]))\n",
    "print('Validation Set Number: {}'.format(X_val.shape[0]))"
   ]
  },
  {
   "cell_type": "markdown",
   "metadata": {},
   "source": [
    "- make sure target variable distrubtion for training set and validation set is the same\n",
    "- there is no label imbalance problem"
   ]
  },
  {
   "cell_type": "code",
   "execution_count": 22,
   "metadata": {},
   "outputs": [
    {
     "name": "stdout",
     "output_type": "stream",
     "text": [
      "1    0.5\n",
      "0    0.5\n",
      "Name: sentiment, dtype: float64\n"
     ]
    }
   ],
   "source": [
    "print(y_train.value_counts(normalize = True))"
   ]
  },
  {
   "cell_type": "code",
   "execution_count": 23,
   "metadata": {},
   "outputs": [
    {
     "name": "stdout",
     "output_type": "stream",
     "text": [
      "1    0.5\n",
      "0    0.5\n",
      "Name: sentiment, dtype: float64\n"
     ]
    }
   ],
   "source": [
    "print(y_val.value_counts(normalize = True))"
   ]
  },
  {
   "cell_type": "markdown",
   "metadata": {},
   "source": [
    "- example "
   ]
  },
  {
   "cell_type": "code",
   "execution_count": 24,
   "metadata": {},
   "outputs": [
    {
     "name": "stdout",
     "output_type": "stream",
     "text": [
      "it was just too horrible .\n",
      "0\n"
     ]
    }
   ],
   "source": [
    "index = 4\n",
    "print(X_train[index])\n",
    "print(y_train[index])"
   ]
  },
  {
   "cell_type": "markdown",
   "metadata": {},
   "source": [
    "### d. Encode words to indices"
   ]
  },
  {
   "cell_type": "markdown",
   "metadata": {},
   "source": [
    "- indices are required in Keras to build model"
   ]
  },
  {
   "cell_type": "code",
   "execution_count": 25,
   "metadata": {},
   "outputs": [],
   "source": [
    "def sentences_to_indices(X, word_to_index, max_len):\n",
    "        \n",
    "    \"\"\"\n",
    "    Args:\n",
    "        X (pandas series): The cleaned up pandas series contains review text.\n",
    "        word_to_index (dict): The dictionary map word to index.\n",
    "        max_len (int): The maximum length used to clip review length.\n",
    "\n",
    "    Returns:\n",
    "        X_indices (numpy matrix): The pandas dataframe contains clipped reviews.\n",
    "    \"\"\"\n",
    "    \n",
    "    # example number\n",
    "    m = X.shape[0]\n",
    "    \n",
    "    # initialize the indices  matrix as a numpy array of zeros of shape(m, max_len)\n",
    "    X_indices = np.zeros((m, max_len))\n",
    "    \n",
    "    # loop over each example\n",
    "    for i in range(m):\n",
    "        \n",
    "        sentence_words = X[i].lower().split()\n",
    "        j = 0\n",
    "        \n",
    "        # loop over each word\n",
    "        for w in sentence_words:\n",
    "            \n",
    "            # if word is not in dictionary, then view it as unknown word\n",
    "            if w not in word_to_index.keys():\n",
    "        \n",
    "                X_indices[i , j] = word_to_index['unk']\n",
    "            \n",
    "            else:\n",
    "            \n",
    "                X_indices[i , j] = word_to_index[w]\n",
    "            \n",
    "            j = j + 1\n",
    "            \n",
    "    return X_indices\n",
    "\n",
    "X_train_indices = sentences_to_indices(X_train, word_to_index, maxLen)\n",
    "X_val_indices = sentences_to_indices(X_val, word_to_index, maxLen)"
   ]
  },
  {
   "cell_type": "markdown",
   "metadata": {},
   "source": [
    "- example"
   ]
  },
  {
   "cell_type": "code",
   "execution_count": 26,
   "metadata": {},
   "outputs": [
    {
     "name": "stdout",
     "output_type": "stream",
     "text": [
      "it was just too horrible .\n",
      "[193716. 383514. 200035. 361940. 181872.    867.      0.      0.      0.\n",
      "      0.      0.      0.      0.      0.      0.      0.      0.      0.\n",
      "      0.      0.      0.      0.      0.      0.      0.      0.      0.\n",
      "      0.      0.      0.      0.      0.      0.      0.      0.      0.\n",
      "      0.      0.      0.      0.]\n"
     ]
    }
   ],
   "source": [
    "print(X_train[index])\n",
    "print(X_train_indices[index])"
   ]
  },
  {
   "cell_type": "markdown",
   "metadata": {},
   "source": [
    "# 3. Build RNN with Pre-trained Embedding Layer"
   ]
  },
  {
   "cell_type": "code",
   "execution_count": 27,
   "metadata": {},
   "outputs": [
    {
     "name": "stderr",
     "output_type": "stream",
     "text": [
      "Using TensorFlow backend.\n"
     ]
    }
   ],
   "source": [
    "from keras.layers import Input, Activation, Dense, Dropout, BatchNormalization, LSTM, Embedding, Bidirectional\n",
    "from keras.models import Model\n",
    "from keras import optimizers\n",
    "from keras import initializers"
   ]
  },
  {
   "cell_type": "markdown",
   "metadata": {},
   "source": [
    "### a. Build pre-trained GloVe embedding layer"
   ]
  },
  {
   "cell_type": "markdown",
   "metadata": {},
   "source": [
    "- to build pre-trained embedding layer, the pre-trained GloVe word embedding matrix must be built first\n",
    "- then utilizing Keras Embedding layer, we could insert weights of pre-trained GloVe word embedding matrix to Keras Embedding layer"
   ]
  },
  {
   "cell_type": "code",
   "execution_count": 28,
   "metadata": {},
   "outputs": [],
   "source": [
    "def pretrained_embedding_layer(word_to_vec_map, word_to_index):\n",
    "    \n",
    "    \"\"\"\n",
    "    Args:\n",
    "        word_to_vec_map (dict): The dictionary maps word to corresponding GloVe vector.\n",
    "        word_to_index (dict): The dictionary maps word to corresponding index.\n",
    "    \n",
    "    Returns:\n",
    "        word_to_index (keras layer): A Keras embedding layer with pre-trained GloVe weights.\n",
    "    \"\"\"\n",
    "    \n",
    "    # adding 1 to fit Keras embedding (requirement by Keras)\n",
    "    word_num = len(word_to_index) + 1\n",
    "    emb_dim = word_to_vec_map['apple'].shape[0]\n",
    "    \n",
    "    # initialize the embedding matrix as a numpy array of zeros of shape (word_num, dimensions of word vectors = emb_dim)\n",
    "    emb_matrix = np.zeros((word_num, emb_dim))\n",
    "    \n",
    "    # insert word vector to corresponding index\n",
    "    for word, index in word_to_index.items():\n",
    "        emb_matrix[index, :] = word_to_vec_map[word]\n",
    "        \n",
    "    # use Keras Embedding layer, and set the trainable = False to ensure embedding matrix won't be trained \n",
    "    embedding_layer = Embedding(input_dim = word_num, output_dim = emb_dim, trainable = False)\n",
    "    \n",
    "    # build the embedding layer, it is required before setting the weights of the embedding layer\n",
    "    embedding_layer.build((None,))\n",
    "    \n",
    "    embedding_layer.set_weights([emb_matrix])\n",
    "    \n",
    "    return embedding_layer"
   ]
  },
  {
   "cell_type": "markdown",
   "metadata": {},
   "source": [
    "### b. Build LSTM model"
   ]
  },
  {
   "cell_type": "code",
   "execution_count": 29,
   "metadata": {},
   "outputs": [],
   "source": [
    "def LSTM_Model(input_shape, word_to_vec_map, word_to_index):\n",
    "    \n",
    "    \"\"\"\n",
    "    Args:\n",
    "        input_shape (int): The maximum length of each review text.\n",
    "        word_to_vec_map (dict): The dictionary maps word to corresponding GloVe vector.\n",
    "        word_to_index (dict): The dictionary maps word to corresponding index.\n",
    "    \n",
    "    Returns:\n",
    "        model (keras model): A Keras LSTM Model.\n",
    "    \"\"\"\n",
    "    \n",
    "    # define sentence_indices as the input of the graph, it should be of shape input_shape and dtype 'int32' (as it contains indices)\n",
    "    setence_indices = Input(shape = (input_shape,), dtype = 'int32')\n",
    "    \n",
    "    # create the embedding layer pretrained with GloVe Vectors\n",
    "    embedding_layer = pretrained_embedding_layer(word_to_vec_map, word_to_index)\n",
    "    \n",
    "    # propagate sentence_indices through your embedding layer, you get back the embeddings\n",
    "    embeddings = embedding_layer(setence_indices)\n",
    "    \n",
    "    \n",
    "    # propagate the embeddings through an LSTM layer with 64-dimensional hidden state\n",
    "    # the returned output should be a batch of sequences\n",
    "    X = Bidirectional(LSTM(64, return_sequences = True, kernel_initializer = initializers.glorot_uniform(seed = 1)))(embeddings)\n",
    "    \n",
    "    # propagate X through an LSTM layer with 16-dimensional hidden state\n",
    "    X = Bidirectional(LSTM(16, return_sequences = False, kernel_initializer = initializers.glorot_uniform(seed = 1)))(X)\n",
    "    \n",
    "    # fully connect to one node, and pass to sigmoid activation layer due to binary target variable\n",
    "    X = Dense(1, kernel_initializer = initializers.glorot_uniform(seed = 1))(X)\n",
    "    X = Activation('sigmoid')(X)\n",
    "    \n",
    "    model = Model(inputs = setence_indices, outputs = X)\n",
    "    print(model.summary())\n",
    "    \n",
    "    opt = optimizers.Adam(lr = adam_opt_param.learning_rate, \n",
    "                          beta_1 = adam_opt_param.beta_1, \n",
    "                          beta_2 = adam_opt_param.beta_2, \n",
    "                          epsilon = adam_opt_param.epsilon,\n",
    "                          clipvalue = adam_opt_param.clipvalue)\n",
    "    \n",
    "    model.compile(loss = 'binary_crossentropy', \n",
    "                  optimizer = opt,\n",
    "                  metrics = ['binary_accuracy'])\n",
    "    \n",
    "    return model"
   ]
  },
  {
   "cell_type": "markdown",
   "metadata": {},
   "source": [
    "- hyper-parameters for Adam optimizer"
   ]
  },
  {
   "cell_type": "code",
   "execution_count": 30,
   "metadata": {},
   "outputs": [],
   "source": [
    "class adam_opt_param:\n",
    "    \n",
    "    learning_rate = 0.01\n",
    "    beta_1 = 0.9\n",
    "    beta_2 = 0.999 \n",
    "    epsilon = 10**-8\n",
    "    clipvalue = 0.5"
   ]
  },
  {
   "cell_type": "markdown",
   "metadata": {},
   "source": [
    "- model summary\n",
    "- 20,000,050 parameters from embedding layers are pre-trained and non-trainable"
   ]
  },
  {
   "cell_type": "code",
   "execution_count": 31,
   "metadata": {},
   "outputs": [
    {
     "name": "stdout",
     "output_type": "stream",
     "text": [
      "_________________________________________________________________\n",
      "Layer (type)                 Output Shape              Param #   \n",
      "=================================================================\n",
      "input_1 (InputLayer)         (None, 40)                0         \n",
      "_________________________________________________________________\n",
      "embedding_1 (Embedding)      (None, 40, 50)            20000050  \n",
      "_________________________________________________________________\n",
      "bidirectional_1 (Bidirection (None, 40, 128)           58880     \n",
      "_________________________________________________________________\n",
      "bidirectional_2 (Bidirection (None, 32)                18560     \n",
      "_________________________________________________________________\n",
      "dense_1 (Dense)              (None, 1)                 33        \n",
      "_________________________________________________________________\n",
      "activation_1 (Activation)    (None, 1)                 0         \n",
      "=================================================================\n",
      "Total params: 20,077,523\n",
      "Trainable params: 77,473\n",
      "Non-trainable params: 20,000,050\n",
      "_________________________________________________________________\n",
      "None\n"
     ]
    }
   ],
   "source": [
    "model = LSTM_Model(input_shape = maxLen, word_to_vec_map = word_to_vec_map, word_to_index = word_to_index)"
   ]
  },
  {
   "cell_type": "markdown",
   "metadata": {},
   "source": [
    "### c. Fit the model with training and validation dataset"
   ]
  },
  {
   "cell_type": "code",
   "execution_count": 32,
   "metadata": {},
   "outputs": [],
   "source": [
    "import tensorflow as tf"
   ]
  },
  {
   "cell_type": "code",
   "execution_count": 33,
   "metadata": {
    "scrolled": true
   },
   "outputs": [
    {
     "name": "stdout",
     "output_type": "stream",
     "text": [
      "Train on 700 samples, validate on 300 samples\n",
      "Epoch 1/50\n",
      " - 4s - loss: 0.6632 - binary_accuracy: 0.6157 - val_loss: 0.6266 - val_binary_accuracy: 0.6500\n",
      "Epoch 2/50\n",
      " - 1s - loss: 0.5902 - binary_accuracy: 0.6714 - val_loss: 0.4710 - val_binary_accuracy: 0.8000\n",
      "Epoch 3/50\n",
      " - 1s - loss: 0.4495 - binary_accuracy: 0.8000 - val_loss: 0.4222 - val_binary_accuracy: 0.8033\n",
      "Epoch 4/50\n",
      " - 1s - loss: 0.4003 - binary_accuracy: 0.8229 - val_loss: 0.4302 - val_binary_accuracy: 0.8067\n",
      "Epoch 5/50\n",
      " - 1s - loss: 0.3246 - binary_accuracy: 0.8600 - val_loss: 0.4408 - val_binary_accuracy: 0.7967\n",
      "Epoch 6/50\n",
      " - 1s - loss: 0.2714 - binary_accuracy: 0.8943 - val_loss: 0.4852 - val_binary_accuracy: 0.7900\n",
      "Epoch 7/50\n",
      " - 1s - loss: 0.2092 - binary_accuracy: 0.9129 - val_loss: 0.5105 - val_binary_accuracy: 0.8033\n",
      "Epoch 8/50\n",
      " - 1s - loss: 0.1352 - binary_accuracy: 0.9571 - val_loss: 0.6669 - val_binary_accuracy: 0.7600\n",
      "Epoch 9/50\n",
      " - 1s - loss: 0.1611 - binary_accuracy: 0.9357 - val_loss: 0.5265 - val_binary_accuracy: 0.7900\n",
      "Epoch 10/50\n",
      " - 1s - loss: 0.1179 - binary_accuracy: 0.9614 - val_loss: 0.6114 - val_binary_accuracy: 0.7800\n",
      "Epoch 11/50\n",
      " - 1s - loss: 0.0714 - binary_accuracy: 0.9786 - val_loss: 0.7890 - val_binary_accuracy: 0.7800\n",
      "Epoch 12/50\n",
      " - 1s - loss: 0.0762 - binary_accuracy: 0.9657 - val_loss: 0.6876 - val_binary_accuracy: 0.8100\n",
      "Epoch 13/50\n",
      " - 1s - loss: 0.0658 - binary_accuracy: 0.9757 - val_loss: 0.7605 - val_binary_accuracy: 0.7833\n",
      "Epoch 14/50\n",
      " - 1s - loss: 0.0559 - binary_accuracy: 0.9814 - val_loss: 0.7583 - val_binary_accuracy: 0.7867\n",
      "Epoch 15/50\n",
      " - 1s - loss: 0.0168 - binary_accuracy: 0.9957 - val_loss: 0.9640 - val_binary_accuracy: 0.7800\n",
      "Epoch 16/50\n",
      " - 1s - loss: 0.0205 - binary_accuracy: 0.9929 - val_loss: 0.9340 - val_binary_accuracy: 0.8067\n",
      "Epoch 17/50\n",
      " - 1s - loss: 0.0118 - binary_accuracy: 0.9957 - val_loss: 1.1852 - val_binary_accuracy: 0.7733\n",
      "Epoch 18/50\n",
      " - 1s - loss: 0.0479 - binary_accuracy: 0.9829 - val_loss: 0.9089 - val_binary_accuracy: 0.7767\n",
      "Epoch 19/50\n",
      " - 1s - loss: 0.0430 - binary_accuracy: 0.9829 - val_loss: 0.8328 - val_binary_accuracy: 0.7833\n",
      "Epoch 20/50\n",
      " - 1s - loss: 0.0300 - binary_accuracy: 0.9900 - val_loss: 1.0985 - val_binary_accuracy: 0.7733\n",
      "Epoch 21/50\n",
      " - 1s - loss: 0.0519 - binary_accuracy: 0.9814 - val_loss: 1.0241 - val_binary_accuracy: 0.7900\n",
      "Epoch 22/50\n",
      " - 1s - loss: 0.0724 - binary_accuracy: 0.9657 - val_loss: 0.6915 - val_binary_accuracy: 0.8067\n",
      "Epoch 23/50\n",
      " - 1s - loss: 0.0308 - binary_accuracy: 0.9929 - val_loss: 0.8420 - val_binary_accuracy: 0.7867\n",
      "Epoch 24/50\n",
      " - 1s - loss: 0.0254 - binary_accuracy: 0.9886 - val_loss: 0.8768 - val_binary_accuracy: 0.7933\n",
      "Epoch 25/50\n",
      " - 1s - loss: 0.0088 - binary_accuracy: 0.9971 - val_loss: 0.9594 - val_binary_accuracy: 0.8033\n",
      "Epoch 26/50\n",
      " - 1s - loss: 0.0052 - binary_accuracy: 0.9971 - val_loss: 1.0401 - val_binary_accuracy: 0.7933\n",
      "Epoch 27/50\n",
      " - 1s - loss: 0.0028 - binary_accuracy: 0.9986 - val_loss: 1.1116 - val_binary_accuracy: 0.7833\n",
      "Epoch 28/50\n",
      " - 1s - loss: 0.0028 - binary_accuracy: 0.9986 - val_loss: 1.1533 - val_binary_accuracy: 0.7767\n",
      "Epoch 29/50\n",
      " - 1s - loss: 0.0022 - binary_accuracy: 0.9986 - val_loss: 1.1815 - val_binary_accuracy: 0.7733\n",
      "Epoch 30/50\n",
      " - 1s - loss: 0.0019 - binary_accuracy: 0.9986 - val_loss: 1.1989 - val_binary_accuracy: 0.7700\n",
      "Epoch 31/50\n",
      " - 1s - loss: 0.0017 - binary_accuracy: 0.9986 - val_loss: 1.2130 - val_binary_accuracy: 0.7800\n",
      "Epoch 32/50\n",
      " - 1s - loss: 0.0015 - binary_accuracy: 0.9986 - val_loss: 1.2277 - val_binary_accuracy: 0.7833\n",
      "Epoch 33/50\n",
      " - 1s - loss: 0.0014 - binary_accuracy: 1.0000 - val_loss: 1.2428 - val_binary_accuracy: 0.7833\n",
      "Epoch 34/50\n",
      " - 1s - loss: 0.0013 - binary_accuracy: 1.0000 - val_loss: 1.2558 - val_binary_accuracy: 0.7833\n",
      "Epoch 35/50\n",
      " - 1s - loss: 0.0012 - binary_accuracy: 1.0000 - val_loss: 1.2690 - val_binary_accuracy: 0.7833\n",
      "Epoch 36/50\n",
      " - 1s - loss: 0.0011 - binary_accuracy: 1.0000 - val_loss: 1.2817 - val_binary_accuracy: 0.7900\n",
      "Epoch 37/50\n",
      " - 1s - loss: 9.8560e-04 - binary_accuracy: 1.0000 - val_loss: 1.2954 - val_binary_accuracy: 0.7900\n",
      "Epoch 38/50\n",
      " - 1s - loss: 9.3410e-04 - binary_accuracy: 1.0000 - val_loss: 1.3079 - val_binary_accuracy: 0.7900\n",
      "Epoch 39/50\n",
      " - 1s - loss: 8.7231e-04 - binary_accuracy: 1.0000 - val_loss: 1.3219 - val_binary_accuracy: 0.7867\n",
      "Epoch 40/50\n",
      " - 1s - loss: 8.1869e-04 - binary_accuracy: 1.0000 - val_loss: 1.3354 - val_binary_accuracy: 0.7867\n",
      "Epoch 41/50\n",
      " - 1s - loss: 7.7373e-04 - binary_accuracy: 1.0000 - val_loss: 1.3497 - val_binary_accuracy: 0.7867\n",
      "Epoch 42/50\n",
      " - 1s - loss: 7.3510e-04 - binary_accuracy: 1.0000 - val_loss: 1.3621 - val_binary_accuracy: 0.7833\n",
      "Epoch 43/50\n",
      " - 1s - loss: 6.8788e-04 - binary_accuracy: 1.0000 - val_loss: 1.3739 - val_binary_accuracy: 0.7833\n",
      "Epoch 44/50\n",
      " - 1s - loss: 6.5357e-04 - binary_accuracy: 1.0000 - val_loss: 1.3864 - val_binary_accuracy: 0.7833\n",
      "Epoch 45/50\n",
      " - 1s - loss: 6.2283e-04 - binary_accuracy: 1.0000 - val_loss: 1.3961 - val_binary_accuracy: 0.7833\n",
      "Epoch 46/50\n",
      " - 1s - loss: 5.8959e-04 - binary_accuracy: 1.0000 - val_loss: 1.4068 - val_binary_accuracy: 0.7833\n",
      "Epoch 47/50\n",
      " - 1s - loss: 5.6745e-04 - binary_accuracy: 1.0000 - val_loss: 1.4173 - val_binary_accuracy: 0.7833\n",
      "Epoch 48/50\n",
      " - 1s - loss: 5.4789e-04 - binary_accuracy: 1.0000 - val_loss: 1.4239 - val_binary_accuracy: 0.7833\n",
      "Epoch 49/50\n",
      " - 1s - loss: 5.1800e-04 - binary_accuracy: 1.0000 - val_loss: 1.4333 - val_binary_accuracy: 0.7800\n",
      "Epoch 50/50\n",
      " - 1s - loss: 4.9495e-04 - binary_accuracy: 1.0000 - val_loss: 1.4433 - val_binary_accuracy: 0.7767\n"
     ]
    }
   ],
   "source": [
    "tf.set_random_seed(1)\n",
    "\n",
    "history = model.fit(x = X_train_indices, y = y_train,\n",
    "                    epochs = 50,\n",
    "                    batch_size = 32, \n",
    "                    verbose = 2,\n",
    "                    shuffle = True,\n",
    "                    validation_data = (X_val_indices, y_val))"
   ]
  },
  {
   "cell_type": "markdown",
   "metadata": {},
   "source": [
    "- plot and observe training and validation error to tune hyper-parameters to reduce bias or variance"
   ]
  },
  {
   "cell_type": "code",
   "execution_count": 34,
   "metadata": {},
   "outputs": [],
   "source": [
    "def plot_metric_loss(history, metrics):\n",
    "    \n",
    "    \"\"\"\n",
    "    Args:\n",
    "        history (keras history): The output history of a keras model\n",
    "        metrics (str): The metrics used in the fitted keras model\n",
    "    \n",
    "    Returns:\n",
    "        None\n",
    "    \"\"\"\n",
    "    \n",
    "    fig, (ax1, ax2) = plt.subplots(1, 2, figsize = (8, 6))\n",
    "    \n",
    "    ax1.plot(history.history[metrics])\n",
    "    ax1.plot(history.history['val_' + metrics])\n",
    "    ax1.set_title('Model Accuracy')\n",
    "    ax1.set_xlabel('Epoch')\n",
    "    ax1.set_ylabel('Accuracy')\n",
    "    ax1.legend(['Train', 'Val'], loc = 'upper left')\n",
    "    \n",
    "    ax2.plot(history.history['loss'])\n",
    "    ax2.plot(history.history['val_loss'])\n",
    "    ax2.set_title('Model Loss')\n",
    "    ax2.set_xlabel('Epoch')\n",
    "    ax2.set_ylabel('Loss')\n",
    "    ax2.legend(['Train', 'Val'], loc = 'upper left')\n",
    "    \n",
    "    plt.show()"
   ]
  },
  {
   "cell_type": "code",
   "execution_count": 35,
   "metadata": {},
   "outputs": [
    {
     "data": {
      "image/png": "[encoded data removed]",
      "text/plain": [
       "<Figure size 576x432 with 2 Axes>"
      ]
     },
     "metadata": {
      "needs_background": "light"
     },
     "output_type": "display_data"
    }
   ],
   "source": [
    "plot_metric_loss(history, 'binary_accuracy')"
   ]
  },
  {
   "cell_type": "markdown",
   "metadata": {},
   "source": [
    "- We could observe that the LSTM is overfitting after 10 epochs since the validation error keeps rising while training error keeps reducing to almost 0.\n",
    "- The solution for overfitting are \n",
    "    1. Searching for better network structure or hyper-parameters  \n",
    "    2. Collecting more data  \n",
    "    3. Adding more regularization "
   ]
  },
  {
   "cell_type": "markdown",
   "metadata": {},
   "source": [
    "### d. Search for better network architecture or better hyper-parameters"
   ]
  },
  {
   "cell_type": "markdown",
   "metadata": {},
   "source": [
    "- Though the best solution is probably to collect more data since there are only 1000 examples here, we'll try to add more regularization to see if we could reduce the variance\n",
    "- Add dropout layers with a probability of 0.5 to model"
   ]
  },
  {
   "cell_type": "code",
   "execution_count": 36,
   "metadata": {},
   "outputs": [],
   "source": [
    "def LSTM_Model_Dropout(input_shape, word_to_vec_map, word_to_index):\n",
    "    \n",
    "    \"\"\"\n",
    "    Args:\n",
    "        input_shape (int): The maximum length of each review text.\n",
    "        word_to_vec_map (dict): The dictionary maps word to corresponding GloVe vector.\n",
    "        word_to_index (dict): The dictionary maps word to corresponding index.\n",
    "    \n",
    "    Returns:\n",
    "        model (keras model): A Keras LSTM Model.\n",
    "    \"\"\"\n",
    "    \n",
    "    # define sentence_indices as the input of the graph, it should be of shape input_shape and dtype 'int32' (as it contains indices)\n",
    "    setence_indices = Input(shape = (input_shape,), dtype = 'int32')\n",
    "    \n",
    "    # create the embedding layer pretrained with GloVe Vectors\n",
    "    embedding_layer = pretrained_embedding_layer(word_to_vec_map, word_to_index)\n",
    "    \n",
    "    # propagate sentence_indices through your embedding layer, you get back the embeddings\n",
    "    embeddings = embedding_layer(setence_indices)\n",
    "    \n",
    "    \n",
    "    # propagate the embeddings through an LSTM layer with 64-dimensional hidden state\n",
    "    # the returned output should be a batch of sequences\n",
    "    X = Bidirectional(LSTM(64, return_sequences = True, kernel_initializer = initializers.glorot_uniform(seed = 1)))(embeddings)\n",
    "    # Add dropout with a probability of 0.5\n",
    "    X = Dropout(0.5, seed = 1)(X)\n",
    "    \n",
    "    # propagate X through an LSTM layer with 16-dimensional hidden state\n",
    "    X = Bidirectional(LSTM(16, return_sequences = False, kernel_initializer = initializers.glorot_uniform(seed = 1)))(X)\n",
    "    X = Dropout(0.5, seed = 1)(X)\n",
    "    \n",
    "    # fully connect to one node, and pass to sigmoid activation layer due to binary target variable\n",
    "    X = Dense(1, kernel_initializer = initializers.glorot_uniform(seed = 1))(X)\n",
    "    X = Activation('sigmoid')(X)\n",
    "    \n",
    "    model = Model(inputs = setence_indices, outputs = X)\n",
    "    print(model.summary())\n",
    "    \n",
    "    opt = optimizers.Adam(lr = adam_opt_param.learning_rate, \n",
    "                          beta_1 = adam_opt_param.beta_1, \n",
    "                          beta_2 = adam_opt_param.beta_2, \n",
    "                          epsilon = adam_opt_param.epsilon,\n",
    "                          clipvalue = adam_opt_param.clipvalue)\n",
    "    \n",
    "    model.compile(loss = 'binary_crossentropy', \n",
    "                  optimizer = opt,\n",
    "                  metrics = ['binary_accuracy'])\n",
    "    \n",
    "    return model"
   ]
  },
  {
   "cell_type": "code",
   "execution_count": 37,
   "metadata": {},
   "outputs": [
    {
     "name": "stdout",
     "output_type": "stream",
     "text": [
      "_________________________________________________________________\n",
      "Layer (type)                 Output Shape              Param #   \n",
      "=================================================================\n",
      "input_2 (InputLayer)         (None, 40)                0         \n",
      "_________________________________________________________________\n",
      "embedding_2 (Embedding)      (None, 40, 50)            20000050  \n",
      "_________________________________________________________________\n",
      "bidirectional_3 (Bidirection (None, 40, 128)           58880     \n",
      "_________________________________________________________________\n",
      "dropout_1 (Dropout)          (None, 40, 128)           0         \n",
      "_________________________________________________________________\n",
      "bidirectional_4 (Bidirection (None, 32)                18560     \n",
      "_________________________________________________________________\n",
      "dropout_2 (Dropout)          (None, 32)                0         \n",
      "_________________________________________________________________\n",
      "dense_2 (Dense)              (None, 1)                 33        \n",
      "_________________________________________________________________\n",
      "activation_2 (Activation)    (None, 1)                 0         \n",
      "=================================================================\n",
      "Total params: 20,077,523\n",
      "Trainable params: 77,473\n",
      "Non-trainable params: 20,000,050\n",
      "_________________________________________________________________\n",
      "None\n"
     ]
    }
   ],
   "source": [
    "model_dropout = LSTM_Model_Dropout(input_shape = maxLen, word_to_vec_map = word_to_vec_map, word_to_index = word_to_index)"
   ]
  },
  {
   "cell_type": "code",
   "execution_count": 38,
   "metadata": {
    "scrolled": true
   },
   "outputs": [
    {
     "name": "stdout",
     "output_type": "stream",
     "text": [
      "Train on 700 samples, validate on 300 samples\n",
      "Epoch 1/50\n",
      " - 5s - loss: 0.6653 - binary_accuracy: 0.6143 - val_loss: 0.5785 - val_binary_accuracy: 0.7200\n",
      "Epoch 2/50\n",
      " - 1s - loss: 0.5813 - binary_accuracy: 0.7043 - val_loss: 0.5380 - val_binary_accuracy: 0.7433\n",
      "Epoch 3/50\n",
      " - 1s - loss: 0.5154 - binary_accuracy: 0.7557 - val_loss: 0.4447 - val_binary_accuracy: 0.8133\n",
      "Epoch 4/50\n",
      " - 1s - loss: 0.4374 - binary_accuracy: 0.8271 - val_loss: 0.4439 - val_binary_accuracy: 0.8000\n",
      "Epoch 5/50\n",
      " - 1s - loss: 0.3801 - binary_accuracy: 0.8414 - val_loss: 0.4341 - val_binary_accuracy: 0.8000\n",
      "Epoch 6/50\n",
      " - 1s - loss: 0.3195 - binary_accuracy: 0.8786 - val_loss: 0.4332 - val_binary_accuracy: 0.7967\n",
      "Epoch 7/50\n",
      " - 1s - loss: 0.3020 - binary_accuracy: 0.8786 - val_loss: 0.5326 - val_binary_accuracy: 0.7867\n",
      "Epoch 8/50\n",
      " - 1s - loss: 0.2618 - binary_accuracy: 0.9086 - val_loss: 0.5522 - val_binary_accuracy: 0.8000\n",
      "Epoch 9/50\n",
      " - 1s - loss: 0.2308 - binary_accuracy: 0.9200 - val_loss: 0.6448 - val_binary_accuracy: 0.7933\n",
      "Epoch 10/50\n",
      " - 1s - loss: 0.1842 - binary_accuracy: 0.9343 - val_loss: 0.5976 - val_binary_accuracy: 0.7700\n",
      "Epoch 11/50\n",
      " - 1s - loss: 0.1636 - binary_accuracy: 0.9457 - val_loss: 0.6032 - val_binary_accuracy: 0.8100\n",
      "Epoch 12/50\n",
      " - 1s - loss: 0.1051 - binary_accuracy: 0.9643 - val_loss: 0.7177 - val_binary_accuracy: 0.8067\n",
      "Epoch 13/50\n",
      " - 1s - loss: 0.1279 - binary_accuracy: 0.9629 - val_loss: 0.7038 - val_binary_accuracy: 0.7833\n",
      "Epoch 14/50\n",
      " - 1s - loss: 0.2086 - binary_accuracy: 0.9314 - val_loss: 0.6477 - val_binary_accuracy: 0.7767\n",
      "Epoch 15/50\n",
      " - 1s - loss: 0.1488 - binary_accuracy: 0.9457 - val_loss: 0.6923 - val_binary_accuracy: 0.7800\n",
      "Epoch 16/50\n",
      " - 1s - loss: 0.0846 - binary_accuracy: 0.9700 - val_loss: 0.8495 - val_binary_accuracy: 0.7833\n",
      "Epoch 17/50\n",
      " - 1s - loss: 0.0673 - binary_accuracy: 0.9786 - val_loss: 0.8675 - val_binary_accuracy: 0.7833\n",
      "Epoch 18/50\n",
      " - 1s - loss: 0.0513 - binary_accuracy: 0.9886 - val_loss: 0.9688 - val_binary_accuracy: 0.7567\n",
      "Epoch 19/50\n",
      " - 1s - loss: 0.0324 - binary_accuracy: 0.9900 - val_loss: 1.1605 - val_binary_accuracy: 0.7400\n",
      "Epoch 20/50\n",
      " - 1s - loss: 0.0548 - binary_accuracy: 0.9771 - val_loss: 0.9417 - val_binary_accuracy: 0.7833\n",
      "Epoch 21/50\n",
      " - 1s - loss: 0.0560 - binary_accuracy: 0.9786 - val_loss: 0.9157 - val_binary_accuracy: 0.7933\n",
      "Epoch 22/50\n",
      " - 1s - loss: 0.0322 - binary_accuracy: 0.9900 - val_loss: 1.0295 - val_binary_accuracy: 0.7900\n",
      "Epoch 23/50\n",
      " - 1s - loss: 0.0386 - binary_accuracy: 0.9914 - val_loss: 1.0993 - val_binary_accuracy: 0.7833\n",
      "Epoch 24/50\n",
      " - 1s - loss: 0.0577 - binary_accuracy: 0.9814 - val_loss: 0.8745 - val_binary_accuracy: 0.8133\n",
      "Epoch 25/50\n",
      " - 1s - loss: 0.0406 - binary_accuracy: 0.9857 - val_loss: 0.9904 - val_binary_accuracy: 0.8067\n",
      "Epoch 26/50\n",
      " - 1s - loss: 0.0230 - binary_accuracy: 0.9914 - val_loss: 1.2081 - val_binary_accuracy: 0.8033\n",
      "Epoch 27/50\n",
      " - 1s - loss: 0.0104 - binary_accuracy: 0.9957 - val_loss: 1.1766 - val_binary_accuracy: 0.8133\n",
      "Epoch 28/50\n",
      " - 1s - loss: 0.0199 - binary_accuracy: 0.9914 - val_loss: 1.2758 - val_binary_accuracy: 0.8100\n",
      "Epoch 29/50\n",
      " - 1s - loss: 0.0144 - binary_accuracy: 0.9971 - val_loss: 1.1491 - val_binary_accuracy: 0.8167\n",
      "Epoch 30/50\n",
      " - 1s - loss: 0.0057 - binary_accuracy: 1.0000 - val_loss: 1.2648 - val_binary_accuracy: 0.8100\n",
      "Epoch 31/50\n",
      " - 1s - loss: 0.0202 - binary_accuracy: 0.9943 - val_loss: 1.1811 - val_binary_accuracy: 0.8300\n",
      "Epoch 32/50\n",
      " - 1s - loss: 0.0189 - binary_accuracy: 0.9929 - val_loss: 1.3209 - val_binary_accuracy: 0.7933\n",
      "Epoch 33/50\n",
      " - 1s - loss: 0.0235 - binary_accuracy: 0.9914 - val_loss: 1.3725 - val_binary_accuracy: 0.8033\n",
      "Epoch 34/50\n",
      " - 1s - loss: 0.1524 - binary_accuracy: 0.9529 - val_loss: 0.8398 - val_binary_accuracy: 0.7933\n",
      "Epoch 35/50\n",
      " - 1s - loss: 0.0702 - binary_accuracy: 0.9743 - val_loss: 0.9181 - val_binary_accuracy: 0.7867\n",
      "Epoch 36/50\n",
      " - 1s - loss: 0.0453 - binary_accuracy: 0.9800 - val_loss: 1.0809 - val_binary_accuracy: 0.7800\n",
      "Epoch 37/50\n",
      " - 1s - loss: 0.0464 - binary_accuracy: 0.9829 - val_loss: 0.9505 - val_binary_accuracy: 0.7633\n",
      "Epoch 38/50\n",
      " - 1s - loss: 0.0327 - binary_accuracy: 0.9914 - val_loss: 1.2910 - val_binary_accuracy: 0.7633\n",
      "Epoch 39/50\n",
      " - 1s - loss: 0.0125 - binary_accuracy: 0.9957 - val_loss: 1.3112 - val_binary_accuracy: 0.7933\n",
      "Epoch 40/50\n",
      " - 1s - loss: 0.0063 - binary_accuracy: 0.9986 - val_loss: 1.4605 - val_binary_accuracy: 0.7767\n",
      "Epoch 41/50\n",
      " - 1s - loss: 0.0071 - binary_accuracy: 0.9986 - val_loss: 1.4693 - val_binary_accuracy: 0.7800\n",
      "Epoch 42/50\n",
      " - 1s - loss: 0.0051 - binary_accuracy: 0.9986 - val_loss: 1.5230 - val_binary_accuracy: 0.7900\n",
      "Epoch 43/50\n",
      " - 1s - loss: 0.0041 - binary_accuracy: 0.9986 - val_loss: 1.5541 - val_binary_accuracy: 0.7733\n",
      "Epoch 44/50\n",
      " - 1s - loss: 0.0029 - binary_accuracy: 0.9986 - val_loss: 1.5752 - val_binary_accuracy: 0.7867\n",
      "Epoch 45/50\n",
      " - 1s - loss: 0.0059 - binary_accuracy: 0.9971 - val_loss: 1.3840 - val_binary_accuracy: 0.8033\n",
      "Epoch 46/50\n",
      " - 1s - loss: 0.0553 - binary_accuracy: 0.9814 - val_loss: 1.0738 - val_binary_accuracy: 0.8067\n",
      "Epoch 47/50\n",
      " - 1s - loss: 0.0350 - binary_accuracy: 0.9886 - val_loss: 0.9398 - val_binary_accuracy: 0.8067\n",
      "Epoch 48/50\n",
      " - 1s - loss: 0.0230 - binary_accuracy: 0.9900 - val_loss: 1.1027 - val_binary_accuracy: 0.8133\n",
      "Epoch 49/50\n",
      " - 1s - loss: 0.0143 - binary_accuracy: 0.9914 - val_loss: 1.3991 - val_binary_accuracy: 0.8000\n",
      "Epoch 50/50\n",
      " - 1s - loss: 0.0131 - binary_accuracy: 0.9971 - val_loss: 1.3940 - val_binary_accuracy: 0.7700\n"
     ]
    }
   ],
   "source": [
    "tf.set_random_seed(1)\n",
    "\n",
    "history_dropout = model_dropout.fit(x = X_train_indices, y = y_train,\n",
    "                                    epochs = 50,\n",
    "                                    batch_size = 32, \n",
    "                                    verbose = 2,\n",
    "                                    shuffle = True,\n",
    "                                    validation_data = (X_val_indices, y_val))"
   ]
  },
  {
   "cell_type": "code",
   "execution_count": 39,
   "metadata": {},
   "outputs": [
    {
     "data": {
      "image/png": "[encoded data removed]",
      "text/plain": [
       "<Figure size 576x432 with 2 Axes>"
      ]
     },
     "metadata": {
      "needs_background": "light"
     },
     "output_type": "display_data"
    }
   ],
   "source": [
    "plot_metric_loss(history_dropout, 'binary_accuracy')"
   ]
  },
  {
   "cell_type": "markdown",
   "metadata": {},
   "source": [
    "- From the above plotting, we could see that even two dropout layer with probability of 0.5 are added in the model, the overfitting and high variance problem still cannot be handled well. As a result, most likely the best solution is to collect more data."
   ]
  },
  {
   "cell_type": "markdown",
   "metadata": {},
   "source": [
    " # 4. Plot ROC"
   ]
  },
  {
   "cell_type": "markdown",
   "metadata": {},
   "source": [
    "- To better evaluate the performance of the model, we could plot the ROC of the model."
   ]
  },
  {
   "cell_type": "code",
   "execution_count": 40,
   "metadata": {},
   "outputs": [],
   "source": [
    "from sklearn.metrics import roc_curve, auc\n",
    "\n",
    "def roc_plot(model, X_data, y_data):\n",
    "    \n",
    "    \"\"\"\n",
    "    Args:\n",
    "        model (keras model): A fitted keras model.\n",
    "        X_data (numpy array): A numpay array contains encoded movie reviews\n",
    "        y_data (pandas series): A pandas series contains correct target variable\n",
    "    \n",
    "    Returns:\n",
    "        None\n",
    "    \"\"\"\n",
    "    \n",
    "    # predict the probability \n",
    "    y_score = model.predict(X_data)\n",
    "    \n",
    "    # compute false positive rate and true positive rate\n",
    "    fpr, tpr, _ = roc_curve(y_data.ravel(), y_score.ravel())\n",
    "    # compute AUC\n",
    "    roc_auc = auc(fpr, tpr)\n",
    "    \n",
    "    lw = 2\n",
    "    fig, ax = plt.subplots(1, 1)\n",
    "    ax.plot(fpr, tpr,\n",
    "            color = 'darkorange',\n",
    "            lw = lw,\n",
    "            label = 'ROC Curve (AUC = {0:.3f})'.format(roc_auc))\n",
    "    ax.plot([0, 1], [0, 1],\n",
    "            color = 'navy',\n",
    "            lw = lw, \n",
    "            linestyle = '--')\n",
    "    ax.set_xlim([0.0, 1.0])\n",
    "    ax.set_ylim([0.0, 1.05])\n",
    "    ax.set_title('Receiver Operating Characteristic Curve')\n",
    "    ax.set_xlabel('False Positive Rate')\n",
    "    ax.set_ylabel('True Positive Rate')\n",
    "    ax.legend(loc = 'lower right') "
   ]
  },
  {
   "cell_type": "code",
   "execution_count": 41,
   "metadata": {
    "scrolled": true
   },
   "outputs": [
    {
     "data": {
      "image/png": "[encoded data removed]",
      "text/plain": [
       "<Figure size 432x288 with 1 Axes>"
      ]
     },
     "metadata": {
      "needs_background": "light"
     },
     "output_type": "display_data"
    }
   ],
   "source": [
    "roc_plot(model_dropout, X_val_indices, y_val)"
   ]
  }
 ],
 "metadata": {
  "kernelspec": {
   "display_name": "Python 3",
   "language": "python",
   "name": "python3"
  },
  "language_info": {
   "codemirror_mode": {
    "name": "ipython",
    "version": 3
   },
   "file_extension": ".py",
   "mimetype": "text/x-python",
   "name": "python",
   "nbconvert_exporter": "python",
   "pygments_lexer": "ipython3",
   "version": "3.6.7"
  }
 },
 "nbformat": 4,
 "nbformat_minor": 2
}
