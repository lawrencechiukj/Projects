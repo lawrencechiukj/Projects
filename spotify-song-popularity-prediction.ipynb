{
 "cells": [
  {
   "cell_type": "markdown",
   "metadata": {},
   "source": [
    "# 0. Overview\n",
    "\n",
    "#### 1. Load Spotify Data\n",
    "\n",
    "#### 2. Preprocessing - Stage One\n",
    "a. Define target variable <br>\n",
    "b. Train-test-split <br>\n",
    "\n",
    "#### 3. Feature Engineering\n",
    "a. Extract song genres from song_tag<br>\n",
    "b. Extract artist types from artist_tag <br>\n",
    "c. Extract chorus and verse features from raw Lyrics <br>\n",
    "d. Extract Lyrics features <br>\n",
    "e. TF-IDF for Lyrics<br>\n",
    "f. LDA for Lyrics<br>\n",
    "g. Artist level<br>\n",
    "\n",
    "#### 4. Preprocessing - Stage Two\n",
    "a. Impute missing value <br>\n",
    "b. Feature selection <br>\n",
    "c. Sklearn pipeline <br>\n",
    "\n",
    "#### 5. Models\n",
    "a. Logistic Regression <br>\n",
    "b. SVM <br>\n",
    "c. Random forest <br>\n",
    "d. Xgboost <br>\n",
    "\n",
    "#### 6. Insights\n",
    "a. ROC <br>\n",
    "b. Feature importance <br>"
   ]
  },
  {
   "cell_type": "markdown",
   "metadata": {},
   "source": [
    "# 1. Load Spotify Data"
   ]
  },
  {
   "cell_type": "code",
   "execution_count": 1,
   "metadata": {},
   "outputs": [],
   "source": [
    "import pandas as pd"
   ]
  },
  {
   "cell_type": "code",
   "execution_count": 2,
   "metadata": {},
   "outputs": [],
   "source": [
    "class Config:\n",
    "    \n",
    "    root_dir = 'D:\\\\Job\\\\Codes\\\\Data\\\\'\n",
    "    data_dir = root_dir + 'spotify.xlsx'\n",
    "\n",
    "config = Config"
   ]
  },
  {
   "cell_type": "code",
   "execution_count": 3,
   "metadata": {},
   "outputs": [],
   "source": [
    "data = pd.read_excel(config.data_dir, encoding = 'ISO-8859-1')"
   ]
  },
  {
   "cell_type": "markdown",
   "metadata": {},
   "source": [
    "- There are 3576 unique songs and 18 features"
   ]
  },
  {
   "cell_type": "code",
   "execution_count": 4,
   "metadata": {},
   "outputs": [
    {
     "data": {
      "text/plain": [
       "(3576, 17)"
      ]
     },
     "execution_count": 4,
     "metadata": {},
     "output_type": "execute_result"
    }
   ],
   "source": [
    "data.shape"
   ]
  },
  {
   "cell_type": "markdown",
   "metadata": {},
   "source": [
    "- This 18 raw features include song title, lyrics, artist, tag and 8 audio features"
   ]
  },
  {
   "cell_type": "code",
   "execution_count": 5,
   "metadata": {},
   "outputs": [
    {
     "data": {
      "text/html": [
       "<div>\n",
       "<style scoped>\n",
       "    .dataframe tbody tr th:only-of-type {\n",
       "        vertical-align: middle;\n",
       "    }\n",
       "\n",
       "    .dataframe tbody tr th {\n",
       "        vertical-align: top;\n",
       "    }\n",
       "\n",
       "    .dataframe thead th {\n",
       "        text-align: right;\n",
       "    }\n",
       "</style>\n",
       "<table border=\"1\" class=\"dataframe\">\n",
       "  <thead>\n",
       "    <tr style=\"text-align: right;\">\n",
       "      <th></th>\n",
       "      <th>Days</th>\n",
       "      <th>Pk.</th>\n",
       "      <th>Lyrics</th>\n",
       "      <th>Title</th>\n",
       "      <th>Artist</th>\n",
       "      <th>artist_tag</th>\n",
       "      <th>song_tag</th>\n",
       "      <th>releaseYear</th>\n",
       "      <th>releaseMonth</th>\n",
       "      <th>acousticness</th>\n",
       "      <th>danceability</th>\n",
       "      <th>energy</th>\n",
       "      <th>liveness</th>\n",
       "      <th>loudness</th>\n",
       "      <th>speechiness</th>\n",
       "      <th>Tempo</th>\n",
       "      <th>valence</th>\n",
       "    </tr>\n",
       "  </thead>\n",
       "  <tbody>\n",
       "    <tr>\n",
       "      <th>0</th>\n",
       "      <td>622</td>\n",
       "      <td>1</td>\n",
       "      <td>[Intro: Kyla]\\nBaby, I like your style\\n[Verse...</td>\n",
       "      <td>One Dance</td>\n",
       "      <td>Drake</td>\n",
       "      <td>hip-hop,rap,hip hop,rnb,drake,canadian</td>\n",
       "      <td>ovo,kyla,wizkid,pop,drake,aubrey</td>\n",
       "      <td>2016</td>\n",
       "      <td>5</td>\n",
       "      <td>0.00902</td>\n",
       "      <td>0.785</td>\n",
       "      <td>0.617</td>\n",
       "      <td>0.351</td>\n",
       "      <td>-5.871</td>\n",
       "      <td>0.0522</td>\n",
       "      <td>103.981</td>\n",
       "      <td>0.382</td>\n",
       "    </tr>\n",
       "    <tr>\n",
       "      <th>1</th>\n",
       "      <td>544</td>\n",
       "      <td>1</td>\n",
       "      <td>[Verse 1: Andrew Taggart] Hey, I was doing jus...</td>\n",
       "      <td>Closer</td>\n",
       "      <td>The Chainsmokers</td>\n",
       "      <td>electronic,pop,house,electro house,dance,american</td>\n",
       "      <td>2016,halsey,pop,electropop,,</td>\n",
       "      <td>2016</td>\n",
       "      <td>7</td>\n",
       "      <td>0.41400</td>\n",
       "      <td>0.748</td>\n",
       "      <td>0.524</td>\n",
       "      <td>0.111</td>\n",
       "      <td>-5.599</td>\n",
       "      <td>0.0338</td>\n",
       "      <td>95.010</td>\n",
       "      <td>0.661</td>\n",
       "    </tr>\n",
       "    <tr>\n",
       "      <th>2</th>\n",
       "      <td>305</td>\n",
       "      <td>1</td>\n",
       "      <td>[Video Intro] Wicked or weakness?\\nYou gotta s...</td>\n",
       "      <td>HUMBLE</td>\n",
       "      <td>Kendrick Lamar</td>\n",
       "      <td>hip-hop,rap,west coast,hip hop,compton,fip</td>\n",
       "      <td>rap,hip-hop,,,,</td>\n",
       "      <td>2017</td>\n",
       "      <td>9</td>\n",
       "      <td>0.00778</td>\n",
       "      <td>0.898</td>\n",
       "      <td>0.935</td>\n",
       "      <td>0.217</td>\n",
       "      <td>-2.744</td>\n",
       "      <td>0.2910</td>\n",
       "      <td>150.016</td>\n",
       "      <td>0.884</td>\n",
       "    </tr>\n",
       "    <tr>\n",
       "      <th>3</th>\n",
       "      <td>312</td>\n",
       "      <td>1</td>\n",
       "      <td>[Intro] Are you alright?\\nI'm alright, I'm qui...</td>\n",
       "      <td>XO TOUR Llif3</td>\n",
       "      <td>Lil Uzi Vert</td>\n",
       "      <td>hip-hop,trap,yeah,rap,american,trap rap</td>\n",
       "      <td>rap,american,emo rap,xo,trap,2017</td>\n",
       "      <td>2017</td>\n",
       "      <td>8</td>\n",
       "      <td>0.00466</td>\n",
       "      <td>0.722</td>\n",
       "      <td>0.614</td>\n",
       "      <td>0.106</td>\n",
       "      <td>-7.549</td>\n",
       "      <td>0.1150</td>\n",
       "      <td>154.903</td>\n",
       "      <td>0.485</td>\n",
       "    </tr>\n",
       "    <tr>\n",
       "      <th>4</th>\n",
       "      <td>417</td>\n",
       "      <td>5</td>\n",
       "      <td>[Intro: Post Malone]\\nMm-mmm\\nYah, yah\\nMm-mmm...</td>\n",
       "      <td>Congratulations</td>\n",
       "      <td>Post Malone</td>\n",
       "      <td>hip-hop,rap,cloud rap,hip hop,trap,pop rap</td>\n",
       "      <td>rap,hip hop,trap,2017,quavo,superbowl call dem...</td>\n",
       "      <td>2017</td>\n",
       "      <td>6</td>\n",
       "      <td>0.19500</td>\n",
       "      <td>0.522</td>\n",
       "      <td>0.726</td>\n",
       "      <td>0.493</td>\n",
       "      <td>-4.460</td>\n",
       "      <td>0.1540</td>\n",
       "      <td>123.017</td>\n",
       "      <td>0.491</td>\n",
       "    </tr>\n",
       "  </tbody>\n",
       "</table>\n",
       "</div>"
      ],
      "text/plain": [
       "   Days  Pk.                                             Lyrics  \\\n",
       "0   622    1  [Intro: Kyla]\\nBaby, I like your style\\n[Verse...   \n",
       "1   544    1  [Verse 1: Andrew Taggart] Hey, I was doing jus...   \n",
       "2   305    1  [Video Intro] Wicked or weakness?\\nYou gotta s...   \n",
       "3   312    1  [Intro] Are you alright?\\nI'm alright, I'm qui...   \n",
       "4   417    5  [Intro: Post Malone]\\nMm-mmm\\nYah, yah\\nMm-mmm...   \n",
       "\n",
       "             Title            Artist  \\\n",
       "0        One Dance             Drake   \n",
       "1           Closer  The Chainsmokers   \n",
       "2           HUMBLE    Kendrick Lamar   \n",
       "3    XO TOUR Llif3      Lil Uzi Vert   \n",
       "4  Congratulations       Post Malone   \n",
       "\n",
       "                                          artist_tag  \\\n",
       "0             hip-hop,rap,hip hop,rnb,drake,canadian   \n",
       "1  electronic,pop,house,electro house,dance,american   \n",
       "2         hip-hop,rap,west coast,hip hop,compton,fip   \n",
       "3            hip-hop,trap,yeah,rap,american,trap rap   \n",
       "4         hip-hop,rap,cloud rap,hip hop,trap,pop rap   \n",
       "\n",
       "                                            song_tag  releaseYear  \\\n",
       "0                   ovo,kyla,wizkid,pop,drake,aubrey         2016   \n",
       "1                       2016,halsey,pop,electropop,,         2016   \n",
       "2                                    rap,hip-hop,,,,         2017   \n",
       "3                  rap,american,emo rap,xo,trap,2017         2017   \n",
       "4  rap,hip hop,trap,2017,quavo,superbowl call dem...         2017   \n",
       "\n",
       "   releaseMonth  acousticness  danceability  energy  liveness  loudness  \\\n",
       "0             5       0.00902         0.785   0.617     0.351    -5.871   \n",
       "1             7       0.41400         0.748   0.524     0.111    -5.599   \n",
       "2             9       0.00778         0.898   0.935     0.217    -2.744   \n",
       "3             8       0.00466         0.722   0.614     0.106    -7.549   \n",
       "4             6       0.19500         0.522   0.726     0.493    -4.460   \n",
       "\n",
       "   speechiness    Tempo  valence  \n",
       "0       0.0522  103.981    0.382  \n",
       "1       0.0338   95.010    0.661  \n",
       "2       0.2910  150.016    0.884  \n",
       "3       0.1150  154.903    0.485  \n",
       "4       0.1540  123.017    0.491  "
      ]
     },
     "execution_count": 5,
     "metadata": {},
     "output_type": "execute_result"
    }
   ],
   "source": [
    "data.head()"
   ]
  },
  {
   "cell_type": "markdown",
   "metadata": {},
   "source": [
    "# 2. Preprocessing - Stage One"
   ]
  },
  {
   "cell_type": "markdown",
   "metadata": {},
   "source": [
    "### a. Define target variable"
   ]
  },
  {
   "cell_type": "markdown",
   "metadata": {},
   "source": [
    "- Our question is that what kinds of song could be popular for a long time\n",
    "- In the dataset, **Days** and **Pk.** provide such information:\n",
    "    1. **Pk.**: the highest ranking the song ever reached (1 stands for top 1)\n",
    "    2. **Days**: the days the song stay in the top 200 songs\n",
    "    \n",
    "    \n",
    "- So we will use K-Means to cluster all 3576 songs with **Pk.** and **Days** to define popular songs"
   ]
  },
  {
   "cell_type": "markdown",
   "metadata": {},
   "source": [
    "- Take wanted subset of whole data and split it to training and testing set"
   ]
  },
  {
   "cell_type": "code",
   "execution_count": 6,
   "metadata": {},
   "outputs": [],
   "source": [
    "import numpy as np\n",
    "from sklearn.preprocessing import StandardScaler"
   ]
  },
  {
   "cell_type": "code",
   "execution_count": 7,
   "metadata": {
    "scrolled": true
   },
   "outputs": [],
   "source": [
    "def df_for_kmeans(data, cols):\n",
    "    \n",
    "    \"\"\"\n",
    "    Args:\n",
    "        data (pandas dataframe): Dataset for K-Means\n",
    "        cols (list): A list contains the name of column used for K-Means\n",
    "        \n",
    "    Returns:\n",
    "        X_train (pandas dataframe): Traing subset for K-Means\n",
    "        X_test (pandas dataframe): Testing subset for K-Means\n",
    "    \"\"\"\n",
    "    \n",
    "    np.random.seed(1)\n",
    "    # sample 70% as training set\n",
    "    X_train = data.loc[:, cols].sample(frac = 0.7).copy()\n",
    "    # the rest 30% as testing set\n",
    "    X_test = data.loc[~data.index.isin(X_train.index), cols].copy()\n",
    "    \n",
    "    # scaling\n",
    "    Sc = StandardScaler()\n",
    "    X_train.loc[:, :] = Sc.fit_transform(X_train.astype('float64'))\n",
    "    X_test.loc[:, :] = Sc.transform(X_test.astype('float64'))\n",
    "    \n",
    "    return X_train, X_test\n",
    "\n",
    "X_train_km, X_test_km = df_for_kmeans(data, ['Pk.', 'Days'])"
   ]
  },
  {
   "cell_type": "markdown",
   "metadata": {},
   "source": [
    "- loop over K-Means n_clusters from 2 to 10 to search for optimal n_clusters\n",
    "- for each n_cluster, retain the corresponding sum of squared within-group distance to evaluate performance later"
   ]
  },
  {
   "cell_type": "code",
   "execution_count": 8,
   "metadata": {},
   "outputs": [],
   "source": [
    "from sklearn.cluster import KMeans\n",
    "import seaborn as sns\n",
    "import matplotlib.pyplot as plt\n",
    "\n",
    "def kmeans_dist(X_train, X_test, maxk = 10):\n",
    "    \n",
    "    \"\"\"\n",
    "    Args:\n",
    "        maxk (int): The maximum n_clusters wanted to try\n",
    "        X_train (pandas dataframe): Traing set for K-Means\n",
    "        X_test (pandas dataframe): Testing set for K-Means\n",
    "        \n",
    "    Returns:\n",
    "        train_scores (list): Training Set's sum of squared within-group distance for each n_clusters\n",
    "        test_scores (list): Test Set's sum of squared within-group distance for each n_clusters\n",
    "    \"\"\"\n",
    "    \n",
    "    # initialize list\n",
    "    train_scores = []\n",
    "    test_scores = []\n",
    "    \n",
    "    # loop over candidate n_clusters\n",
    "    for k in range(2, maxk):\n",
    "        \n",
    "        # fit the K-Means model\n",
    "        km = KMeans(n_clusters = k, n_init = 100, random_state = 1)\n",
    "        km.fit(X_train)\n",
    "        # append the score to lists\n",
    "        train_scores.append(-km.score(X_train))\n",
    "        test_scores.append(-km.score(X_test))\n",
    "        \n",
    "    return train_scores, test_scores\n",
    "\n",
    "train_scores, test_scores = kmeans_dist(X_train_km, X_test_km, maxk = 10)"
   ]
  },
  {
   "cell_type": "markdown",
   "metadata": {},
   "source": [
    "- Then we could plot the distance to search for optimal n_clusters\n",
    "- Ideally, n_clusters should be selecte at the steepest point"
   ]
  },
  {
   "cell_type": "code",
   "execution_count": 9,
   "metadata": {},
   "outputs": [],
   "source": [
    "def plot_kmeans_dist(train_scores, test_scores):\n",
    "    \n",
    "    \"\"\"\n",
    "    Args:\n",
    "        train_scores (list): Training Set's sum of squared within-group distance for each n_clusters\n",
    "        test_scores (list): Test Set's sum of squared within-group distance for each n_clusters\n",
    "        \n",
    "    Returns:\n",
    "        None\n",
    "    \"\"\"\n",
    "    \n",
    "    fig, ax = plt.subplots(1, 1, figsize = (10, 8))\n",
    "\n",
    "    l1 = sns.lineplot(x = np.arange(2, 10),\n",
    "                      y = train_scores,\n",
    "                      ax = ax)\n",
    "\n",
    "    l2 = sns.lineplot(x = np.arange(2, 10),\n",
    "                      y = test_scores, \n",
    "                      ax = ax)\n",
    "    \n",
    "    ax.legend(['Train', 'Test'])\n",
    "    ax.set_xlabel('Cluster Number')\n",
    "    ax.set_ylabel('Sum of Square Distance')"
   ]
  },
  {
   "cell_type": "code",
   "execution_count": 10,
   "metadata": {},
   "outputs": [
    {
     "data": {
      "image/png": "[encoded data removed]",
      "text/plain": [
       "<Figure size 720x576 with 1 Axes>"
      ]
     },
     "metadata": {
      "needs_background": "light"
     },
     "output_type": "display_data"
    }
   ],
   "source": [
    "plot_kmeans_dist(train_scores, test_scores)"
   ]
  },
  {
   "cell_type": "markdown",
   "metadata": {},
   "source": [
    "- From the plotting above, we could see that cluster number as 5 could be the optimal choice\n",
    "- The reason is that the within-group distance barely decrease when cluster number is larger than 5"
   ]
  },
  {
   "cell_type": "code",
   "execution_count": 11,
   "metadata": {},
   "outputs": [],
   "source": [
    "def clustering(data):\n",
    "    \n",
    "    \"\"\"\n",
    "    Args:\n",
    "        data (pandas dataframe): Dataset for K-Means\n",
    "    \n",
    "    Returns:\n",
    "        data (pandas dataframe): Dataset with clusters\n",
    "    \"\"\"\n",
    "    \n",
    "    # take subset from whole dataset to train K-Means\n",
    "    data_subset = data.loc[:, ['Pk.', 'Days']].copy()\n",
    "    \n",
    "    # scaling\n",
    "    Sc = StandardScaler()\n",
    "    data_subset.loc[:, :] = Sc.fit_transform(data_subset.astype('float64'))\n",
    "    \n",
    "    # fit the K-Means with optimal cluster number of 5\n",
    "    km = KMeans(n_clusters = 5, n_init = 100, random_state = 1)\n",
    "    # cluster for whole dataset\n",
    "    data['cluster'] = km.fit_predict(data_subset)\n",
    "\n",
    "    # plot\n",
    "    sct = sns.pairplot(data = data,\n",
    "                       height = 5,\n",
    "                       aspect = 1.5,\n",
    "                       x_vars = 'Pk.',\n",
    "                       y_vars = 'Days',\n",
    "                       hue = 'cluster')\n",
    "    \n",
    "    return data"
   ]
  },
  {
   "cell_type": "code",
   "execution_count": 12,
   "metadata": {},
   "outputs": [
    {
     "data": {
      "image/png": "[encoded data removed]",
      "text/plain": [
       "<Figure size 582.375x360 with 1 Axes>"
      ]
     },
     "metadata": {
      "needs_background": "light"
     },
     "output_type": "display_data"
    }
   ],
   "source": [
    "data = clustering(data)"
   ]
  },
  {
   "cell_type": "markdown",
   "metadata": {},
   "source": [
    "- From the plotting above, we could find that songs of **group1** and **group2** are both popular (reach the top ranking) and for a long time (more than about 150 days)\n",
    "- Songs of **group0** and **group4** are not super popular as songs of **group1** and **group2**, and stay in top200 board only for a relatively short period\n",
    "- Songs of **group3** are popular but, for some reasons, do not stay in top200 board for a long time.\n",
    "- As a result, we will define songs of **group1** and **group2** as songs popular for a long time, whereas songs of **group0**, **group3** and **group4** are not."
   ]
  },
  {
   "cell_type": "code",
   "execution_count": 13,
   "metadata": {},
   "outputs": [
    {
     "data": {
      "text/plain": [
       "0    0.852629\n",
       "1    0.147371\n",
       "Name: Popular, dtype: float64"
      ]
     },
     "execution_count": 13,
     "metadata": {},
     "output_type": "execute_result"
    }
   ],
   "source": [
    "data['Popular'] = data.cluster.map({0:0, 1:1, 2:1, 3:0, 4:0})\n",
    "data.drop(['Days', 'Pk.', 'cluster'], axis = 1, inplace = True)\n",
    "data['Popular'].value_counts(normalize = True)"
   ]
  },
  {
   "cell_type": "code",
   "execution_count": 14,
   "metadata": {},
   "outputs": [
    {
     "data": {
      "text/html": [
       "<div>\n",
       "<style scoped>\n",
       "    .dataframe tbody tr th:only-of-type {\n",
       "        vertical-align: middle;\n",
       "    }\n",
       "\n",
       "    .dataframe tbody tr th {\n",
       "        vertical-align: top;\n",
       "    }\n",
       "\n",
       "    .dataframe thead th {\n",
       "        text-align: right;\n",
       "    }\n",
       "</style>\n",
       "<table border=\"1\" class=\"dataframe\">\n",
       "  <thead>\n",
       "    <tr style=\"text-align: right;\">\n",
       "      <th></th>\n",
       "      <th>Lyrics</th>\n",
       "      <th>Title</th>\n",
       "      <th>Artist</th>\n",
       "      <th>artist_tag</th>\n",
       "      <th>song_tag</th>\n",
       "      <th>releaseYear</th>\n",
       "      <th>releaseMonth</th>\n",
       "      <th>acousticness</th>\n",
       "      <th>danceability</th>\n",
       "      <th>energy</th>\n",
       "      <th>liveness</th>\n",
       "      <th>loudness</th>\n",
       "      <th>speechiness</th>\n",
       "      <th>Tempo</th>\n",
       "      <th>valence</th>\n",
       "      <th>Popular</th>\n",
       "    </tr>\n",
       "  </thead>\n",
       "  <tbody>\n",
       "    <tr>\n",
       "      <th>0</th>\n",
       "      <td>[Intro: Kyla]\\nBaby, I like your style\\n[Verse...</td>\n",
       "      <td>One Dance</td>\n",
       "      <td>Drake</td>\n",
       "      <td>hip-hop,rap,hip hop,rnb,drake,canadian</td>\n",
       "      <td>ovo,kyla,wizkid,pop,drake,aubrey</td>\n",
       "      <td>2016</td>\n",
       "      <td>5</td>\n",
       "      <td>0.00902</td>\n",
       "      <td>0.785</td>\n",
       "      <td>0.617</td>\n",
       "      <td>0.351</td>\n",
       "      <td>-5.871</td>\n",
       "      <td>0.0522</td>\n",
       "      <td>103.981</td>\n",
       "      <td>0.382</td>\n",
       "      <td>1</td>\n",
       "    </tr>\n",
       "    <tr>\n",
       "      <th>1</th>\n",
       "      <td>[Verse 1: Andrew Taggart] Hey, I was doing jus...</td>\n",
       "      <td>Closer</td>\n",
       "      <td>The Chainsmokers</td>\n",
       "      <td>electronic,pop,house,electro house,dance,american</td>\n",
       "      <td>2016,halsey,pop,electropop,,</td>\n",
       "      <td>2016</td>\n",
       "      <td>7</td>\n",
       "      <td>0.41400</td>\n",
       "      <td>0.748</td>\n",
       "      <td>0.524</td>\n",
       "      <td>0.111</td>\n",
       "      <td>-5.599</td>\n",
       "      <td>0.0338</td>\n",
       "      <td>95.010</td>\n",
       "      <td>0.661</td>\n",
       "      <td>1</td>\n",
       "    </tr>\n",
       "    <tr>\n",
       "      <th>2</th>\n",
       "      <td>[Video Intro] Wicked or weakness?\\nYou gotta s...</td>\n",
       "      <td>HUMBLE</td>\n",
       "      <td>Kendrick Lamar</td>\n",
       "      <td>hip-hop,rap,west coast,hip hop,compton,fip</td>\n",
       "      <td>rap,hip-hop,,,,</td>\n",
       "      <td>2017</td>\n",
       "      <td>9</td>\n",
       "      <td>0.00778</td>\n",
       "      <td>0.898</td>\n",
       "      <td>0.935</td>\n",
       "      <td>0.217</td>\n",
       "      <td>-2.744</td>\n",
       "      <td>0.2910</td>\n",
       "      <td>150.016</td>\n",
       "      <td>0.884</td>\n",
       "      <td>1</td>\n",
       "    </tr>\n",
       "    <tr>\n",
       "      <th>3</th>\n",
       "      <td>[Intro] Are you alright?\\nI'm alright, I'm qui...</td>\n",
       "      <td>XO TOUR Llif3</td>\n",
       "      <td>Lil Uzi Vert</td>\n",
       "      <td>hip-hop,trap,yeah,rap,american,trap rap</td>\n",
       "      <td>rap,american,emo rap,xo,trap,2017</td>\n",
       "      <td>2017</td>\n",
       "      <td>8</td>\n",
       "      <td>0.00466</td>\n",
       "      <td>0.722</td>\n",
       "      <td>0.614</td>\n",
       "      <td>0.106</td>\n",
       "      <td>-7.549</td>\n",
       "      <td>0.1150</td>\n",
       "      <td>154.903</td>\n",
       "      <td>0.485</td>\n",
       "      <td>1</td>\n",
       "    </tr>\n",
       "    <tr>\n",
       "      <th>4</th>\n",
       "      <td>[Intro: Post Malone]\\nMm-mmm\\nYah, yah\\nMm-mmm...</td>\n",
       "      <td>Congratulations</td>\n",
       "      <td>Post Malone</td>\n",
       "      <td>hip-hop,rap,cloud rap,hip hop,trap,pop rap</td>\n",
       "      <td>rap,hip hop,trap,2017,quavo,superbowl call dem...</td>\n",
       "      <td>2017</td>\n",
       "      <td>6</td>\n",
       "      <td>0.19500</td>\n",
       "      <td>0.522</td>\n",
       "      <td>0.726</td>\n",
       "      <td>0.493</td>\n",
       "      <td>-4.460</td>\n",
       "      <td>0.1540</td>\n",
       "      <td>123.017</td>\n",
       "      <td>0.491</td>\n",
       "      <td>1</td>\n",
       "    </tr>\n",
       "  </tbody>\n",
       "</table>\n",
       "</div>"
      ],
      "text/plain": [
       "                                              Lyrics            Title  \\\n",
       "0  [Intro: Kyla]\\nBaby, I like your style\\n[Verse...        One Dance   \n",
       "1  [Verse 1: Andrew Taggart] Hey, I was doing jus...           Closer   \n",
       "2  [Video Intro] Wicked or weakness?\\nYou gotta s...           HUMBLE   \n",
       "3  [Intro] Are you alright?\\nI'm alright, I'm qui...    XO TOUR Llif3   \n",
       "4  [Intro: Post Malone]\\nMm-mmm\\nYah, yah\\nMm-mmm...  Congratulations   \n",
       "\n",
       "             Artist                                         artist_tag  \\\n",
       "0             Drake             hip-hop,rap,hip hop,rnb,drake,canadian   \n",
       "1  The Chainsmokers  electronic,pop,house,electro house,dance,american   \n",
       "2    Kendrick Lamar         hip-hop,rap,west coast,hip hop,compton,fip   \n",
       "3      Lil Uzi Vert            hip-hop,trap,yeah,rap,american,trap rap   \n",
       "4       Post Malone         hip-hop,rap,cloud rap,hip hop,trap,pop rap   \n",
       "\n",
       "                                            song_tag  releaseYear  \\\n",
       "0                   ovo,kyla,wizkid,pop,drake,aubrey         2016   \n",
       "1                       2016,halsey,pop,electropop,,         2016   \n",
       "2                                    rap,hip-hop,,,,         2017   \n",
       "3                  rap,american,emo rap,xo,trap,2017         2017   \n",
       "4  rap,hip hop,trap,2017,quavo,superbowl call dem...         2017   \n",
       "\n",
       "   releaseMonth  acousticness  danceability  energy  liveness  loudness  \\\n",
       "0             5       0.00902         0.785   0.617     0.351    -5.871   \n",
       "1             7       0.41400         0.748   0.524     0.111    -5.599   \n",
       "2             9       0.00778         0.898   0.935     0.217    -2.744   \n",
       "3             8       0.00466         0.722   0.614     0.106    -7.549   \n",
       "4             6       0.19500         0.522   0.726     0.493    -4.460   \n",
       "\n",
       "   speechiness    Tempo  valence  Popular  \n",
       "0       0.0522  103.981    0.382        1  \n",
       "1       0.0338   95.010    0.661        1  \n",
       "2       0.2910  150.016    0.884        1  \n",
       "3       0.1150  154.903    0.485        1  \n",
       "4       0.1540  123.017    0.491        1  "
      ]
     },
     "execution_count": 14,
     "metadata": {},
     "output_type": "execute_result"
    }
   ],
   "source": [
    "data.head()"
   ]
  },
  {
   "cell_type": "markdown",
   "metadata": {},
   "source": [
    "### b. train-test-split"
   ]
  },
  {
   "cell_type": "code",
   "execution_count": 15,
   "metadata": {},
   "outputs": [],
   "source": [
    "from sklearn.model_selection import train_test_split"
   ]
  },
  {
   "cell_type": "code",
   "execution_count": 16,
   "metadata": {},
   "outputs": [],
   "source": [
    "X, y = data.iloc[:, :-1].copy(), data.Popular.copy()\n",
    "\n",
    "X_train, X_test, y_train, y_test = train_test_split(X, y,\n",
    "                                                    test_size = 0.3,\n",
    "                                                    stratify = y,\n",
    "                                                    random_state = 1)"
   ]
  },
  {
   "cell_type": "code",
   "execution_count": 17,
   "metadata": {},
   "outputs": [
    {
     "name": "stdout",
     "output_type": "stream",
     "text": [
      "Training Set Shape:  (2503, 15)\n",
      "Test Set Shape:  (1073, 15)\n"
     ]
    }
   ],
   "source": [
    "print('Training Set Shape: ', X_train.shape)\n",
    "print('Test Set Shape: ',X_test.shape)"
   ]
  },
  {
   "cell_type": "markdown",
   "metadata": {},
   "source": [
    "# 3. Feature Engineering"
   ]
  },
  {
   "cell_type": "markdown",
   "metadata": {},
   "source": [
    "### a. Extract song genres from song_tag"
   ]
  },
  {
   "cell_type": "markdown",
   "metadata": {},
   "source": [
    "- In the dataset, **song_tag** provides the information about song genre\n",
    "- However, it is messy that we need to clean it first\n",
    "- We choose in total 15 genres to use by domain knowledge"
   ]
  },
  {
   "cell_type": "code",
   "execution_count": 18,
   "metadata": {},
   "outputs": [],
   "source": [
    "from sklearn.feature_extraction.text import CountVectorizer"
   ]
  },
  {
   "cell_type": "code",
   "execution_count": 19,
   "metadata": {},
   "outputs": [],
   "source": [
    "def clean_song_tag(data):\n",
    "        \n",
    "    \"\"\"\n",
    "    Args:\n",
    "        data (pandas dataframe): Dataset with raw song_tag\n",
    "    \n",
    "    Returns:\n",
    "        data (pandas dataframe): Dataset with new features\n",
    "    \"\"\"\n",
    "    data = data.copy()\n",
    "    \n",
    "    # though some tags' naming are different, but actually they are the same genre\n",
    "    data['song_tag'] = data.song_tag.str.replace('hip-hop','hiphop')\n",
    "    data['song_tag'] = data.song_tag.str.replace('hip hop','hiphop')\n",
    "    data['song_tag'] = data.song_tag.str.replace('r&b','rnb')\n",
    "    data['song_tag'] = data.song_tag.str.replace('electronic','electro')\n",
    "    \n",
    "    # use CountVectorizer to build binary term-frequency matrix for song_tag\n",
    "    vect = CountVectorizer(binary = True)\n",
    "    termfreq = pd.DataFrame(vect.fit_transform(data.song_tag).toarray(), columns=vect.get_feature_names())\n",
    "    \n",
    "    # 15 song genres are selected by domain knowledge\n",
    "    genre = ['pop', 'hiphop', 'rap', 'electro', \n",
    "             'rock', 'trap', 'rnb', 'alternative', \n",
    "             'dance', 'soul', 'indie', 'acoustic', \n",
    "             'country', 'funk', 'folk']\n",
    "    \n",
    "    # take only 15 genres\n",
    "    termfreq = termfreq.loc[:, genre]\n",
    "    \n",
    "    # add preffix for song genre\n",
    "    termfreq.columns = 'song_' + termfreq.columns\n",
    "    \n",
    "    # merge with main dataset\n",
    "    data = pd.merge(left = data, \n",
    "                    right = termfreq, \n",
    "                    how  = 'left',\n",
    "                    left_index = True,\n",
    "                    right_index = True)\n",
    "    \n",
    "    # drop song_tag\n",
    "    data.drop(['song_tag'], axis = 1, inplace = True)\n",
    "    \n",
    "    return data\n",
    "\n",
    "X_train = clean_song_tag(X_train)\n",
    "X_test = clean_song_tag(X_test)"
   ]
  },
  {
   "cell_type": "markdown",
   "metadata": {},
   "source": [
    "### b. Extract aritst types from artist_tag"
   ]
  },
  {
   "cell_type": "markdown",
   "metadata": {},
   "source": [
    "- Like **song_tag** above, **artist_tag** also provides information about artist\n",
    "- We performance the same cleaning process above except that the selected artist types are different"
   ]
  },
  {
   "cell_type": "code",
   "execution_count": 20,
   "metadata": {},
   "outputs": [],
   "source": [
    "def clean_artist_tag(data):\n",
    "    \n",
    "    \"\"\"\n",
    "    Args:\n",
    "        data (pandas dataframe): Dataset with raw artist_tag\n",
    "    \n",
    "    Returns:\n",
    "        data (pandas dataframe): Dataset with new features\n",
    "    \"\"\"\n",
    "    data = data.copy()\n",
    "    \n",
    "    # though some tags' naming are different, but actually they are the same genre\n",
    "    data['artist_tag'] = data.artist_tag.str.replace('hip-hop','hiphop')\n",
    "    data['artist_tag'] = data.artist_tag.str.replace('hip hop','hiphop')\n",
    "    data['artist_tag'] = data.artist_tag.str.replace('r&b','rnb')\n",
    "    data['artist_tag'] = data.artist_tag.str.replace('electronic','electro')\n",
    "    \n",
    "    # use CountVectorizer to build binary term-frequency matrix for song_tag\n",
    "    vect = CountVectorizer(binary = True)\n",
    "    termfreq = pd.DataFrame(vect.fit_transform(data.artist_tag).toarray(), columns=vect.get_feature_names())\n",
    "    \n",
    "    # 15 artist genres are selected by domain knowledge\n",
    "    genre = ['pop', 'hiphop', 'rap', 'rock', \n",
    "             'indie', 'vocalists', 'alternative', 'rnb', \n",
    "             'electro', 'dance', 'male', 'female', \n",
    "             'soul', 'songwriter', 'folk']\n",
    "    \n",
    "    # take only 15 genres\n",
    "    termfreq = termfreq.loc[:, genre]\n",
    "    \n",
    "    # add preffix for artist\n",
    "    termfreq.columns = 'art_' + termfreq.columns\n",
    "    \n",
    "    # merge with main dataset\n",
    "    data = pd.merge(left = data, \n",
    "                    right = termfreq, \n",
    "                    how  = 'left',\n",
    "                    left_index = True,\n",
    "                    right_index = True)\n",
    "    \n",
    "    # drop artist_tag\n",
    "    data.drop(['artist_tag'], axis = 1, inplace = True)\n",
    "    \n",
    "    return data\n",
    "\n",
    "X_train = clean_artist_tag(X_train)\n",
    "X_test = clean_artist_tag(X_test)"
   ]
  },
  {
   "cell_type": "markdown",
   "metadata": {},
   "source": [
    "### c. Extract chorus and verse features from raw Lyrics"
   ]
  },
  {
   "cell_type": "markdown",
   "metadata": {},
   "source": [
    "- Besides whole lyrics, the length or sentiment of chorus and verse  may be influential, so we will extract chorus and verse and perform text mining on them separately."
   ]
  },
  {
   "cell_type": "code",
   "execution_count": 21,
   "metadata": {},
   "outputs": [],
   "source": [
    "import re"
   ]
  },
  {
   "cell_type": "code",
   "execution_count": 22,
   "metadata": {},
   "outputs": [],
   "source": [
    "def get_verse_doc(doc):\n",
    "    \n",
    "    \"\"\"\n",
    "    Args:\n",
    "        doc (str): Whole lyrics with tags indicating each paragraph\n",
    "        \n",
    "    Returns:\n",
    "        verse_doc (list): A list retains each verse paragraph\n",
    "    \"\"\"\n",
    "    \n",
    "    verse_doc = []\n",
    "    \n",
    "    # use regex to split all paragraph with retaining (Verse|Chorus|Outro|Intro|Hook)\n",
    "    para_list = re.split(r'(\\[[A-Za-z1-9.:+\\s&$()?-]*(Verse|Chorus|Outro|Intro|Hook)+[A-Za-z1-9.:+\\s&$()?-]*\\])', doc)\n",
    "    \n",
    "    # store the element that follows Verse/Chorus\n",
    "    for i, para in enumerate(para_list):\n",
    "        \n",
    "        if para == 'Verse':\n",
    "            \n",
    "            verse_doc.append(para_list[i + 1])\n",
    "    \n",
    "    return verse_doc"
   ]
  },
  {
   "cell_type": "code",
   "execution_count": 23,
   "metadata": {},
   "outputs": [],
   "source": [
    "def get_chorus_doc(doc):\n",
    "    \n",
    "    \"\"\"\n",
    "    Args:\n",
    "        doc (str): Whole lyrics with tags indicating each paragraph\n",
    "        \n",
    "    Returns:\n",
    "        chorus_doc (list): A list retains each chorus paragraph\n",
    "    \"\"\"\n",
    "    \n",
    "    chorus_doc = []\n",
    "    \n",
    "    # use regex to split all paragraph with retaining (Verse|Chorus|Outro|Intro|Hook)\n",
    "    para_list = re.split(r'(\\[[A-Za-z1-9.:+\\s&$()?-]*(Verse|Chorus|Outro|Intro|Hook)+[A-Za-z1-9.:+\\s&$()?-]*\\])', doc)\n",
    "    \n",
    "    # store the element that follows Verse/Chorus\n",
    "    for i, para in enumerate(para_list):\n",
    "        \n",
    "        if para == 'Chorus':\n",
    "            \n",
    "            chorus_doc.append(para_list[i + 1])\n",
    "    \n",
    "    return chorus_doc"
   ]
  },
  {
   "cell_type": "code",
   "execution_count": 24,
   "metadata": {},
   "outputs": [],
   "source": [
    "from textblob import TextBlob"
   ]
  },
  {
   "cell_type": "code",
   "execution_count": 25,
   "metadata": {},
   "outputs": [],
   "source": [
    "def feature_eng_verse_chorus(data):\n",
    "    \n",
    "    \"\"\"\n",
    "    Args:\n",
    "        data (pandas dataframe): Dataset with raw Lyrics\n",
    "    \n",
    "    Returns:\n",
    "        data (pandas dataframe): Dataset with new features of verse/chorus\n",
    "    \"\"\"\n",
    "    \n",
    "    data = data.copy()\n",
    "    \n",
    "    # extract verse/chorus doc from Lyrics\n",
    "    data['verse_doc'] = data.Lyrics.apply(get_verse_doc)\n",
    "    data['chorus_doc'] = data.Lyrics.apply(get_chorus_doc)\n",
    "    \n",
    "    # extract verse/chorus paragraph number\n",
    "    data['verse_num'] = data.verse_doc.apply(len)\n",
    "    data['chorus_num'] = data.chorus_doc.apply(len)\n",
    "    \n",
    "    # extract verse/chorus length\n",
    "    data['verse_len'] = data.verse_doc.apply(lambda x: len(''.join(x).split()))\n",
    "    data['chorus_len'] = data.chorus_doc.apply(lambda x: len(''.join(x).split()))\n",
    "    \n",
    "    # sentiment analysis used pre-trained TextBlob library\n",
    "    # could use more advanced model to do sentiment classification\n",
    "    # polarity score ranges from -1 to 1 where -1 stands for negative sentiment and 1 stands for positive sentiment\n",
    "    data['verse_polarity'] = data.verse_doc.apply(lambda x: TextBlob(''.join(x)).polarity)\n",
    "    data['chorus_polarity'] = data.chorus_doc.apply(lambda x: TextBlob(''.join(x)).polarity)\n",
    "    \n",
    "    # subjectivity score ranges from -1 to 1 where -1 stands for objectivity and 1 stands for subjectivity\n",
    "    data['verse_subjectivity'] = data.verse_doc.apply(lambda x: TextBlob(''.join(x)).subjectivity)\n",
    "    data['chorus_subjectivity'] = data.chorus_doc.apply(lambda x: TextBlob(''.join(x)).subjectivity)\n",
    "    \n",
    "    # a feature telling if there is polarity twist between verse and chorus\n",
    "    data['polarity_twist'] = np.where(data.verse_polarity * data.chorus_polarity < 0, 1, 0)\n",
    "    \n",
    "    # drop verse/chorus doc\n",
    "    data.drop(['verse_doc', 'chorus_doc'], axis = 1, inplace = True)\n",
    "    \n",
    "    return data\n",
    "\n",
    "X_train = feature_eng_verse_chorus(X_train)\n",
    "X_test = feature_eng_verse_chorus(X_test)"
   ]
  },
  {
   "cell_type": "markdown",
   "metadata": {},
   "source": [
    "### d. Extract Lyrics features"
   ]
  },
  {
   "cell_type": "markdown",
   "metadata": {},
   "source": [
    "- We are also interested in whether the lyrics length will influence the popularity of the song\n",
    "- However, **Lyrics** contains some text to indicate differnet paragraphs and singers, which needs to be first removed before extracting actual lyrics length"
   ]
  },
  {
   "cell_type": "code",
   "execution_count": 26,
   "metadata": {},
   "outputs": [],
   "source": [
    "def feature_eng_lyrics(data):\n",
    "    \n",
    "    \"\"\"\n",
    "    Args:\n",
    "        data (pandas dataframe): Dataset with raw Lyrics\n",
    "    \n",
    "    Returns:\n",
    "        data (pandas dataframe): Dataset with new features of Lyrics\n",
    "    \"\"\"\n",
    "    \n",
    "    data = data.copy()\n",
    "    \n",
    "    # remove extra text\n",
    "    data['Lyrics'] = data.Lyrics.apply(lambda x: re.sub('([\\(\\[]).*?([\\)\\]])', '\\g<1>\\g<2>', x))\n",
    "    \n",
    "    # sentiment analysis used pre-trained TextBlob library\n",
    "    data['Lyrics_polarity'] = data.Lyrics.apply(lambda x: TextBlob(x).polarity)\n",
    "    \n",
    "    # subjectivity score ranges from -1 to 1 where -1 stands for objectivity and 1 stands for subjectivity\n",
    "    data['Lyrics_subjectivity'] = data.Lyrics.apply(lambda x: TextBlob(x).subjectivity)\n",
    "    \n",
    "    # extract lyrics length\n",
    "    data['Lyrics_len'] = data.Lyrics.apply(lambda x: len(x.split()))\n",
    "    \n",
    "    # extract unique word number to assess overall complexity\n",
    "    data['Lyrics_complexity'] = data.Lyrics.apply(lambda x: len(set(x.split())))\n",
    "    \n",
    "    return data\n",
    "\n",
    "X_train = feature_eng_lyrics(X_train)\n",
    "X_test = feature_eng_lyrics(X_test)"
   ]
  },
  {
   "cell_type": "markdown",
   "metadata": {},
   "source": [
    "- Besides length, complexity, polarity and subjectivity, we will perform TF-IDF & LDA text mining  as well\n",
    "- To accurately perform tf-idf & LDA, some stop words, punctuation and lemmatization needs to be done first\n",
    "- Whereas length, complexity, polarity and subjectivity should be implemented without removing those information.\n",
    "- So we perform cleaning process after feature engineering of length, complexity, polarity and subjectivity "
   ]
  },
  {
   "cell_type": "markdown",
   "metadata": {},
   "source": [
    "- we utilize nltk's stopwords and spacy's nlp to do lemmatization"
   ]
  },
  {
   "cell_type": "code",
   "execution_count": 27,
   "metadata": {},
   "outputs": [
    {
     "name": "stderr",
     "output_type": "stream",
     "text": [
      "C:\\Users\\User\\Anaconda3\\envs\\tensorflow_env\\lib\\importlib\\_bootstrap.py:219: RuntimeWarning: cymem.cymem.Pool size changed, may indicate binary incompatibility. Expected 48 from C header, got 64 from PyObject\n",
      "  return f(*args, **kwds)\n",
      "C:\\Users\\User\\Anaconda3\\envs\\tensorflow_env\\lib\\importlib\\_bootstrap.py:219: RuntimeWarning: cymem.cymem.Address size changed, may indicate binary incompatibility. Expected 24 from C header, got 40 from PyObject\n",
      "  return f(*args, **kwds)\n"
     ]
    }
   ],
   "source": [
    "from nltk.corpus import stopwords \n",
    "import string\n",
    "import en_core_web_sm"
   ]
  },
  {
   "cell_type": "code",
   "execution_count": 28,
   "metadata": {},
   "outputs": [],
   "source": [
    "def stop_words(doc):\n",
    "    \n",
    "    \"\"\"\n",
    "    Args:\n",
    "        doc (str): lyrics\n",
    "        \n",
    "    Returns:\n",
    "        stop_free (str): stopword-free lyrics\n",
    "    \"\"\"\n",
    "    \n",
    "    stop = set(stopwords.words('english'))\n",
    "    stop_free = ' '.join([i for i in doc.lower().split() if i not in stop])\n",
    "    \n",
    "    return stop_free"
   ]
  },
  {
   "cell_type": "code",
   "execution_count": 29,
   "metadata": {},
   "outputs": [],
   "source": [
    "def lemma(doc):\n",
    "    \n",
    "    \"\"\"\n",
    "    Args:\n",
    "        doc (str): lyrics\n",
    "        \n",
    "    Returns:\n",
    "        lem (str): lemmatized lyrics\n",
    "    \"\"\"\n",
    "    \n",
    "    # call english module\n",
    "    nlp = en_core_web_sm.load()\n",
    "    # fit doc\n",
    "    words = nlp(doc)\n",
    "    # initialize string to retain lemmatized words\n",
    "    lem = ''\n",
    "    \n",
    "    for token in words:\n",
    "        \n",
    "        lem = lem + ' ' + token.lemma_\n",
    "    \n",
    "    return lem"
   ]
  },
  {
   "cell_type": "code",
   "execution_count": 30,
   "metadata": {},
   "outputs": [
    {
     "name": "stderr",
     "output_type": "stream",
     "text": [
      "C:\\Users\\User\\Anaconda3\\envs\\tensorflow_env\\lib\\importlib\\_bootstrap.py:219: RuntimeWarning: cymem.cymem.Pool size changed, may indicate binary incompatibility. Expected 48 from C header, got 64 from PyObject\n",
      "  return f(*args, **kwds)\n",
      "C:\\Users\\User\\Anaconda3\\envs\\tensorflow_env\\lib\\importlib\\_bootstrap.py:219: RuntimeWarning: cymem.cymem.Address size changed, may indicate binary incompatibility. Expected 24 from C header, got 40 from PyObject\n",
      "  return f(*args, **kwds)\n"
     ]
    }
   ],
   "source": [
    "# spacy lemmatization will take about 1.5s for each sample\n",
    "def preprocess_lyrics(data):\n",
    "    \n",
    "    data = data.copy()\n",
    "    \n",
    "    # remove line breaker\n",
    "    data['Lyrics'] = data.Lyrics.str.replace('\\n', ' ')\n",
    "    \n",
    "    # remove punctuation, stop words and perform lemmatization\n",
    "    regex = re.compile('[{0}]'.format(re.escape(string.punctuation)))\n",
    "    data['Lyrics'] = data.Lyrics.apply(lambda x: lemma(stop_words(regex.sub('', x).lower().strip())))\n",
    "    \n",
    "    data['Lyrics'] = data.Lyrics.str.replace('-PRON-', '')\n",
    "    \n",
    "    return data\n",
    "\n",
    "\n",
    "X_train = preprocess_lyrics(X_train)\n",
    "X_test = preprocess_lyrics(X_test)"
   ]
  },
  {
   "cell_type": "markdown",
   "metadata": {},
   "source": [
    "### e. TF-IDF for Lyrics"
   ]
  },
  {
   "cell_type": "code",
   "execution_count": 31,
   "metadata": {},
   "outputs": [],
   "source": [
    "from sklearn.feature_extraction.text import TfidfVectorizer"
   ]
  },
  {
   "cell_type": "markdown",
   "metadata": {},
   "source": [
    "- We could utilize sklearn TfidfVectorizer to transform Lyrics to TF-IDF matrix\n",
    "- But since there some parameters needs to be tuned in TfidfVectorizer, we will only call TfidfVectorizer here and later fit it in sklearn pipeline to properly tune the parameters"
   ]
  },
  {
   "cell_type": "code",
   "execution_count": 32,
   "metadata": {},
   "outputs": [],
   "source": [
    "tf = TfidfVectorizer()"
   ]
  },
  {
   "cell_type": "markdown",
   "metadata": {},
   "source": [
    "- max_df, min_df, ngram_range, norm, use_idf could be tuned later in sklearn pipeline"
   ]
  },
  {
   "cell_type": "code",
   "execution_count": 33,
   "metadata": {
    "scrolled": true
   },
   "outputs": [
    {
     "data": {
      "text/plain": [
       "TfidfVectorizer(analyzer='word', binary=False, decode_error='strict',\n",
       "        dtype=<class 'numpy.float64'>, encoding='utf-8', input='content',\n",
       "        lowercase=True, max_df=1.0, max_features=None, min_df=1,\n",
       "        ngram_range=(1, 1), norm='l2', preprocessor=None, smooth_idf=True,\n",
       "        stop_words=None, strip_accents=None, sublinear_tf=False,\n",
       "        token_pattern='(?u)\\\\b\\\\w\\\\w+\\\\b', tokenizer=None, use_idf=True,\n",
       "        vocabulary=None)"
      ]
     },
     "execution_count": 33,
     "metadata": {},
     "output_type": "execute_result"
    }
   ],
   "source": [
    "tf"
   ]
  },
  {
   "cell_type": "markdown",
   "metadata": {},
   "source": [
    "### f. LDA for Lyrics"
   ]
  },
  {
   "cell_type": "code",
   "execution_count": 34,
   "metadata": {},
   "outputs": [],
   "source": [
    "from sklearn.decomposition import LatentDirichletAllocation\n",
    "from sklearn.pipeline import Pipeline\n",
    "from sklearn.model_selection import GridSearchCV"
   ]
  },
  {
   "cell_type": "code",
   "execution_count": 35,
   "metadata": {},
   "outputs": [],
   "source": [
    "def pipepline_tune_tf_lda():\n",
    "    \n",
    "    \"\"\"\n",
    "    Args:\n",
    "        None\n",
    "    Returns:\n",
    "        pipe (sklearn pipeline): A sklearn pipeline used for tuning\n",
    "    \"\"\"\n",
    "    \n",
    "    # use term-frequency only\n",
    "    tf_lda = TfidfVectorizer(use_idf = False)\n",
    "    \n",
    "    # LDA model\n",
    "    LDA = LatentDirichletAllocation()\n",
    "    \n",
    "    # fit tf_matrix to LDA model\n",
    "    \n",
    "    pipe = Pipeline([('term_frequency', tf_lda), \n",
    "                     ('lda', LDA)])\n",
    "    \n",
    "    return pipe\n",
    "\n",
    "lda_pipe = pipepline_tune_tf_lda()"
   ]
  },
  {
   "cell_type": "markdown",
   "metadata": {},
   "source": [
    "- here **max_df**, **min_fd**, **max_features** of TfidfVectorizer \n",
    "- and **n_components** of LatentDirichletAllocation need to be tuned"
   ]
  },
  {
   "cell_type": "code",
   "execution_count": 36,
   "metadata": {},
   "outputs": [],
   "source": [
    "np.random.seed(1)\n",
    "\n",
    "param_grid = {}\n",
    "# parameters for TfidfVectorizer\n",
    "param_grid['term_frequency__max_df'] = [0.8, 0.9]\n",
    "param_grid['term_frequency__min_df'] = [5, 10]\n",
    "param_grid['term_frequency__max_features'] = [1000, 1500]\n",
    "# parameters for LatentDirichletAllocation\n",
    "param_grid['lda__n_components'] = range(3, 15)\n",
    "\n",
    "grid = GridSearchCV(lda_pipe,  param_grid = param_grid, cv = 5, return_train_score = True, verbose = 1, n_jobs = -1)"
   ]
  },
  {
   "cell_type": "code",
   "execution_count": 37,
   "metadata": {},
   "outputs": [
    {
     "name": "stdout",
     "output_type": "stream",
     "text": [
      "Fitting 5 folds for each of 96 candidates, totalling 480 fits\n"
     ]
    },
    {
     "name": "stderr",
     "output_type": "stream",
     "text": [
      "[Parallel(n_jobs=-1)]: Using backend LokyBackend with 4 concurrent workers.\n",
      "[Parallel(n_jobs=-1)]: Done  42 tasks      | elapsed:  1.2min\n",
      "[Parallel(n_jobs=-1)]: Done 192 tasks      | elapsed:  4.3min\n",
      "[Parallel(n_jobs=-1)]: Done 442 tasks      | elapsed:  9.2min\n",
      "[Parallel(n_jobs=-1)]: Done 480 out of 480 | elapsed:  9.9min finished\n"
     ]
    },
    {
     "data": {
      "text/plain": [
       "GridSearchCV(cv=5, error_score='raise-deprecating',\n",
       "       estimator=Pipeline(memory=None,\n",
       "     steps=[('term_frequency', TfidfVectorizer(analyzer='word', binary=False, decode_error='strict',\n",
       "        dtype=<class 'numpy.float64'>, encoding='utf-8', input='content',\n",
       "        lowercase=True, max_df=1.0, max_features=None, min_df=1,\n",
       "        ngram_range=(1, 1), norm='l2', preprocessor=None, smooth_...        random_state=None, topic_word_prior=None,\n",
       "             total_samples=1000000.0, verbose=0))]),\n",
       "       fit_params=None, iid='warn', n_jobs=-1,\n",
       "       param_grid={'term_frequency__max_df': [0.8, 0.9], 'term_frequency__min_df': [5, 10], 'term_frequency__max_features': [1000, 1500], 'lda__n_components': range(3, 15)},\n",
       "       pre_dispatch='2*n_jobs', refit=True, return_train_score=True,\n",
       "       scoring=None, verbose=1)"
      ]
     },
     "execution_count": 37,
     "metadata": {},
     "output_type": "execute_result"
    }
   ],
   "source": [
    "grid.fit(X_train.Lyrics)"
   ]
  },
  {
   "cell_type": "markdown",
   "metadata": {},
   "source": [
    "- It turns out that topic number of 3 is the optimal topic number (since log likelihood is the highest)"
   ]
  },
  {
   "cell_type": "code",
   "execution_count": 38,
   "metadata": {},
   "outputs": [
    {
     "data": {
      "text/plain": [
       "-17946.2789021021"
      ]
     },
     "execution_count": 38,
     "metadata": {},
     "output_type": "execute_result"
    }
   ],
   "source": [
    "# log likelihood of the model\n",
    "grid.best_score_"
   ]
  },
  {
   "cell_type": "code",
   "execution_count": 39,
   "metadata": {},
   "outputs": [
    {
     "data": {
      "text/plain": [
       "{'lda__n_components': 3,\n",
       " 'term_frequency__max_df': 0.9,\n",
       " 'term_frequency__max_features': 1000,\n",
       " 'term_frequency__min_df': 10}"
      ]
     },
     "execution_count": 39,
     "metadata": {},
     "output_type": "execute_result"
    }
   ],
   "source": [
    "grid.best_params_"
   ]
  },
  {
   "cell_type": "markdown",
   "metadata": {},
   "source": [
    "- top 10 words for each topic"
   ]
  },
  {
   "cell_type": "code",
   "execution_count": 40,
   "metadata": {},
   "outputs": [],
   "source": [
    "def print_top_words(lda_model, feature_names, n_top_words):\n",
    "    \n",
    "    \"\"\"\n",
    "    Args:\n",
    "        lda_model (sklearn lda model): A LDA model from LatentDirichletAllocation\n",
    "        feature_names (list): A list of document token name from TfidfVectorizer\n",
    "        n_top_words (int): N top words want to be shown\n",
    "    Returns:\n",
    "        None\n",
    "    \"\"\"\n",
    "\n",
    "    for topic_idx, topic in enumerate(lda_model.components_):\n",
    "        print('Topic #{}:'.format(topic_idx))\n",
    "        print(' '.join([feature_names[i]\n",
    "                        for i in (-topic).argsort()[:n_top_words]]))"
   ]
  },
  {
   "cell_type": "markdown",
   "metadata": {},
   "source": [
    "- The cell below shows each topic's word dictionary\n",
    "- For topic 0, it is probably some rap song.\n",
    "- For topic 1 and topic 2, it is quite hard to tell the difference. It seems they are both about romance.\n",
    "- Almost certainly, there will be other types of topic, but here the reason that only 3 topics are chosen could be that there is not enough training data.\n"
   ]
  },
  {
   "cell_type": "code",
   "execution_count": 41,
   "metadata": {},
   "outputs": [
    {
     "name": "stdout",
     "output_type": "stream",
     "text": [
      "Topic #0:\n",
      "be not get know do love go oh like say let come make baby time feel have take never see\n",
      "Topic #1:\n",
      "be get not like yeah do nigga bitch know fuck go shit niggas money make to want that tell gon\n",
      "Topic #2:\n",
      "ooh bell sleigh whoa bang jingle winter yellow mercy monster sweat runnin ride ye alarm false rise hat fun open\n"
     ]
    }
   ],
   "source": [
    "n_top_words = 20\n",
    "tf_feature_names = grid.best_estimator_.named_steps['term_frequency'].get_feature_names()\n",
    "lda_model = grid.best_estimator_.named_steps['lda']\n",
    "\n",
    "print_top_words(lda_model, tf_feature_names, n_top_words)"
   ]
  },
  {
   "cell_type": "code",
   "execution_count": 42,
   "metadata": {},
   "outputs": [
    {
     "data": {
      "text/plain": [
       "sklearn.model_selection._search.GridSearchCV"
      ]
     },
     "execution_count": 42,
     "metadata": {},
     "output_type": "execute_result"
    }
   ],
   "source": [
    "type(grid)"
   ]
  },
  {
   "cell_type": "code",
   "execution_count": 43,
   "metadata": {},
   "outputs": [],
   "source": [
    "def feature_eng_lda(grid, data):\n",
    "    \"\"\"\n",
    "    Args:\n",
    "        grid (sklearn gridsearchcv): A fitted gridsearchcv contains TfidfVectorizer and LatentDirichletAllocation\n",
    "        data (pandas dataframe): Dataset with Lyrics\n",
    "    Returns:\n",
    "        data (pandas dataframe): Dataset with LDA topic of Lyrics\n",
    "    \n",
    "    \"\"\"\n",
    "    \n",
    "    data = data.copy()\n",
    "    data['Lyrics_Topic'] = np.argmax(grid.best_estimator_.transform(data.Lyrics), axis = 1)\n",
    "    \n",
    "    return data\n",
    "\n",
    "X_train = feature_eng_lda(grid, X_train)\n",
    "X_test = feature_eng_lda(grid, X_test)"
   ]
  },
  {
   "cell_type": "markdown",
   "metadata": {},
   "source": [
    "### g. Artist level"
   ]
  },
  {
   "cell_type": "markdown",
   "metadata": {},
   "source": [
    "- We could group artist into different levels using KMeans and use it as new feature\n",
    "- In order not to use test data's information, we only use training data here to train the KMeans model"
   ]
  },
  {
   "cell_type": "code",
   "execution_count": 44,
   "metadata": {},
   "outputs": [],
   "source": [
    "artist_group_train = pd.DataFrame(X_train.Artist.value_counts())\n",
    "artist_group_train.rename(columns = {'Artist':'Artist_Frequency'}, inplace = True)"
   ]
  },
  {
   "cell_type": "code",
   "execution_count": 45,
   "metadata": {},
   "outputs": [
    {
     "data": {
      "text/html": [
       "<div>\n",
       "<style scoped>\n",
       "    .dataframe tbody tr th:only-of-type {\n",
       "        vertical-align: middle;\n",
       "    }\n",
       "\n",
       "    .dataframe tbody tr th {\n",
       "        vertical-align: top;\n",
       "    }\n",
       "\n",
       "    .dataframe thead th {\n",
       "        text-align: right;\n",
       "    }\n",
       "</style>\n",
       "<table border=\"1\" class=\"dataframe\">\n",
       "  <thead>\n",
       "    <tr style=\"text-align: right;\">\n",
       "      <th></th>\n",
       "      <th>Artist_Frequency</th>\n",
       "    </tr>\n",
       "  </thead>\n",
       "  <tbody>\n",
       "    <tr>\n",
       "      <th>Drake</th>\n",
       "      <td>63</td>\n",
       "    </tr>\n",
       "    <tr>\n",
       "      <th>Future</th>\n",
       "      <td>54</td>\n",
       "    </tr>\n",
       "    <tr>\n",
       "      <th>The Weeknd</th>\n",
       "      <td>30</td>\n",
       "    </tr>\n",
       "    <tr>\n",
       "      <th>Logic</th>\n",
       "      <td>28</td>\n",
       "    </tr>\n",
       "    <tr>\n",
       "      <th>Ariana Grande</th>\n",
       "      <td>27</td>\n",
       "    </tr>\n",
       "  </tbody>\n",
       "</table>\n",
       "</div>"
      ],
      "text/plain": [
       "               Artist_Frequency\n",
       "Drake                        63\n",
       "Future                       54\n",
       "The Weeknd                   30\n",
       "Logic                        28\n",
       "Ariana Grande                27"
      ]
     },
     "execution_count": 45,
     "metadata": {},
     "output_type": "execute_result"
    }
   ],
   "source": [
    "artist_group_train.head()"
   ]
  },
  {
   "cell_type": "markdown",
   "metadata": {},
   "source": [
    "- Utilize the function defined before ot find the optimal cluster number"
   ]
  },
  {
   "cell_type": "code",
   "execution_count": 46,
   "metadata": {},
   "outputs": [
    {
     "data": {
      "image/png": "[encoded data removed]",
      "text/plain": [
       "<Figure size 720x576 with 1 Axes>"
      ]
     },
     "metadata": {
      "needs_background": "light"
     },
     "output_type": "display_data"
    }
   ],
   "source": [
    "X_train_artist, X_test_artist = df_for_kmeans(artist_group_train, ['Artist_Frequency'])\n",
    "train_scores, test_scores = kmeans_dist(X_train_artist, X_test_artist, maxk = 10)\n",
    "plot_kmeans_dist(train_scores, test_scores)"
   ]
  },
  {
   "cell_type": "markdown",
   "metadata": {},
   "source": [
    "- From the graph above, we could find that cluster number of four is the optimal number"
   ]
  },
  {
   "cell_type": "code",
   "execution_count": 47,
   "metadata": {},
   "outputs": [
    {
     "name": "stderr",
     "output_type": "stream",
     "text": [
      "C:\\Users\\User\\Anaconda3\\envs\\tensorflow_env\\lib\\site-packages\\scipy\\stats\\stats.py:1713: FutureWarning: Using a non-tuple sequence for multidimensional indexing is deprecated; use `arr[tuple(seq)]` instead of `arr[seq]`. In the future this will be interpreted as an array index, `arr[np.array(seq)]`, which will result either in an error or a different result.\n",
      "  return np.add.reduce(sorted[indexer] * weights, axis=axis) / sumval\n"
     ]
    },
    {
     "data": {
      "image/png": "[encoded data removed]",
      "text/plain": [
       "<Figure size 576x432 with 1 Axes>"
      ]
     },
     "metadata": {
      "needs_background": "light"
     },
     "output_type": "display_data"
    }
   ],
   "source": [
    "def clustering_artist(data_train, data_test):\n",
    "    \n",
    "    \"\"\"\n",
    "    Args:\n",
    "        data (pandas dataframe): Dataset for K-Means\n",
    "    \n",
    "    Returns:\n",
    "        data (pandas dataframe): Dataset with clusters\n",
    "    \"\"\"\n",
    "    \n",
    "    data_train = data_train.copy()\n",
    "    data_test = data_test.copy()\n",
    "    \n",
    "    # count the frequency by artist\n",
    "    artist_group_train = pd.DataFrame(data_train.Artist.value_counts())\n",
    "    artist_group_test = pd.DataFrame(data_test.Artist.value_counts())\n",
    "    \n",
    "    # scaling\n",
    "    Sc = StandardScaler()\n",
    "    artist_group_train.loc[:, :] = Sc.fit_transform(artist_group_train.astype('float64'))\n",
    "    artist_group_test.loc[:, :] = Sc.transform(artist_group_test.astype('float64'))\n",
    "    \n",
    "    # fit the K-Means with optimal cluster number of 4\n",
    "    km = KMeans(n_clusters = 4, n_init = 100, random_state = 1)\n",
    "    \n",
    "    # cluster for whole dataset\n",
    "    artist_group_train['Artist_Level'] = km.fit_predict(artist_group_train)\n",
    "    artist_group_test['Artist_Level'] = km.predict(artist_group_test)\n",
    "    \n",
    "    \n",
    "    # plotting frequency distribution\n",
    "    fig, ax1 = plt.subplots(1,1, figsize = (8, 6))\n",
    "\n",
    "    ax1.set_title('Artist on Top 200 Frequency Distribution')\n",
    "    ax1.set_xlabel('Frequency')\n",
    "    ax1.set_ylabel('Density')\n",
    "\n",
    "    sns.distplot(artist_group_train['Artist'],\n",
    "                 ax = ax1,\n",
    "                 color = 'blue')\n",
    "\n",
    "    # plot center for each cluster\n",
    "    for xc in Sc.inverse_transform(km.cluster_centers_):\n",
    "    \n",
    "        plt.axvline(x = xc,\n",
    "                    color = 'black')\n",
    "    \n",
    "    # drop unwanted count\n",
    "    artist_group_train.drop(['Artist'], axis = 1, inplace = True)\n",
    "    artist_group_test.drop(['Artist'], axis = 1, inplace = True)\n",
    "    \n",
    "    # merge with main dataset for training and test\n",
    "    data_train = pd.merge(left = data_train,\n",
    "                          right = artist_group_train,\n",
    "                          how = 'left',\n",
    "                          left_on = 'Artist',\n",
    "                          right_index = True)\n",
    "    \n",
    "    data_test = pd.merge(left = data_test,\n",
    "                         right = artist_group_test,\n",
    "                         how = 'left',\n",
    "                         left_on = 'Artist',\n",
    "                         right_index = True)\n",
    "    \n",
    "    # rename the clusters\n",
    "    data_train['Artist_Level'] = data_train['Artist_Level'].map({2:'Super', 3:'Good', 0:'Intermediate', 1:'Normal'})\n",
    "    data_test['Artist_Level'] = data_test['Artist_Level'].map({2:'Super', 3:'Good', 0:'Intermediate', 1:'Normal'})\n",
    "    \n",
    "    return data_train, data_test\n",
    "\n",
    "X_train, X_test = clustering_artist(X_train, X_test)"
   ]
  },
  {
   "cell_type": "markdown",
   "metadata": {},
   "source": [
    "- Drop **Title** and **Artist**"
   ]
  },
  {
   "cell_type": "code",
   "execution_count": 48,
   "metadata": {},
   "outputs": [],
   "source": [
    "X_train.drop(['Title', 'Artist'], axis = 1, inplace = True)\n",
    "X_test.drop(['Title', 'Artist'], axis = 1, inplace = True)"
   ]
  },
  {
   "cell_type": "markdown",
   "metadata": {},
   "source": [
    "# 4. Preprocessing - Stage Two"
   ]
  },
  {
   "cell_type": "markdown",
   "metadata": {},
   "source": [
    "- Set all numeric value dtype to float"
   ]
  },
  {
   "cell_type": "code",
   "execution_count": 49,
   "metadata": {},
   "outputs": [],
   "source": [
    "numeric_var = ['acousticness', 'danceability', 'energy', 'liveness',\n",
    "               'loudness', 'speechiness', 'Tempo', 'valence',\n",
    "               'verse_num', 'chorus_num', 'verse_len', 'chorus_len',\n",
    "               'verse_polarity', 'chorus_polarity', 'verse_subjectivity', 'chorus_subjectivity',\n",
    "               'Lyrics_polarity', 'Lyrics_subjectivity', 'Lyrics_len', 'Lyrics_complexity']\n",
    "\n",
    "\n",
    "X_train[numeric_var] = X_train[numeric_var].astype('float64')\n",
    "X_test[numeric_var] = X_test[numeric_var].astype('float64')"
   ]
  },
  {
   "cell_type": "markdown",
   "metadata": {},
   "source": [
    "- After feature engineering, we need to perform further preprocessing steps before fitting models, such as imputing missing value, feature selection and build sklearn pipeline"
   ]
  },
  {
   "cell_type": "markdown",
   "metadata": {},
   "source": [
    "### a. Impute missing value"
   ]
  },
  {
   "cell_type": "markdown",
   "metadata": {},
   "source": [
    "- There are many missing values in artist tag\n",
    "- Here we just simply use most frequent value to impute missing value\n",
    "- We will directly implement imputing in pipeline"
   ]
  },
  {
   "cell_type": "code",
   "execution_count": 50,
   "metadata": {},
   "outputs": [],
   "source": [
    "from sklearn.impute import SimpleImputer"
   ]
  },
  {
   "cell_type": "markdown",
   "metadata": {},
   "source": [
    "### b. Feature selection"
   ]
  },
  {
   "cell_type": "markdown",
   "metadata": {},
   "source": [
    "- After feature engineering, there are 56 features in the dataset\n",
    "- Besides these 56 features, once the TF-IDF matrix is generated from Lyrics, there will be much more features\n",
    "- So as to reduce the irrelevant noise, we need to perform feature selection before fitting models\n",
    "- We will use tree-based feature selection method which utilizes information theory to select relevant features\n",
    "- We will directly implement feature selection in pipeline"
   ]
  },
  {
   "cell_type": "code",
   "execution_count": 51,
   "metadata": {
    "scrolled": true
   },
   "outputs": [
    {
     "name": "stdout",
     "output_type": "stream",
     "text": [
      "(2503, 56)\n"
     ]
    }
   ],
   "source": [
    "print(X_train.shape)"
   ]
  },
  {
   "cell_type": "code",
   "execution_count": 52,
   "metadata": {},
   "outputs": [],
   "source": [
    "from sklearn.ensemble import ExtraTreesClassifier\n",
    "from sklearn.feature_selection import SelectFromModel"
   ]
  },
  {
   "cell_type": "markdown",
   "metadata": {},
   "source": [
    "### c. Sklearn pipeline"
   ]
  },
  {
   "cell_type": "code",
   "execution_count": 53,
   "metadata": {},
   "outputs": [],
   "source": [
    "from sklearn.pipeline import Pipeline\n",
    "from sklearn.compose import ColumnTransformer\n",
    "from sklearn.preprocessing import OneHotEncoder"
   ]
  },
  {
   "cell_type": "code",
   "execution_count": 54,
   "metadata": {},
   "outputs": [],
   "source": [
    "def make_pipeline(modelname, model):\n",
    "    \n",
    "    \"\"\"\n",
    "    Args:\n",
    "        modelname (str): The name for the model in pipeline\n",
    "        model (sklearn model): A sklearn model\n",
    "    \n",
    "    Returns:\n",
    "        pipe (sklearn pipeline): A sklearn pipeline\n",
    "    \"\"\"\n",
    "    \n",
    "    scaler = StandardScaler()\n",
    "    onehot = OneHotEncoder(handle_unknown = 'ignore')\n",
    "    imputer = SimpleImputer(strategy = 'most_frequent')\n",
    "    tf_idf = TfidfVectorizer()\n",
    "    \n",
    "    # categorical variables that need onehot encoded\n",
    "    category_var = ['releaseYear', 'releaseMonth', 'Lyrics_Topic', 'Artist_Level']\n",
    "    \n",
    "    # numeric variables that need to be scaled\n",
    "    numeric_var = ['acousticness', 'danceability', 'energy', 'liveness',\n",
    "                   'loudness', 'speechiness', 'Tempo', 'valence',\n",
    "                   'verse_num', 'chorus_num', 'verse_len', 'chorus_len',\n",
    "                   'verse_polarity', 'chorus_polarity', 'verse_subjectivity', 'chorus_subjectivity',\n",
    "                   'Lyrics_polarity', 'Lyrics_subjectivity', 'Lyrics_len', 'Lyrics_complexity']\n",
    "    \n",
    "    # variables that need to be imputed (all are from tag)\n",
    "    imput_var = X_train.columns[(X_train.columns.str.startswith('song') | X_train.columns.str.startswith('art'))].tolist()\n",
    "    \n",
    "    \n",
    "    # build pipeline\n",
    "    pipe = Pipeline([('columtf', ColumnTransformer(transformers = [('tf_idf_vect', tf_idf, 'Lyrics'),\n",
    "                                                                   ('scaler', scaler, numeric_var),\n",
    "                                                                   ('imputer', imputer, imput_var),\n",
    "                                                                   ('onehot', onehot, category_var)],\n",
    "                                                   remainder = 'passthrough')),\n",
    "                     # feature selection using tree\n",
    "                     ('feature_selection', SelectFromModel(ExtraTreesClassifier(n_estimators = 50))),\n",
    "                    \n",
    "                     # model\n",
    "                     (modelname, model)\n",
    "                    ])\n",
    "    \n",
    "    return pipe"
   ]
  },
  {
   "cell_type": "markdown",
   "metadata": {},
   "source": [
    "# 5. Models"
   ]
  },
  {
   "cell_type": "code",
   "execution_count": 55,
   "metadata": {},
   "outputs": [],
   "source": [
    "from sklearn import metrics\n",
    "\n",
    "def eva(grid, X_train, X_test, y_train, y_test):\n",
    "    \n",
    "    y_train_proba = grid.predict_proba(X_train)[:, 1]\n",
    "    y_train_pred = grid.predict(X_train)\n",
    "    \n",
    "    y_test_proba = grid.predict_proba(X_test)[:, 1]\n",
    "    y_test_pred = grid.predict(X_test)\n",
    "    \n",
    "    print('{0:<20}{1:>4.2%}'.format('Training Accuracy: ', metrics.accuracy_score(y_train, y_train_pred)))\n",
    "    print('{0:<20}{1:>4.2%}'.format('Test Accuracy: ', metrics.accuracy_score(y_test, y_test_pred)))\n",
    "    \n",
    "    print('\\n{0:<20}{1:>4.2%}'.format('Training AUC: ', metrics.roc_auc_score(y_train, y_train_proba)))\n",
    "    print('{0:<20}{1:>4.2%}'.format('Test AUC: ', metrics.roc_auc_score(y_test, y_test_proba)))"
   ]
  },
  {
   "cell_type": "markdown",
   "metadata": {},
   "source": [
    "### a. Logistic Regression"
   ]
  },
  {
   "cell_type": "code",
   "execution_count": 56,
   "metadata": {},
   "outputs": [],
   "source": [
    "from sklearn.linear_model import LogisticRegression"
   ]
  },
  {
   "cell_type": "code",
   "execution_count": 57,
   "metadata": {},
   "outputs": [],
   "source": [
    "LR = LogisticRegression(solver = 'liblinear')"
   ]
  },
  {
   "cell_type": "markdown",
   "metadata": {},
   "source": [
    "- make a pipeline with Logistic Regression"
   ]
  },
  {
   "cell_type": "code",
   "execution_count": 58,
   "metadata": {},
   "outputs": [],
   "source": [
    "pipeline_lr = make_pipeline('LR', LR)"
   ]
  },
  {
   "cell_type": "markdown",
   "metadata": {},
   "source": [
    "- use GridSearchCV to tune parameters\n",
    "- in the param_grid, specify the candidate parameters"
   ]
  },
  {
   "cell_type": "markdown",
   "metadata": {},
   "source": [
    "- should tune more other candidate value\n",
    "- however, due to computational limitation, we just list a few here"
   ]
  },
  {
   "cell_type": "code",
   "execution_count": 59,
   "metadata": {},
   "outputs": [],
   "source": [
    "np.random.seed(1)\n",
    "\n",
    "param_grid = {}\n",
    "\n",
    "# parameters for TfidfVectorizer\n",
    "param_grid['columtf__tf_idf_vect__max_df'] = [0.9]\n",
    "param_grid['columtf__tf_idf_vect__min_df'] = [5]\n",
    "param_grid['columtf__tf_idf_vect__ngram_range'] = [(1, 1)]\n",
    "\n",
    "# parameters for Logistic Regression\n",
    "param_grid['LR__C'] = 10 ** (2 * np.random.rand(10) - 1)\n",
    "\n",
    "grid_lr = GridSearchCV(pipeline_lr, \n",
    "                       param_grid = param_grid, \n",
    "                       cv = 5, \n",
    "                       scoring = 'accuracy',\n",
    "                       return_train_score = True, \n",
    "                       verbose = 1, \n",
    "                       n_jobs = 2)"
   ]
  },
  {
   "cell_type": "markdown",
   "metadata": {},
   "source": [
    "- fit the grid with training dataset"
   ]
  },
  {
   "cell_type": "code",
   "execution_count": 60,
   "metadata": {
    "scrolled": true
   },
   "outputs": [
    {
     "name": "stdout",
     "output_type": "stream",
     "text": [
      "Fitting 5 folds for each of 10 candidates, totalling 50 fits\n"
     ]
    },
    {
     "name": "stderr",
     "output_type": "stream",
     "text": [
      "[Parallel(n_jobs=2)]: Using backend LokyBackend with 2 concurrent workers.\n",
      "[Parallel(n_jobs=2)]: Done  46 tasks      | elapsed:   38.8s\n",
      "[Parallel(n_jobs=2)]: Done  50 out of  50 | elapsed:   42.2s finished\n"
     ]
    },
    {
     "data": {
      "text/plain": [
       "GridSearchCV(cv=5, error_score='raise-deprecating',\n",
       "       estimator=Pipeline(memory=None,\n",
       "     steps=[('columtf', ColumnTransformer(n_jobs=None, remainder='passthrough', sparse_threshold=0.3,\n",
       "         transformer_weights=None,\n",
       "         transformers=[('tf_idf_vect', TfidfVectorizer(analyzer='word', binary=False, decode_error='strict',\n",
       "        dtype=<class 'numpy.float64'>, encoding='utf-8', in...ty='l2', random_state=None, solver='liblinear',\n",
       "          tol=0.0001, verbose=0, warm_start=False))]),\n",
       "       fit_params=None, iid='warn', n_jobs=2,\n",
       "       param_grid={'columtf__tf_idf_vect__max_df': [0.9], 'columtf__tf_idf_vect__min_df': [5], 'columtf__tf_idf_vect__ngram_range': [(1, 1)], 'LR__C': array([0.68241, 2.75835, 0.10005, 0.40241, 0.19657, 0.15299, 0.23579,\n",
       "       0.49105, 0.62163, 1.19573])},\n",
       "       pre_dispatch='2*n_jobs', refit=True, return_train_score=True,\n",
       "       scoring='accuracy', verbose=1)"
      ]
     },
     "execution_count": 60,
     "metadata": {},
     "output_type": "execute_result"
    }
   ],
   "source": [
    "grid_lr.fit(X_train, y_train)"
   ]
  },
  {
   "cell_type": "markdown",
   "metadata": {},
   "source": [
    "- Best parameters"
   ]
  },
  {
   "cell_type": "code",
   "execution_count": 61,
   "metadata": {},
   "outputs": [
    {
     "data": {
      "text/plain": [
       "{'LR__C': 0.10005268542378305,\n",
       " 'columtf__tf_idf_vect__max_df': 0.9,\n",
       " 'columtf__tf_idf_vect__min_df': 5,\n",
       " 'columtf__tf_idf_vect__ngram_range': (1, 1)}"
      ]
     },
     "execution_count": 61,
     "metadata": {},
     "output_type": "execute_result"
    }
   ],
   "source": [
    "grid_lr.best_params_"
   ]
  },
  {
   "cell_type": "code",
   "execution_count": 62,
   "metadata": {
    "scrolled": true
   },
   "outputs": [
    {
     "name": "stdout",
     "output_type": "stream",
     "text": [
      "Training Accuracy:  85.94%\n",
      "Test Accuracy:      85.18%\n",
      "\n",
      "Training AUC:       79.36%\n",
      "Test AUC:           85.23%\n"
     ]
    }
   ],
   "source": [
    "eva(grid_lr, X_train, X_test, y_train, y_test)"
   ]
  },
  {
   "cell_type": "markdown",
   "metadata": {},
   "source": [
    "### b. SVM"
   ]
  },
  {
   "cell_type": "code",
   "execution_count": 63,
   "metadata": {},
   "outputs": [],
   "source": [
    "from sklearn.svm import SVC"
   ]
  },
  {
   "cell_type": "code",
   "execution_count": 64,
   "metadata": {},
   "outputs": [],
   "source": [
    "SVM = SVC(probability = True, random_state = 1)"
   ]
  },
  {
   "cell_type": "markdown",
   "metadata": {},
   "source": [
    "- make a pipeline with SVM"
   ]
  },
  {
   "cell_type": "code",
   "execution_count": 65,
   "metadata": {},
   "outputs": [],
   "source": [
    "pipeline_svm = make_pipeline('SVM', SVM)"
   ]
  },
  {
   "cell_type": "markdown",
   "metadata": {},
   "source": [
    "- use GridSearchCV to tune parameters\n",
    "- in the param_grid, specify the candidate parameters"
   ]
  },
  {
   "cell_type": "markdown",
   "metadata": {},
   "source": [
    "- should tune more other candidate value\n",
    "- however, due to computational limitation, we just list a few here"
   ]
  },
  {
   "cell_type": "code",
   "execution_count": 66,
   "metadata": {},
   "outputs": [],
   "source": [
    "np.random.seed(1)\n",
    "\n",
    "param_grid = {}\n",
    "\n",
    "# parameters for TfidfVectorizer\n",
    "param_grid['columtf__tf_idf_vect__max_df'] = [0.9]\n",
    "param_grid['columtf__tf_idf_vect__min_df'] = [5]\n",
    "param_grid['columtf__tf_idf_vect__ngram_range'] = [(1, 1)]\n",
    "\n",
    "# parameters for SVM\n",
    "param_grid = {}\n",
    "param_grid['SVM__C'] = 10 ** (np.random.rand(5) * 4 - 2)\n",
    "param_grid['SVM__gamma'] = 10 ** (np.random.rand(5) * 4 - 2)\n",
    "\n",
    "\n",
    "grid_svm = GridSearchCV(pipeline_svm, \n",
    "                        param_grid = param_grid, \n",
    "                        cv = 5, \n",
    "                        scoring = 'accuracy',\n",
    "                        return_train_score = True, \n",
    "                        verbose = 1, \n",
    "                        n_jobs = 2)"
   ]
  },
  {
   "cell_type": "markdown",
   "metadata": {},
   "source": [
    "- fit the grid with training dataset"
   ]
  },
  {
   "cell_type": "code",
   "execution_count": 67,
   "metadata": {
    "scrolled": true
   },
   "outputs": [
    {
     "name": "stdout",
     "output_type": "stream",
     "text": [
      "Fitting 5 folds for each of 25 candidates, totalling 125 fits\n"
     ]
    },
    {
     "name": "stderr",
     "output_type": "stream",
     "text": [
      "[Parallel(n_jobs=2)]: Using backend LokyBackend with 2 concurrent workers.\n",
      "[Parallel(n_jobs=2)]: Done  46 tasks      | elapsed:  7.8min\n",
      "[Parallel(n_jobs=2)]: Done 125 out of 125 | elapsed: 20.9min finished\n"
     ]
    },
    {
     "data": {
      "text/plain": [
       "GridSearchCV(cv=5, error_score='raise-deprecating',\n",
       "       estimator=Pipeline(memory=None,\n",
       "     steps=[('columtf', ColumnTransformer(n_jobs=None, remainder='passthrough', sparse_threshold=0.3,\n",
       "         transformer_weights=None,\n",
       "         transformers=[('tf_idf_vect', TfidfVectorizer(analyzer='word', binary=False, decode_error='strict',\n",
       "        dtype=<class 'numpy.float64'>, encoding='utf-8', in...='rbf', max_iter=-1, probability=True, random_state=1,\n",
       "  shrinking=True, tol=0.001, verbose=False))]),\n",
       "       fit_params=None, iid='warn', n_jobs=2,\n",
       "       param_grid={'SVM__C': array([0.46568, 7.60848, 0.01001, 0.16193, 0.03864]), 'SVM__gamma': array([0.02341, 0.0556 , 0.24113, 0.38643, 1.42977])},\n",
       "       pre_dispatch='2*n_jobs', refit=True, return_train_score=True,\n",
       "       scoring='accuracy', verbose=1)"
      ]
     },
     "execution_count": 67,
     "metadata": {},
     "output_type": "execute_result"
    }
   ],
   "source": [
    "grid_svm.fit(X_train, y_train)"
   ]
  },
  {
   "cell_type": "markdown",
   "metadata": {},
   "source": [
    "- Best parameters"
   ]
  },
  {
   "cell_type": "code",
   "execution_count": 68,
   "metadata": {},
   "outputs": [
    {
     "data": {
      "text/plain": [
       "{'SVM__C': 0.4656804637919565, 'SVM__gamma': 0.02340746480576751}"
      ]
     },
     "execution_count": 68,
     "metadata": {},
     "output_type": "execute_result"
    }
   ],
   "source": [
    "grid_svm.best_params_"
   ]
  },
  {
   "cell_type": "code",
   "execution_count": 69,
   "metadata": {
    "scrolled": true
   },
   "outputs": [
    {
     "name": "stdout",
     "output_type": "stream",
     "text": [
      "Training Accuracy:  85.26%\n",
      "Test Accuracy:      85.27%\n",
      "\n",
      "Training AUC:       99.03%\n",
      "Test AUC:           76.14%\n"
     ]
    }
   ],
   "source": [
    "eva(grid_svm, X_train, X_test, y_train, y_test)"
   ]
  },
  {
   "cell_type": "markdown",
   "metadata": {},
   "source": [
    "### c. Random Forest"
   ]
  },
  {
   "cell_type": "code",
   "execution_count": 70,
   "metadata": {},
   "outputs": [],
   "source": [
    "from sklearn.ensemble import RandomForestClassifier"
   ]
  },
  {
   "cell_type": "code",
   "execution_count": 71,
   "metadata": {},
   "outputs": [],
   "source": [
    "RF = RandomForestClassifier(n_jobs = -1, random_state = 1)"
   ]
  },
  {
   "cell_type": "markdown",
   "metadata": {},
   "source": [
    "- make a pipeline with Random Forest"
   ]
  },
  {
   "cell_type": "code",
   "execution_count": 72,
   "metadata": {},
   "outputs": [],
   "source": [
    "pipeline_rf = make_pipeline('RF', RF)"
   ]
  },
  {
   "cell_type": "markdown",
   "metadata": {},
   "source": [
    "- use GridSearchCV to tune parameters\n",
    "- in the param_grid, specify the candidate parameters"
   ]
  },
  {
   "cell_type": "markdown",
   "metadata": {},
   "source": [
    "- should tune more other candidate value\n",
    "- however, due to computational limitation, we just list a few here"
   ]
  },
  {
   "cell_type": "code",
   "execution_count": 73,
   "metadata": {},
   "outputs": [],
   "source": [
    "np.random.seed(1)\n",
    "\n",
    "param_grid = {}\n",
    "\n",
    "# parameters for TfidfVectorizer\n",
    "param_grid['columtf__tf_idf_vect__max_df'] = [0.9]\n",
    "param_grid['columtf__tf_idf_vect__min_df'] = [5]\n",
    "param_grid['columtf__tf_idf_vect__ngram_range'] = [(1, 1)]\n",
    "\n",
    "# parameters for Random Forest\n",
    "param_grid['RF__n_estimators'] = [100, 200, 300]\n",
    "param_grid['RF__max_features'] = ['auto', 0.1, 0.3]\n",
    "param_grid['RF__min_samples_split'] = [40, 60]\n",
    "param_grid['RF__max_depth'] = [None, 20]\n",
    "\n",
    "grid_rf = GridSearchCV(pipeline_rf,  \n",
    "                       param_grid = param_grid, \n",
    "                       cv = 5, \n",
    "                       scoring = 'accuracy',\n",
    "                       return_train_score = True,\n",
    "                       verbose = 1, \n",
    "                       n_jobs = 2)"
   ]
  },
  {
   "cell_type": "markdown",
   "metadata": {},
   "source": [
    "- fit the grid with training dataset"
   ]
  },
  {
   "cell_type": "code",
   "execution_count": 74,
   "metadata": {
    "scrolled": true
   },
   "outputs": [
    {
     "name": "stdout",
     "output_type": "stream",
     "text": [
      "Fitting 5 folds for each of 36 candidates, totalling 180 fits\n"
     ]
    },
    {
     "name": "stderr",
     "output_type": "stream",
     "text": [
      "[Parallel(n_jobs=2)]: Using backend LokyBackend with 2 concurrent workers.\n",
      "[Parallel(n_jobs=2)]: Done  46 tasks      | elapsed:  1.7min\n",
      "[Parallel(n_jobs=2)]: Done 180 out of 180 | elapsed: 10.1min finished\n"
     ]
    },
    {
     "data": {
      "text/plain": [
       "GridSearchCV(cv=5, error_score='raise-deprecating',\n",
       "       estimator=Pipeline(memory=None,\n",
       "     steps=[('columtf', ColumnTransformer(n_jobs=None, remainder='passthrough', sparse_threshold=0.3,\n",
       "         transformer_weights=None,\n",
       "         transformers=[('tf_idf_vect', TfidfVectorizer(analyzer='word', binary=False, decode_error='strict',\n",
       "        dtype=<class 'numpy.float64'>, encoding='utf-8', in...ators='warn', n_jobs=-1,\n",
       "            oob_score=False, random_state=1, verbose=0, warm_start=False))]),\n",
       "       fit_params=None, iid='warn', n_jobs=2,\n",
       "       param_grid={'columtf__tf_idf_vect__max_df': [0.9], 'columtf__tf_idf_vect__min_df': [5], 'columtf__tf_idf_vect__ngram_range': [(1, 1)], 'RF__n_estimators': [100, 200, 300], 'RF__max_features': ['auto', 0.1, 0.3], 'RF__min_samples_split': [40, 60], 'RF__max_depth': [None, 20]},\n",
       "       pre_dispatch='2*n_jobs', refit=True, return_train_score=True,\n",
       "       scoring='accuracy', verbose=1)"
      ]
     },
     "execution_count": 74,
     "metadata": {},
     "output_type": "execute_result"
    }
   ],
   "source": [
    "grid_rf.fit(X_train, y_train)"
   ]
  },
  {
   "cell_type": "markdown",
   "metadata": {},
   "source": [
    "- Best parameters"
   ]
  },
  {
   "cell_type": "code",
   "execution_count": 75,
   "metadata": {},
   "outputs": [
    {
     "data": {
      "text/plain": [
       "{'RF__max_depth': 20,\n",
       " 'RF__max_features': 0.1,\n",
       " 'RF__min_samples_split': 60,\n",
       " 'RF__n_estimators': 100,\n",
       " 'columtf__tf_idf_vect__max_df': 0.9,\n",
       " 'columtf__tf_idf_vect__min_df': 5,\n",
       " 'columtf__tf_idf_vect__ngram_range': (1, 1)}"
      ]
     },
     "execution_count": 75,
     "metadata": {},
     "output_type": "execute_result"
    }
   ],
   "source": [
    "grid_rf.best_params_"
   ]
  },
  {
   "cell_type": "code",
   "execution_count": 76,
   "metadata": {
    "scrolled": true
   },
   "outputs": [
    {
     "name": "stdout",
     "output_type": "stream",
     "text": [
      "Training Accuracy:  85.82%\n",
      "Test Accuracy:      85.27%\n",
      "\n",
      "Training AUC:       99.79%\n",
      "Test AUC:           73.74%\n"
     ]
    }
   ],
   "source": [
    "eva(grid_rf, X_train, X_test, y_train, y_test)"
   ]
  },
  {
   "cell_type": "markdown",
   "metadata": {},
   "source": [
    "### d. Xgboost"
   ]
  },
  {
   "cell_type": "code",
   "execution_count": 77,
   "metadata": {},
   "outputs": [],
   "source": [
    "from xgboost import XGBClassifier"
   ]
  },
  {
   "cell_type": "code",
   "execution_count": 78,
   "metadata": {},
   "outputs": [],
   "source": [
    "XGB = XGBClassifier(n_jobs = -1, random_state = 1)"
   ]
  },
  {
   "cell_type": "markdown",
   "metadata": {},
   "source": [
    "- make a pipeline with Xgboost"
   ]
  },
  {
   "cell_type": "code",
   "execution_count": 79,
   "metadata": {},
   "outputs": [],
   "source": [
    "pipeline_xgb = make_pipeline('XGB', XGB)"
   ]
  },
  {
   "cell_type": "markdown",
   "metadata": {},
   "source": [
    "- use GridSearchCV to tune parameters\n",
    "- in the param_grid, specify the candidate parameters"
   ]
  },
  {
   "cell_type": "markdown",
   "metadata": {},
   "source": [
    "- should tune more other candidate value\n",
    "- however, due to computational limitation, we just list a few here"
   ]
  },
  {
   "cell_type": "code",
   "execution_count": 80,
   "metadata": {},
   "outputs": [],
   "source": [
    "np.random.seed(1)\n",
    "\n",
    "param_grid = {}\n",
    "\n",
    "# parameters for TfidfVectorizer\n",
    "param_grid['columtf__tf_idf_vect__max_df'] = [0.9]\n",
    "param_grid['columtf__tf_idf_vect__min_df'] = [5]\n",
    "param_grid['columtf__tf_idf_vect__ngram_range'] = [(1, 1)]\n",
    "\n",
    "# parameters for Xgboost\n",
    "param_grid['XGB__n_estimators'] = [100, 200, 300]\n",
    "param_grid['XGB__learning_rate'] = [0.01, 0.05, 0.1, 0.2, 0.3]\n",
    "param_grid['XGB__gamma'] = [0, 0.1, 0.2, 0.3, 0.4]\n",
    "param_grid['XGB__colsample_bytree'] = [0.5, 0.8]\n",
    "\n",
    "# param_grid['XGB__max_depth'] =  np.arange(3, 5)\n",
    "# param_grid['XGB__subsample'] = np.append(np.random.rand(2), 1)\n",
    "\n",
    "\n",
    "grid_xgb = GridSearchCV(pipeline_xgb, \n",
    "                        param_grid = param_grid, \n",
    "                        scoring = 'accuracy',\n",
    "                        cv = 5, \n",
    "                        return_train_score = True,\n",
    "                        verbose = 1, \n",
    "                        n_jobs = 2)"
   ]
  },
  {
   "cell_type": "markdown",
   "metadata": {},
   "source": [
    "- fit the grid with training dataset"
   ]
  },
  {
   "cell_type": "code",
   "execution_count": 81,
   "metadata": {
    "scrolled": true
   },
   "outputs": [
    {
     "name": "stdout",
     "output_type": "stream",
     "text": [
      "Fitting 5 folds for each of 150 candidates, totalling 750 fits\n"
     ]
    },
    {
     "name": "stderr",
     "output_type": "stream",
     "text": [
      "[Parallel(n_jobs=2)]: Using backend LokyBackend with 2 concurrent workers.\n",
      "[Parallel(n_jobs=2)]: Done  46 tasks      | elapsed:  1.3min\n",
      "[Parallel(n_jobs=2)]: Done 196 tasks      | elapsed:  5.7min\n",
      "[Parallel(n_jobs=2)]: Done 446 tasks      | elapsed: 13.8min\n",
      "[Parallel(n_jobs=2)]: Done 750 out of 750 | elapsed: 26.0min finished\n"
     ]
    },
    {
     "data": {
      "text/plain": [
       "GridSearchCV(cv=5, error_score='raise-deprecating',\n",
       "       estimator=Pipeline(memory=None,\n",
       "     steps=[('columtf', ColumnTransformer(n_jobs=None, remainder='passthrough', sparse_threshold=0.3,\n",
       "         transformer_weights=None,\n",
       "         transformers=[('tf_idf_vect', TfidfVectorizer(analyzer='word', binary=False, decode_error='strict',\n",
       "        dtype=<class 'numpy.float64'>, encoding='utf-8', in...tate=1, reg_alpha=0, reg_lambda=1, scale_pos_weight=1,\n",
       "       seed=None, silent=True, subsample=1))]),\n",
       "       fit_params=None, iid='warn', n_jobs=2,\n",
       "       param_grid={'columtf__tf_idf_vect__max_df': [0.9], 'columtf__tf_idf_vect__min_df': [5], 'columtf__tf_idf_vect__ngram_range': [(1, 1)], 'XGB__n_estimators': [100, 200, 300], 'XGB__learning_rate': [0.01, 0.05, 0.1, 0.2, 0.3], 'XGB__gamma': [0, 0.1, 0.2, 0.3, 0.4], 'XGB__colsample_bytree': [0.5, 0.8]},\n",
       "       pre_dispatch='2*n_jobs', refit=True, return_train_score=True,\n",
       "       scoring='accuracy', verbose=1)"
      ]
     },
     "execution_count": 81,
     "metadata": {},
     "output_type": "execute_result"
    }
   ],
   "source": [
    "grid_xgb.fit(X_train, y_train)"
   ]
  },
  {
   "cell_type": "markdown",
   "metadata": {},
   "source": [
    "- Best parameters"
   ]
  },
  {
   "cell_type": "code",
   "execution_count": 82,
   "metadata": {},
   "outputs": [
    {
     "data": {
      "text/plain": [
       "{'XGB__colsample_bytree': 0.5,\n",
       " 'XGB__gamma': 0,\n",
       " 'XGB__learning_rate': 0.01,\n",
       " 'XGB__n_estimators': 100,\n",
       " 'columtf__tf_idf_vect__max_df': 0.9,\n",
       " 'columtf__tf_idf_vect__min_df': 5,\n",
       " 'columtf__tf_idf_vect__ngram_range': (1, 1)}"
      ]
     },
     "execution_count": 82,
     "metadata": {},
     "output_type": "execute_result"
    }
   ],
   "source": [
    "grid_xgb.best_params_"
   ]
  },
  {
   "cell_type": "code",
   "execution_count": 83,
   "metadata": {},
   "outputs": [
    {
     "name": "stdout",
     "output_type": "stream",
     "text": [
      "Training Accuracy:  85.26%\n",
      "Test Accuracy:      85.27%\n",
      "\n",
      "Training AUC:       84.13%\n",
      "Test AUC:           78.72%\n"
     ]
    }
   ],
   "source": [
    "eva(grid_xgb, X_train, X_test, y_train, y_test)"
   ]
  },
  {
   "cell_type": "markdown",
   "metadata": {},
   "source": [
    "# 6. Insights"
   ]
  },
  {
   "cell_type": "markdown",
   "metadata": {},
   "source": [
    "### a. ROC"
   ]
  },
  {
   "cell_type": "markdown",
   "metadata": {},
   "source": [
    "- ROC and AUC allow us to more generally evaluate the performance of the classifier"
   ]
  },
  {
   "cell_type": "code",
   "execution_count": 84,
   "metadata": {},
   "outputs": [],
   "source": [
    "from sklearn.metrics import roc_curve, auc\n",
    "\n",
    "def roc_plot(model, X_data, y_data):\n",
    "    \"\"\"\n",
    "    Args:\n",
    "        model (list): A list of fitted model\n",
    "        X_data (pandas dataframe): Data to be predicted\n",
    "        y_data (pandas series): Target variable\n",
    "    Returns:\n",
    "        None\n",
    "    \"\"\"\n",
    "    \n",
    "    # colors for different\n",
    "    colors = ['darkorange', 'aqua', 'cornflowerblue', 'red']\n",
    "    \n",
    "    # model name\n",
    "    model_name = ['Logistic', 'SVM', 'RF', 'Xgboost']\n",
    "    \n",
    "    # build plotting \n",
    "    fig, ax = plt.subplots(1, 1, figsize = (8, 6))\n",
    "    \n",
    "    for m, c, mname in zip(model, colors, model_name):\n",
    "    \n",
    "        y_score = m.predict_proba(X_data)[:, 1]\n",
    "    \n",
    "        # Compute ROC curve and ROC area\n",
    "        fpr, tpr, _ = roc_curve(y_data.ravel(), y_score.ravel())\n",
    "        roc_auc = auc(fpr, tpr)\n",
    "    \n",
    "        # plot ROC\n",
    "        lw = 2        \n",
    "        ax.plot(fpr, tpr, color = c,\n",
    "                lw = lw, label = '{0:<8} (AUC = {1:.2%})'.format(mname, roc_auc))\n",
    "        ax.plot([0, 1], [0, 1], color='navy', lw=lw, linestyle='--')\n",
    "        ax.set_xlim([0.0, 1.0])\n",
    "        ax.set_ylim([0.0, 1.05])\n",
    "        ax.set_xlabel('False Positive Rate')\n",
    "        ax.set_ylabel('True Positive Rate')\n",
    "        ax.set_title('Receiver Operating Characteristic Curve')\n",
    "        ax.legend(loc = \"lower right\")"
   ]
  },
  {
   "cell_type": "code",
   "execution_count": 85,
   "metadata": {},
   "outputs": [
    {
     "data": {
      "image/png": "[encoded data removed]",
      "text/plain": [
       "<Figure size 576x432 with 1 Axes>"
      ]
     },
     "metadata": {
      "needs_background": "light"
     },
     "output_type": "display_data"
    }
   ],
   "source": [
    "roc_plot([grid_lr, grid_svm, grid_rf, grid_xgb], X_test, y_test)"
   ]
  },
  {
   "cell_type": "code",
   "execution_count": 86,
   "metadata": {},
   "outputs": [],
   "source": [
    "def model_performance(grid, X_train, X_test, y_train, y_test):\n",
    "    \n",
    "    \"\"\"\n",
    "    Args:\n",
    "        model (list): A list of fitted model\n",
    "        X_train (pandas dataframe): Training data to be predicted\n",
    "        X_test (pandas dataframe): Test data to be predicted\n",
    "        y_train (pandas series): Training Target variable\n",
    "        y_test (pandas series): Test Target variable\n",
    "        \n",
    "    Returns:\n",
    "        performance (pandas series): Dataframe contains performance matrix\n",
    "    \"\"\"\n",
    "    \n",
    "    # model name\n",
    "    model_name = ['Logistic', 'SVM', 'RF', 'Xgboost']\n",
    "    \n",
    "    # initialize dataframe to store performance\n",
    "    performance = pd.DataFrame(columns = ['Model', 'Training_Accuracy', 'Test_Accuracy', 'Training_AUC', 'Test_AUC'])\n",
    "    \n",
    "    # insert values\n",
    "    for mod, mname in zip(grid, model_name):\n",
    "        \n",
    "        # predict on training set\n",
    "        y_train_proba = mod.predict_proba(X_train)[:, 1]\n",
    "        y_train_pred = mod.predict(X_train)\n",
    "        \n",
    "        # calculate training performance\n",
    "        train_acc = metrics.accuracy_score(y_train, y_train_pred)\n",
    "        train_auc = metrics.roc_auc_score(y_train, y_train_proba)\n",
    "        \n",
    "        # predict on test set\n",
    "        y_test_proba = mod.predict_proba(X_test)[:, 1]\n",
    "        y_test_pred = mod.predict(X_test)\n",
    "        \n",
    "        # calculate test performance\n",
    "        test_acc = metrics.accuracy_score(y_test, y_test_pred)\n",
    "        test_auc = metrics.roc_auc_score(y_test, y_test_proba)\n",
    "        \n",
    "        # insert value for each model\n",
    "        performance = performance.append({'Model':mname,\n",
    "                                          'Training_Accuracy':round(train_acc, 3),\n",
    "                                          'Test_Accuracy':round(test_acc, 3),\n",
    "                                          'Training_AUC':round(train_auc, 3),\n",
    "                                          'Test_AUC':round(test_auc, 3)}, \n",
    "                                         ignore_index = True)\n",
    "        \n",
    "    performance.set_index('Model', inplace = True)\n",
    "            \n",
    "    return performance"
   ]
  },
  {
   "cell_type": "code",
   "execution_count": 87,
   "metadata": {},
   "outputs": [],
   "source": [
    "performance = model_performance([grid_lr, grid_svm, grid_rf, grid_xgb], X_train, X_test, y_train, y_test)"
   ]
  },
  {
   "cell_type": "code",
   "execution_count": 88,
   "metadata": {},
   "outputs": [
    {
     "data": {
      "text/html": [
       "<div>\n",
       "<style scoped>\n",
       "    .dataframe tbody tr th:only-of-type {\n",
       "        vertical-align: middle;\n",
       "    }\n",
       "\n",
       "    .dataframe tbody tr th {\n",
       "        vertical-align: top;\n",
       "    }\n",
       "\n",
       "    .dataframe thead th {\n",
       "        text-align: right;\n",
       "    }\n",
       "</style>\n",
       "<table border=\"1\" class=\"dataframe\">\n",
       "  <thead>\n",
       "    <tr style=\"text-align: right;\">\n",
       "      <th></th>\n",
       "      <th>Training_Accuracy</th>\n",
       "      <th>Test_Accuracy</th>\n",
       "      <th>Training_AUC</th>\n",
       "      <th>Test_AUC</th>\n",
       "    </tr>\n",
       "    <tr>\n",
       "      <th>Model</th>\n",
       "      <th></th>\n",
       "      <th></th>\n",
       "      <th></th>\n",
       "      <th></th>\n",
       "    </tr>\n",
       "  </thead>\n",
       "  <tbody>\n",
       "    <tr>\n",
       "      <th>Logistic</th>\n",
       "      <td>0.859</td>\n",
       "      <td>0.852</td>\n",
       "      <td>0.794</td>\n",
       "      <td>0.852</td>\n",
       "    </tr>\n",
       "    <tr>\n",
       "      <th>SVM</th>\n",
       "      <td>0.853</td>\n",
       "      <td>0.853</td>\n",
       "      <td>0.990</td>\n",
       "      <td>0.761</td>\n",
       "    </tr>\n",
       "    <tr>\n",
       "      <th>RF</th>\n",
       "      <td>0.858</td>\n",
       "      <td>0.853</td>\n",
       "      <td>0.998</td>\n",
       "      <td>0.737</td>\n",
       "    </tr>\n",
       "    <tr>\n",
       "      <th>Xgboost</th>\n",
       "      <td>0.853</td>\n",
       "      <td>0.853</td>\n",
       "      <td>0.841</td>\n",
       "      <td>0.787</td>\n",
       "    </tr>\n",
       "  </tbody>\n",
       "</table>\n",
       "</div>"
      ],
      "text/plain": [
       "          Training_Accuracy  Test_Accuracy  Training_AUC  Test_AUC\n",
       "Model                                                             \n",
       "Logistic              0.859          0.852         0.794     0.852\n",
       "SVM                   0.853          0.853         0.990     0.761\n",
       "RF                    0.858          0.853         0.998     0.737\n",
       "Xgboost               0.853          0.853         0.841     0.787"
      ]
     },
     "execution_count": 88,
     "metadata": {},
     "output_type": "execute_result"
    }
   ],
   "source": [
    "performance"
   ]
  },
  {
   "cell_type": "markdown",
   "metadata": {},
   "source": [
    "- Surprisingly, logistic regression turns out to be the best model among four\n",
    "- This could probably be that we do not well tune the parameters for other three models due to computational limitation\n",
    "- If the best parameters are tuned out, the other three models should be able to perform better"
   ]
  },
  {
   "cell_type": "markdown",
   "metadata": {},
   "source": [
    "### b. Feature Importance"
   ]
  },
  {
   "cell_type": "markdown",
   "metadata": {},
   "source": [
    "- From Xgboost we could utilized the feature importance to select the important features"
   ]
  },
  {
   "cell_type": "code",
   "execution_count": 89,
   "metadata": {},
   "outputs": [],
   "source": [
    "def feature_importance_plot(gird, X_train):\n",
    "    \n",
    "    \"\"\"\n",
    "    Args:\n",
    "        grid (sklearn model): A fitted tree-based gridseachcv \n",
    "        X_train: Dataset used to fit the model\n",
    "        \n",
    "    Returns:\n",
    "        None\n",
    "    \n",
    "    \"\"\"\n",
    "\n",
    "    # retrieve columntransformer from grid\n",
    "    col_tran = gird.best_estimator_.named_steps['columtf']\n",
    "\n",
    "    # retrieve all column names from each transformer in columntransformer\n",
    "    tf_idf_vect_colname = col_tran.named_transformers_['tf_idf_vect'].get_feature_names()\n",
    "    scaler_colname = col_tran.transformers_[1][2]\n",
    "    imputer_colname = col_tran.transformers_[2][2]\n",
    "    onehot_colname = col_tran.named_transformers_['onehot'].get_feature_names().tolist()\n",
    "    remainder_colname = X_train.columns[col_tran.transformers_[-1][2]].tolist()\n",
    "\n",
    "    # concatenate all\n",
    "    before_fea_sele_colname = tf_idf_vect_colname + scaler_colname + imputer_colname + onehot_colname + remainder_colname\n",
    "    before_fea_sele_colname = np.array(before_fea_sele_colname)\n",
    "\n",
    "    # retrieve feature selector from grid\n",
    "    feature_selector = gird.best_estimator_.named_steps['feature_selection']\n",
    "    # retrieve selected features from feature selector\n",
    "    selected_boolean = feature_selector.get_support()\n",
    "\n",
    "    # retrieve selected features' name\n",
    "    feature_selected = before_fea_sele_colname[selected_boolean]\n",
    "\n",
    "    # get feature importance from grid\n",
    "    importances = gird.best_estimator_.steps[-1][1].feature_importances_\n",
    "\n",
    "    # get index by order\n",
    "    indices = np.argsort(gird.best_estimator_.steps[-1][1].feature_importances_)[-20:]\n",
    "\n",
    "    # plotting\n",
    "    fig, ax = plt.subplots(1, 1, figsize = (8, 8))\n",
    "    ax.barh(np.arange(len(indices)), importances[indices])\n",
    "    ax.set_yticks(np.arange(len(indices)))\n",
    "    ax.set_yticklabels(feature_selected[indices])"
   ]
  },
  {
   "cell_type": "markdown",
   "metadata": {},
   "source": [
    "- All feature importance sums up to 1\n",
    "- Here we list top 20 features that contribute most to the model prediction\n",
    "- we could find that the danceability, artist types and some vocabularies contribute more to the model"
   ]
  },
  {
   "cell_type": "code",
   "execution_count": 90,
   "metadata": {},
   "outputs": [
    {
     "data": {
      "image/png": "[encoded data removed]",
      "text/plain": [
       "<Figure size 576x576 with 1 Axes>"
      ]
     },
     "metadata": {
      "needs_background": "light"
     },
     "output_type": "display_data"
    }
   ],
   "source": [
    "feature_importance_plot(grid_xgb, X_train)"
   ]
  },
  {
   "cell_type": "markdown",
   "metadata": {},
   "source": [
    "### c. PdpBox"
   ]
  },
  {
   "cell_type": "markdown",
   "metadata": {},
   "source": [
    "- We could use partial dependency plot to further understand the influence of selected features"
   ]
  },
  {
   "cell_type": "code",
   "execution_count": 91,
   "metadata": {},
   "outputs": [],
   "source": [
    "from pdpbox import pdp, info_plots"
   ]
  },
  {
   "cell_type": "code",
   "execution_count": 92,
   "metadata": {},
   "outputs": [],
   "source": [
    "def transformed_data(gird, X_train, X_test):\n",
    "    \n",
    "    \"\"\"\n",
    "    Args:\n",
    "        grid (sklearn model): A fitted tree-based gridseachcv \n",
    "        X_train: Dataset used to fit the model\n",
    "        X_test: Dataset used to test the model\n",
    "        \n",
    "    Returns:\n",
    "        X_train_transformed: Training dataset after transformed and feature selection\n",
    "        X_train_transformed: Test dataset after transformed and feature selection\n",
    "    \"\"\"\n",
    "    \n",
    "    # retrieve columntransformer from grid\n",
    "    col_tran = gird.best_estimator_.named_steps['columtf']\n",
    "\n",
    "    # retrieve all column names from each transformer in columntransformer\n",
    "    tf_idf_vect_colname = col_tran.named_transformers_['tf_idf_vect'].get_feature_names()\n",
    "    scaler_colname = col_tran.transformers_[1][2]\n",
    "    imputer_colname = col_tran.transformers_[2][2]\n",
    "    onehot_colname = col_tran.named_transformers_['onehot'].get_feature_names().tolist()\n",
    "    remainder_colname = X_train.columns[col_tran.transformers_[-1][2]].tolist()\n",
    "\n",
    "    # concatenate all\n",
    "    before_fea_sele_colname = tf_idf_vect_colname + scaler_colname + imputer_colname + onehot_colname + remainder_colname\n",
    "    before_fea_sele_colname = np.array(before_fea_sele_colname)\n",
    "\n",
    "    # retrieve feature selector from grid\n",
    "    feature_selector = gird.best_estimator_.named_steps['feature_selection']\n",
    "    # retrieve selected features from feature selector\n",
    "    selected_boolean = feature_selector.get_support()\n",
    "\n",
    "    # retrieve selected features' name\n",
    "    feature_selected = before_fea_sele_colname[selected_boolean]\n",
    "\n",
    "    # get transformed dataset\n",
    "    X_train_transformed = pd.DataFrame(feature_selector.transform(col_tran.transform(X_train)).toarray(),\n",
    "                                       columns = feature_selected)\n",
    "    X_test_transformed = pd.DataFrame(feature_selector.transform(col_tran.transform(X_test)).toarray(),\n",
    "                                      columns = feature_selected)\n",
    "    \n",
    "    return X_train_transformed, X_test_transformed\n",
    "\n",
    "X_train_transformed, X_test_transformed = transformed_data(grid_xgb, X_train, X_test)"
   ]
  },
  {
   "cell_type": "markdown",
   "metadata": {},
   "source": [
    "- fit xgboost model again using the best parameter for pdp"
   ]
  },
  {
   "cell_type": "code",
   "execution_count": 93,
   "metadata": {
    "scrolled": true
   },
   "outputs": [
    {
     "data": {
      "text/plain": [
       "{'XGB__colsample_bytree': 0.5,\n",
       " 'XGB__gamma': 0,\n",
       " 'XGB__learning_rate': 0.01,\n",
       " 'XGB__n_estimators': 100,\n",
       " 'columtf__tf_idf_vect__max_df': 0.9,\n",
       " 'columtf__tf_idf_vect__min_df': 5,\n",
       " 'columtf__tf_idf_vect__ngram_range': (1, 1)}"
      ]
     },
     "execution_count": 93,
     "metadata": {},
     "output_type": "execute_result"
    }
   ],
   "source": [
    "grid_xgb.best_params_"
   ]
  },
  {
   "cell_type": "code",
   "execution_count": 94,
   "metadata": {},
   "outputs": [
    {
     "data": {
      "text/plain": [
       "XGBClassifier(base_score=0.5, booster='gbtree', colsample_bylevel=1,\n",
       "       colsample_bytree=0.5, gamma=0, learning_rate=0.01, max_delta_step=0,\n",
       "       max_depth=3, min_child_weight=1, missing=None, n_estimators=100,\n",
       "       n_jobs=-1, nthread=None, objective='binary:logistic',\n",
       "       random_state=1, reg_alpha=0, reg_lambda=1, scale_pos_weight=1,\n",
       "       seed=None, silent=True, subsample=1)"
      ]
     },
     "execution_count": 94,
     "metadata": {},
     "output_type": "execute_result"
    }
   ],
   "source": [
    "xgb_pdp = XGBClassifier(n_estimators = 100,\n",
    "                        learning_rate = 0.01,\n",
    "                        gamma = 0,\n",
    "                        colsample_bytree = 0.5,\n",
    "                        random_state = 1,\n",
    "                        n_jobs = -1)\n",
    "\n",
    "xgb_pdp.fit(X_train_transformed, y_train)"
   ]
  },
  {
   "cell_type": "markdown",
   "metadata": {},
   "source": [
    "- pdp of **danceability**, the more the danceability the higher the probability of being popular "
   ]
  },
  {
   "cell_type": "code",
   "execution_count": 95,
   "metadata": {},
   "outputs": [
    {
     "data": {
      "text/plain": [
       "(<Figure size 1080x684 with 2 Axes>,\n",
       " {'title_ax': <matplotlib.axes._subplots.AxesSubplot at 0x1d4410359b0>,\n",
       "  'pdp_ax': <matplotlib.axes._subplots.AxesSubplot at 0x1d4414de940>})"
      ]
     },
     "execution_count": 95,
     "metadata": {},
     "output_type": "execute_result"
    },
    {
     "data": {
      "image/png": "[encoded data removed]",
      "text/plain": [
       "<Figure size 1080x684 with 2 Axes>"
      ]
     },
     "metadata": {
      "needs_background": "light"
     },
     "output_type": "display_data"
    }
   ],
   "source": [
    "pdp_dan = pdp.pdp_isolate(model = xgb_pdp,\n",
    "                          dataset = X_test_transformed, \n",
    "                          model_features = X_test_transformed.columns.tolist(),\n",
    "                          feature = 'danceability')\n",
    "\n",
    "pdp.pdp_plot(pdp_dan, 'Danceability')"
   ]
  },
  {
   "cell_type": "markdown",
   "metadata": {},
   "source": [
    "- pdp of **art_vocalists**, if the artist is vocalist the higher the probability of being popular "
   ]
  },
  {
   "cell_type": "code",
   "execution_count": 96,
   "metadata": {},
   "outputs": [
    {
     "data": {
      "text/plain": [
       "(<Figure size 1080x684 with 2 Axes>,\n",
       " {'title_ax': <matplotlib.axes._subplots.AxesSubplot at 0x1d440bfb780>,\n",
       "  'pdp_ax': <matplotlib.axes._subplots.AxesSubplot at 0x1d4410c8dd8>})"
      ]
     },
     "execution_count": 96,
     "metadata": {},
     "output_type": "execute_result"
    },
    {
     "data": {
      "image/png": "[encoded data removed]",
      "text/plain": [
       "<Figure size 1080x684 with 2 Axes>"
      ]
     },
     "metadata": {
      "needs_background": "light"
     },
     "output_type": "display_data"
    }
   ],
   "source": [
    "pdp_voc = pdp.pdp_isolate(model = xgb_pdp, \n",
    "                          dataset = X_test_transformed, \n",
    "                          model_features = X_test_transformed.columns.tolist(),\n",
    "                          feature = 'art_vocalists')\n",
    "\n",
    "pdp.pdp_plot(pdp_voc, 'Artist Type - Vocalists')"
   ]
  },
  {
   "cell_type": "markdown",
   "metadata": {},
   "source": [
    "- pdp of **hurt**, if the song contains the word hurt the higher the probability of being popular"
   ]
  },
  {
   "cell_type": "code",
   "execution_count": 97,
   "metadata": {},
   "outputs": [
    {
     "data": {
      "text/plain": [
       "(<Figure size 1080x684 with 2 Axes>,\n",
       " {'title_ax': <matplotlib.axes._subplots.AxesSubplot at 0x1d440e76ef0>,\n",
       "  'pdp_ax': <matplotlib.axes._subplots.AxesSubplot at 0x1d440e202b0>})"
      ]
     },
     "execution_count": 97,
     "metadata": {},
     "output_type": "execute_result"
    },
    {
     "data": {
      "image/png": "[encoded data removed]",
      "text/plain": [
       "<Figure size 1080x684 with 2 Axes>"
      ]
     },
     "metadata": {
      "needs_background": "light"
     },
     "output_type": "display_data"
    }
   ],
   "source": [
    "pdp_dan = pdp.pdp_isolate(model = xgb_pdp,\n",
    "                          dataset = X_test_transformed, \n",
    "                          model_features = X_test_transformed.columns.tolist(),\n",
    "                          feature = 'hurt')\n",
    "\n",
    "pdp.pdp_plot(pdp_dan, 'Vacobulary: Hurt')"
   ]
  }
 ],
 "metadata": {
  "kernelspec": {
   "display_name": "Python 3",
   "language": "python",
   "name": "python3"
  },
  "language_info": {
   "codemirror_mode": {
    "name": "ipython",
    "version": 3
   },
   "file_extension": ".py",
   "mimetype": "text/x-python",
   "name": "python",
   "nbconvert_exporter": "python",
   "pygments_lexer": "ipython3",
   "version": "3.6.7"
  }
 },
 "nbformat": 4,
 "nbformat_minor": 2
}
